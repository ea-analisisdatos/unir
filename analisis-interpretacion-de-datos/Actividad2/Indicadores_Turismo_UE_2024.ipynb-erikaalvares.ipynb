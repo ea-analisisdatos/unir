{
 "cells": [
  {
   "cell_type": "markdown",
   "id": "cca53498",
   "metadata": {},
   "source": [
    "<div align=\"right\"><img src=\"https://www.unir.net/wp-content/uploads/2019/11/Unir_2021_logo.svg\" height=\"200px\" width=\"25%\"></div>\n",
    "\n",
    "<h1 style=\"text-align: left; color: #2e6c80;\">Actividad Grupal – Análisis e Interpretación de Datos </h1>\n",
    "\n",
    "<p>\n",
    "<b>Profesor:</b>  Gustavo Fontana Riera <br>\n",
    "<b>Fecha de entrega:</b>  05/05/2025 <br>\n",
    "<b>Alumnos: <br>\n",
    "    </b>- Erika Samara Alvares Angelim <br>\n",
    "    </b>- Laila<br>\n",
    "    </b>- Rocío <br>\n",
    "    </b>- Joel<br>\n",
    "    </b>- Pepe<br>\n",
    "</p>\n",
    "\n",
    "---"
   ]
  },
  {
   "cell_type": "markdown",
   "id": "b31208eb",
   "metadata": {},
   "source": [
    "## ✔️Instalar las bibliotecas necesarias"
   ]
  },
  {
   "cell_type": "code",
   "execution_count": 21,
   "id": "14b93c83",
   "metadata": {},
   "outputs": [
    {
     "name": "stdout",
     "output_type": "stream",
     "text": [
      "✅ numpy ya está instalado.\n",
      "✅ matplotlib ya está instalado.\n",
      "✅ pandas ya está instalado.\n",
      "✅ seaborn ya está instalado.\n",
      "✅ scikit-learn ya está instalado.\n",
      "✅ statsmodels ya está instalado.\n",
      "✅ plotly.express ya está instalado.\n",
      "✅ imblearn ya está instalado.\n",
      "✅ mord ya está instalado.\n",
      "✅ Todas las librerías necesarias están instaladas.\n",
      "\n",
      "--- ✅ Librerías Importadas con Exito ---\n"
     ]
    }
   ],
   "source": [
    "# Instalar librerías necesarias para el análisis de datos y la visualización\n",
    "\n",
    "# Primero verifica si las librerías de Ciencias de Datos estan todas instaladas y si no, las instalan\n",
    "import importlib\n",
    "import subprocess\n",
    "import sys\n",
    "\n",
    "def install_if_missing(package_name, import_name=None):\n",
    "    try:\n",
    "        importlib.import_module(import_name or package_name)\n",
    "        print(f\"✅ {package_name} ya está instalado.\")\n",
    "    except ImportError:\n",
    "        print(f\"⬇️ Instalando {package_name}...\")\n",
    "        subprocess.check_call([sys.executable, \"-m\", \"pip\", \"install\", package_name])\n",
    "\n",
    "# Lista de paquetes a verificar\n",
    "packages = {\n",
    "    \"numpy\": \"numpy\",\n",
    "    \"matplotlib\": \"matplotlib\",\n",
    "    \"pandas\": \"pandas\",\n",
    "    \"seaborn\": \"seaborn\",\n",
    "    \"scikit-learn\": \"sklearn\",\n",
    "    \"statsmodels\": \"statsmodels\",\n",
    "    \"plotly.express\": \"plotly.express\",\n",
    "    \"imblearn\": \"imblearn\",\n",
    "    \"mord\": \"mord\",\n",
    "}\n",
    "for pkg, import_name in packages.items():\n",
    "    install_if_missing(pkg, import_name)\n",
    "print(\"✅ Todas las librerías necesarias están instaladas.\")\n",
    "\n",
    "\n",
    "#Para esta actividad se importarán las siguientes librerías:\n",
    "import pandas as pd\n",
    "import numpy as np\n",
    "import matplotlib.pyplot as plt\n",
    "import seaborn as sns\n",
    "import time\n",
    "\n",
    "\n",
    "from sklearn.preprocessing import StandardScaler\n",
    "from sklearn.decomposition import PCA\n",
    "from pandas.plotting import parallel_coordinates\n",
    "\n",
    "\n",
    "\n",
    "from sklearn.exceptions import NotFittedError\n",
    "from sklearn.preprocessing import OrdinalEncoder, label_binarize\n",
    "from sklearn.model_selection import train_test_split, GridSearchCV, cross_val_score\n",
    "from sklearn.linear_model import LogisticRegression\n",
    "from sklearn.ensemble import RandomForestClassifier, GradientBoostingRegressor, BaggingClassifier, VotingClassifier, StackingClassifier,  GradientBoostingRegressor\n",
    "import mord\n",
    "\n",
    "\n",
    "from sklearn.feature_selection import SelectFromModel\n",
    "from sklearn.inspection import permutation_importance\n",
    "from itertools import cycle\n",
    "from sklearn.tree import DecisionTreeClassifier, plot_tree\n",
    "from sklearn.utils.multiclass import unique_labels\n",
    "from sklearn.metrics import (\n",
    "    classification_report,\n",
    "    confusion_matrix,\n",
    "    ConfusionMatrixDisplay,\n",
    "    accuracy_score,\n",
    "    f1_score,\n",
    "    precision_score,\n",
    "    recall_score,\n",
    "    make_scorer,\n",
    "    get_scorer,\n",
    "    roc_curve,\n",
    "    auc,\n",
    "    mean_absolute_error)\n",
    "\n",
    "\n",
    "\n",
    "# Biblioteca para manejar las advertencias en Python\n",
    "import warnings\n",
    "warnings.filterwarnings('ignore')\n",
    "\n",
    "# Configuración de estilo de visualización\n",
    "sns.set_theme(style=\"ticks\", palette=\"deep\")\n",
    "\n",
    "print(\"\\n--- ✅ Librerías Importadas con Exito ---\")"
   ]
  },
  {
   "cell_type": "markdown",
   "id": "a71fbb9d",
   "metadata": {},
   "source": [
    "## Importar librerías"
   ]
  },
  {
   "cell_type": "code",
   "execution_count": 22,
   "id": "57145128",
   "metadata": {},
   "outputs": [],
   "source": [
    "import pandas as pd\n",
    "import numpy as np\n",
    "import matplotlib.pyplot as plt\n",
    "import seaborn as sns\n",
    "import warnings\n"
   ]
  },
  {
   "cell_type": "markdown",
   "id": "e515adea",
   "metadata": {},
   "source": [
    "## ✔️Configurar el entorno"
   ]
  },
  {
   "cell_type": "code",
   "execution_count": 23,
   "id": "b07fbcb2",
   "metadata": {},
   "outputs": [
    {
     "data": {
      "text/html": [
       "<style>.container { width:100% !important; }</style>"
      ],
      "text/plain": [
       "<IPython.core.display.HTML object>"
      ]
     },
     "metadata": {},
     "output_type": "display_data"
    }
   ],
   "source": [
    "import warnings\n",
    "warnings.filterwarnings(\"ignore\")\n",
    "\n",
    "# Mostrar todas las columnas sin truncamiento\n",
    "pd.set_option('display.max_columns', None)       # Muestra todas las columnas\n",
    "pd.set_option('display.max_rows', None)          # Muestra todas las filas\n",
    "\n",
    "pd.options.display.float_format = '{:.8f}'.format\n",
    "#pd.set_option('display.width', 1000)\n",
    "\n",
    "\n",
    "# Ocultar warnings\n",
    "warnings.filterwarnings('ignore')\n",
    "\n",
    "# Ajustar el ancho del contenedor de Jupyter/Colab:\n",
    "from IPython.display import display, HTML\n",
    "display(HTML(\"<style>.container { width:100% !important; }</style>\"))\n",
    "\n",
    "\n",
    "# Configuración general de gráficos\n",
    "sns.set(style=\"whitegrid\") # plt.style.use('ggplot')\n",
    "plt.rcParams[\"figure.figsize\"] = (12, 6)\n",
    "\n",
    "\n",
    "\n",
    "#plt.style.use('fivethirtyeight')\n",
    "#plt.rcParams['figure.figsize'] = (10, 6)"
   ]
  },
  {
   "cell_type": "markdown",
   "id": "77496f90",
   "metadata": {},
   "source": [
    "https://raw.githubusercontent.com/ea-analisisdatos/unir/refs/heads/main/datos/2024-TourismDashboard-Indicators-Export-csv.csv\n",
    "\n",
    "Fuentes de datos:\n",
    "- https://ec.europa.eu/eurostat/web/nuts?etrans=es\n",
    "- https://data.jrc.ec.europa.eu/dataset/9564824a-7f16-4efa-82fb-d4e176350026"
   ]
  },
  {
   "cell_type": "markdown",
   "id": "336e5a01",
   "metadata": {},
   "source": [
    "## Cargar el Dataset"
   ]
  },
  {
   "cell_type": "code",
   "execution_count": 24,
   "id": "74f2e89c",
   "metadata": {},
   "outputs": [
    {
     "data": {
      "application/vnd.microsoft.datawrangler.viewer.v0+json": {
       "columns": [
        {
         "name": "index",
         "rawType": "int64",
         "type": "integer"
        },
        {
         "name": "pillar",
         "rawType": "object",
         "type": "string"
        },
        {
         "name": "code",
         "rawType": "object",
         "type": "string"
        },
        {
         "name": "indicator",
         "rawType": "object",
         "type": "string"
        },
        {
         "name": "component",
         "rawType": "object",
         "type": "string"
        },
        {
         "name": "year",
         "rawType": "int64",
         "type": "integer"
        },
        {
         "name": "nuts_code_2021",
         "rawType": "object",
         "type": "string"
        },
        {
         "name": "unit",
         "rawType": "object",
         "type": "string"
        },
        {
         "name": "value",
         "rawType": "float64",
         "type": "float"
        }
       ],
       "ref": "df0031be-4d14-418f-8503-958ed3fc38fc",
       "rows": [
        [
         "0",
         "Basic descriptors",
         "TOUR_DES_01",
         "Nights spent",
         "Night spent",
         "2019",
         "ES",
         "number",
         "469813551.0"
        ],
        [
         "1",
         "Basic descriptors",
         "TOUR_DES_01",
         "Nights spent",
         "Night spent",
         "2020",
         "ES",
         "number",
         "144677028.0"
        ],
        [
         "2",
         "Basic descriptors",
         "TOUR_DES_01",
         "Nights spent",
         "Night spent",
         "2021",
         "ES",
         "number",
         "259579759.0"
        ],
        [
         "3",
         "Basic descriptors",
         "TOUR_DES_01",
         "Nights spent",
         "Night spent",
         "2022",
         "ES",
         "number",
         "451624940.0"
        ],
        [
         "4",
         "Basic descriptors",
         "TOUR_DES_01",
         "Nights spent",
         "Night spent",
         "2023",
         "ES",
         "number",
         "484987485.0"
        ]
       ],
       "shape": {
        "columns": 8,
        "rows": 5
       }
      },
      "text/html": [
       "<div>\n",
       "<style scoped>\n",
       "    .dataframe tbody tr th:only-of-type {\n",
       "        vertical-align: middle;\n",
       "    }\n",
       "\n",
       "    .dataframe tbody tr th {\n",
       "        vertical-align: top;\n",
       "    }\n",
       "\n",
       "    .dataframe thead th {\n",
       "        text-align: right;\n",
       "    }\n",
       "</style>\n",
       "<table border=\"1\" class=\"dataframe\">\n",
       "  <thead>\n",
       "    <tr style=\"text-align: right;\">\n",
       "      <th></th>\n",
       "      <th>pillar</th>\n",
       "      <th>code</th>\n",
       "      <th>indicator</th>\n",
       "      <th>component</th>\n",
       "      <th>year</th>\n",
       "      <th>nuts_code_2021</th>\n",
       "      <th>unit</th>\n",
       "      <th>value</th>\n",
       "    </tr>\n",
       "  </thead>\n",
       "  <tbody>\n",
       "    <tr>\n",
       "      <th>0</th>\n",
       "      <td>Basic descriptors</td>\n",
       "      <td>TOUR_DES_01</td>\n",
       "      <td>Nights spent</td>\n",
       "      <td>Night spent</td>\n",
       "      <td>2019</td>\n",
       "      <td>ES</td>\n",
       "      <td>number</td>\n",
       "      <td>469813551.00000000</td>\n",
       "    </tr>\n",
       "    <tr>\n",
       "      <th>1</th>\n",
       "      <td>Basic descriptors</td>\n",
       "      <td>TOUR_DES_01</td>\n",
       "      <td>Nights spent</td>\n",
       "      <td>Night spent</td>\n",
       "      <td>2020</td>\n",
       "      <td>ES</td>\n",
       "      <td>number</td>\n",
       "      <td>144677028.00000000</td>\n",
       "    </tr>\n",
       "    <tr>\n",
       "      <th>2</th>\n",
       "      <td>Basic descriptors</td>\n",
       "      <td>TOUR_DES_01</td>\n",
       "      <td>Nights spent</td>\n",
       "      <td>Night spent</td>\n",
       "      <td>2021</td>\n",
       "      <td>ES</td>\n",
       "      <td>number</td>\n",
       "      <td>259579759.00000000</td>\n",
       "    </tr>\n",
       "    <tr>\n",
       "      <th>3</th>\n",
       "      <td>Basic descriptors</td>\n",
       "      <td>TOUR_DES_01</td>\n",
       "      <td>Nights spent</td>\n",
       "      <td>Night spent</td>\n",
       "      <td>2022</td>\n",
       "      <td>ES</td>\n",
       "      <td>number</td>\n",
       "      <td>451624940.00000000</td>\n",
       "    </tr>\n",
       "    <tr>\n",
       "      <th>4</th>\n",
       "      <td>Basic descriptors</td>\n",
       "      <td>TOUR_DES_01</td>\n",
       "      <td>Nights spent</td>\n",
       "      <td>Night spent</td>\n",
       "      <td>2023</td>\n",
       "      <td>ES</td>\n",
       "      <td>number</td>\n",
       "      <td>484987485.00000000</td>\n",
       "    </tr>\n",
       "  </tbody>\n",
       "</table>\n",
       "</div>"
      ],
      "text/plain": [
       "              pillar         code     indicator    component  year  \\\n",
       "0  Basic descriptors  TOUR_DES_01  Nights spent  Night spent  2019   \n",
       "1  Basic descriptors  TOUR_DES_01  Nights spent  Night spent  2020   \n",
       "2  Basic descriptors  TOUR_DES_01  Nights spent  Night spent  2021   \n",
       "3  Basic descriptors  TOUR_DES_01  Nights spent  Night spent  2022   \n",
       "4  Basic descriptors  TOUR_DES_01  Nights spent  Night spent  2023   \n",
       "\n",
       "  nuts_code_2021    unit              value  \n",
       "0             ES  number 469813551.00000000  \n",
       "1             ES  number 144677028.00000000  \n",
       "2             ES  number 259579759.00000000  \n",
       "3             ES  number 451624940.00000000  \n",
       "4             ES  number 484987485.00000000  "
      ]
     },
     "execution_count": 24,
     "metadata": {},
     "output_type": "execute_result"
    }
   ],
   "source": [
    "\n",
    "# URL del archivo CSV\n",
    "url = \"https://raw.githubusercontent.com/ea-analisisdatos/unir/refs/heads/main/datos/2024-TourismDashboard-Indicators-Export-Spain.csv\"\n",
    "\n",
    "# Cargar el CSV en un DataFrame\n",
    "df_turismo = pd.read_csv(url)\n",
    "\n",
    "# Vista previa\n",
    "df_turismo.head()\n"
   ]
  },
  {
   "cell_type": "code",
   "execution_count": 25,
   "id": "19d77e68",
   "metadata": {},
   "outputs": [
    {
     "data": {
      "application/vnd.microsoft.datawrangler.viewer.v0+json": {
       "columns": [
        {
         "name": "index",
         "rawType": "int64",
         "type": "integer"
        },
        {
         "name": "pillar",
         "rawType": "object",
         "type": "string"
        },
        {
         "name": "code",
         "rawType": "object",
         "type": "string"
        },
        {
         "name": "indicator",
         "rawType": "object",
         "type": "string"
        },
        {
         "name": "component",
         "rawType": "object",
         "type": "string"
        },
        {
         "name": "year",
         "rawType": "int64",
         "type": "integer"
        },
        {
         "name": "nuts_code_2021",
         "rawType": "object",
         "type": "string"
        },
        {
         "name": "unit",
         "rawType": "object",
         "type": "string"
        },
        {
         "name": "value",
         "rawType": "float64",
         "type": "float"
        }
       ],
       "ref": "34278ce0-ef46-4cd8-baa4-2a02b7fc4b10",
       "rows": [
        [
         "4521",
         "Socio-economic pillar",
         "TOUR_SOE_11",
         "Tourism enterprises by size",
         "Small Enterprises",
         "2019",
         "ES",
         "%",
         "2.1"
        ],
        [
         "4522",
         "Socio-economic pillar",
         "TOUR_SOE_11",
         "Tourism enterprises by size",
         "Small Enterprises",
         "2020",
         "ES",
         "%",
         "1.7"
        ],
        [
         "4523",
         "Socio-economic pillar",
         "TOUR_SOE_11",
         "Tourism enterprises by size",
         "Small Enterprises",
         "2021",
         "ES",
         "%",
         "1.5"
        ],
        [
         "4524",
         "Socio-economic pillar",
         "TOUR_SOE_11",
         "Tourism enterprises by size",
         "Small Enterprises",
         "2022",
         "ES",
         "%",
         "1.7"
        ],
        [
         "4525",
         "Socio-economic pillar",
         "TOUR_SOE_11",
         "Tourism enterprises by size",
         "Small Enterprises",
         "2023",
         "ES",
         "%",
         "2.9"
        ]
       ],
       "shape": {
        "columns": 8,
        "rows": 5
       }
      },
      "text/html": [
       "<div>\n",
       "<style scoped>\n",
       "    .dataframe tbody tr th:only-of-type {\n",
       "        vertical-align: middle;\n",
       "    }\n",
       "\n",
       "    .dataframe tbody tr th {\n",
       "        vertical-align: top;\n",
       "    }\n",
       "\n",
       "    .dataframe thead th {\n",
       "        text-align: right;\n",
       "    }\n",
       "</style>\n",
       "<table border=\"1\" class=\"dataframe\">\n",
       "  <thead>\n",
       "    <tr style=\"text-align: right;\">\n",
       "      <th></th>\n",
       "      <th>pillar</th>\n",
       "      <th>code</th>\n",
       "      <th>indicator</th>\n",
       "      <th>component</th>\n",
       "      <th>year</th>\n",
       "      <th>nuts_code_2021</th>\n",
       "      <th>unit</th>\n",
       "      <th>value</th>\n",
       "    </tr>\n",
       "  </thead>\n",
       "  <tbody>\n",
       "    <tr>\n",
       "      <th>4521</th>\n",
       "      <td>Socio-economic pillar</td>\n",
       "      <td>TOUR_SOE_11</td>\n",
       "      <td>Tourism enterprises by size</td>\n",
       "      <td>Small Enterprises</td>\n",
       "      <td>2019</td>\n",
       "      <td>ES</td>\n",
       "      <td>%</td>\n",
       "      <td>2.10000000</td>\n",
       "    </tr>\n",
       "    <tr>\n",
       "      <th>4522</th>\n",
       "      <td>Socio-economic pillar</td>\n",
       "      <td>TOUR_SOE_11</td>\n",
       "      <td>Tourism enterprises by size</td>\n",
       "      <td>Small Enterprises</td>\n",
       "      <td>2020</td>\n",
       "      <td>ES</td>\n",
       "      <td>%</td>\n",
       "      <td>1.70000000</td>\n",
       "    </tr>\n",
       "    <tr>\n",
       "      <th>4523</th>\n",
       "      <td>Socio-economic pillar</td>\n",
       "      <td>TOUR_SOE_11</td>\n",
       "      <td>Tourism enterprises by size</td>\n",
       "      <td>Small Enterprises</td>\n",
       "      <td>2021</td>\n",
       "      <td>ES</td>\n",
       "      <td>%</td>\n",
       "      <td>1.50000000</td>\n",
       "    </tr>\n",
       "    <tr>\n",
       "      <th>4524</th>\n",
       "      <td>Socio-economic pillar</td>\n",
       "      <td>TOUR_SOE_11</td>\n",
       "      <td>Tourism enterprises by size</td>\n",
       "      <td>Small Enterprises</td>\n",
       "      <td>2022</td>\n",
       "      <td>ES</td>\n",
       "      <td>%</td>\n",
       "      <td>1.70000000</td>\n",
       "    </tr>\n",
       "    <tr>\n",
       "      <th>4525</th>\n",
       "      <td>Socio-economic pillar</td>\n",
       "      <td>TOUR_SOE_11</td>\n",
       "      <td>Tourism enterprises by size</td>\n",
       "      <td>Small Enterprises</td>\n",
       "      <td>2023</td>\n",
       "      <td>ES</td>\n",
       "      <td>%</td>\n",
       "      <td>2.90000000</td>\n",
       "    </tr>\n",
       "  </tbody>\n",
       "</table>\n",
       "</div>"
      ],
      "text/plain": [
       "                     pillar         code                    indicator  \\\n",
       "4521  Socio-economic pillar  TOUR_SOE_11  Tourism enterprises by size   \n",
       "4522  Socio-economic pillar  TOUR_SOE_11  Tourism enterprises by size   \n",
       "4523  Socio-economic pillar  TOUR_SOE_11  Tourism enterprises by size   \n",
       "4524  Socio-economic pillar  TOUR_SOE_11  Tourism enterprises by size   \n",
       "4525  Socio-economic pillar  TOUR_SOE_11  Tourism enterprises by size   \n",
       "\n",
       "              component  year nuts_code_2021 unit      value  \n",
       "4521  Small Enterprises  2019             ES    % 2.10000000  \n",
       "4522  Small Enterprises  2020             ES    % 1.70000000  \n",
       "4523  Small Enterprises  2021             ES    % 1.50000000  \n",
       "4524  Small Enterprises  2022             ES    % 1.70000000  \n",
       "4525  Small Enterprises  2023             ES    % 2.90000000  "
      ]
     },
     "execution_count": 25,
     "metadata": {},
     "output_type": "execute_result"
    }
   ],
   "source": [
    "df_turismo.tail()"
   ]
  },
  {
   "cell_type": "code",
   "execution_count": 26,
   "id": "59e0388b",
   "metadata": {},
   "outputs": [
    {
     "data": {
      "application/vnd.microsoft.datawrangler.viewer.v0+json": {
       "columns": [
        {
         "name": "index",
         "rawType": "int64",
         "type": "integer"
        },
        {
         "name": "pillar",
         "rawType": "object",
         "type": "string"
        },
        {
         "name": "code",
         "rawType": "object",
         "type": "string"
        },
        {
         "name": "indicator",
         "rawType": "object",
         "type": "string"
        },
        {
         "name": "component",
         "rawType": "object",
         "type": "string"
        },
        {
         "name": "year",
         "rawType": "int64",
         "type": "integer"
        },
        {
         "name": "nuts_code_2021",
         "rawType": "object",
         "type": "string"
        },
        {
         "name": "unit",
         "rawType": "object",
         "type": "string"
        },
        {
         "name": "value",
         "rawType": "float64",
         "type": "float"
        }
       ],
       "ref": "fcc85c0f-bfad-496d-b680-d91eace1fcf4",
       "rows": [
        [
         "1663",
         "Basic descriptors",
         "TOUR_DES_09",
         "Progress of tourism demand recovery",
         "Progress of tourism recovery",
         "2020",
         "ES",
         "%",
         "30.79"
        ],
        [
         "2990",
         "Green pillar",
         "TOUR_ENV_05",
         "Excellent bathing water",
         "Excellent bathing water",
         "2023",
         "ES21",
         "%",
         "88.71"
        ],
        [
         "391",
         "Basic descriptors",
         "TOUR_DES_01",
         "Nights spent",
         "Night spent",
         "2020",
         "ES709",
         "number",
         "10260271.0"
        ],
        [
         "4337",
         "Socio-economic pillar",
         "TOUR_SOE_04",
         "Tourism diversity",
         "Tourism diversity",
         "2023",
         "ES11",
         "index",
         "0.7436"
        ],
        [
         "2418",
         "Basic descriptors",
         "TOUR_DES_12",
         "Share of protected/designated land",
         "Protected land",
         "2020",
         "ES432",
         "%",
         "36.09"
        ]
       ],
       "shape": {
        "columns": 8,
        "rows": 5
       }
      },
      "text/html": [
       "<div>\n",
       "<style scoped>\n",
       "    .dataframe tbody tr th:only-of-type {\n",
       "        vertical-align: middle;\n",
       "    }\n",
       "\n",
       "    .dataframe tbody tr th {\n",
       "        vertical-align: top;\n",
       "    }\n",
       "\n",
       "    .dataframe thead th {\n",
       "        text-align: right;\n",
       "    }\n",
       "</style>\n",
       "<table border=\"1\" class=\"dataframe\">\n",
       "  <thead>\n",
       "    <tr style=\"text-align: right;\">\n",
       "      <th></th>\n",
       "      <th>pillar</th>\n",
       "      <th>code</th>\n",
       "      <th>indicator</th>\n",
       "      <th>component</th>\n",
       "      <th>year</th>\n",
       "      <th>nuts_code_2021</th>\n",
       "      <th>unit</th>\n",
       "      <th>value</th>\n",
       "    </tr>\n",
       "  </thead>\n",
       "  <tbody>\n",
       "    <tr>\n",
       "      <th>1663</th>\n",
       "      <td>Basic descriptors</td>\n",
       "      <td>TOUR_DES_09</td>\n",
       "      <td>Progress of tourism demand recovery</td>\n",
       "      <td>Progress of tourism recovery</td>\n",
       "      <td>2020</td>\n",
       "      <td>ES</td>\n",
       "      <td>%</td>\n",
       "      <td>30.79000000</td>\n",
       "    </tr>\n",
       "    <tr>\n",
       "      <th>2990</th>\n",
       "      <td>Green pillar</td>\n",
       "      <td>TOUR_ENV_05</td>\n",
       "      <td>Excellent bathing water</td>\n",
       "      <td>Excellent bathing water</td>\n",
       "      <td>2023</td>\n",
       "      <td>ES21</td>\n",
       "      <td>%</td>\n",
       "      <td>88.71000000</td>\n",
       "    </tr>\n",
       "    <tr>\n",
       "      <th>391</th>\n",
       "      <td>Basic descriptors</td>\n",
       "      <td>TOUR_DES_01</td>\n",
       "      <td>Nights spent</td>\n",
       "      <td>Night spent</td>\n",
       "      <td>2020</td>\n",
       "      <td>ES709</td>\n",
       "      <td>number</td>\n",
       "      <td>10260271.00000000</td>\n",
       "    </tr>\n",
       "    <tr>\n",
       "      <th>4337</th>\n",
       "      <td>Socio-economic pillar</td>\n",
       "      <td>TOUR_SOE_04</td>\n",
       "      <td>Tourism diversity</td>\n",
       "      <td>Tourism diversity</td>\n",
       "      <td>2023</td>\n",
       "      <td>ES11</td>\n",
       "      <td>index</td>\n",
       "      <td>0.74360000</td>\n",
       "    </tr>\n",
       "    <tr>\n",
       "      <th>2418</th>\n",
       "      <td>Basic descriptors</td>\n",
       "      <td>TOUR_DES_12</td>\n",
       "      <td>Share of protected/designated land</td>\n",
       "      <td>Protected land</td>\n",
       "      <td>2020</td>\n",
       "      <td>ES432</td>\n",
       "      <td>%</td>\n",
       "      <td>36.09000000</td>\n",
       "    </tr>\n",
       "  </tbody>\n",
       "</table>\n",
       "</div>"
      ],
      "text/plain": [
       "                     pillar         code                            indicator  \\\n",
       "1663      Basic descriptors  TOUR_DES_09  Progress of tourism demand recovery   \n",
       "2990           Green pillar  TOUR_ENV_05              Excellent bathing water   \n",
       "391       Basic descriptors  TOUR_DES_01                         Nights spent   \n",
       "4337  Socio-economic pillar  TOUR_SOE_04                    Tourism diversity   \n",
       "2418      Basic descriptors  TOUR_DES_12   Share of protected/designated land   \n",
       "\n",
       "                         component  year nuts_code_2021    unit  \\\n",
       "1663  Progress of tourism recovery  2020             ES       %   \n",
       "2990       Excellent bathing water  2023           ES21       %   \n",
       "391                    Night spent  2020          ES709  number   \n",
       "4337             Tourism diversity  2023           ES11   index   \n",
       "2418                Protected land  2020          ES432       %   \n",
       "\n",
       "                 value  \n",
       "1663       30.79000000  \n",
       "2990       88.71000000  \n",
       "391  10260271.00000000  \n",
       "4337        0.74360000  \n",
       "2418       36.09000000  "
      ]
     },
     "execution_count": 26,
     "metadata": {},
     "output_type": "execute_result"
    }
   ],
   "source": [
    "# CUIDADO con datasets grandes\n",
    "# si hay muchas columnas y muchas filas el pairplot puede tardar bastante\n",
    "df_turismo = df_turismo.sample(100) # toma una muestra de forma aleatoria\n",
    "df_turismo.head()"
   ]
  },
  {
   "cell_type": "code",
   "execution_count": null,
   "id": "8e078e2c",
   "metadata": {},
   "outputs": [],
   "source": []
  },
  {
   "cell_type": "markdown",
   "id": "74e1411e",
   "metadata": {},
   "source": [
    "## 📊 Análisis multivariado:\n",
    "\n",
    "En el archivo que estamos trabajando (2024-TourismDashboard-Indicators-Export-Spain.csv), hay columnas como:\n",
    "\n",
    "- indicator: nombre general del indicador (ej. Tourism demand, Tourism economy, etc.)\n",
    "- component: una subdivisión o dimensión específica del indicador (ej. Number of nights, GDP, etc.)\n",
    "- unit: la unidad de medida (ej. percentage, million euros, nights, etc.)\n",
    "- value: el dato numérico que representa la combinación indicator + component + unit + region + year.\n",
    "\n",
    "Por tanto:\n",
    "\n",
    "- La columna value no tiene una única escala ni una única interpretación.\n",
    "- La clave está en que el campo value solo tiene sentido cuando lo contextualizas con indicator, component y unit. \n",
    "- ⚠️ Ignorar esto puede llevarte a gráficos sin sentido, errores de interpretación o conclusiones inválidas.\n",
    "\n",
    "Tipo de Gráficas para hacer el Análisis Multivariado:\n",
    "- Correlación (matriz de correlación y mapa de calor)\n",
    "- Análisis de Componentes Principales (PCA)\n",
    "- Gráficos de dispersión múltiple (pairplot)\n",
    "- Gráfico paralelo (parallel_coordinates)\n",
    "- Gráfico de radar (si aplica)\n",
    "- Agrupación por categorías (boxplot por regiones o años, etc.)"
   ]
  },
  {
   "cell_type": "markdown",
   "id": "572deaa5",
   "metadata": {},
   "source": [
    "📋 Exploración inicial del dataset"
   ]
  },
  {
   "cell_type": "code",
   "execution_count": 32,
   "id": "cd3c332a",
   "metadata": {},
   "outputs": [
    {
     "name": "stdout",
     "output_type": "stream",
     "text": [
      "<class 'pandas.core.frame.DataFrame'>\n",
      "Index: 100 entries, 1663 to 2636\n",
      "Data columns (total 9 columns):\n",
      " #   Column           Non-Null Count  Dtype         \n",
      "---  ------           --------------  -----         \n",
      " 0   pillar           100 non-null    object        \n",
      " 1   code             100 non-null    object        \n",
      " 2   indicator        100 non-null    object        \n",
      " 3   component        100 non-null    object        \n",
      " 4   year             100 non-null    datetime64[ns]\n",
      " 5   nuts_code_2021   100 non-null    object        \n",
      " 6   unit             100 non-null    object        \n",
      " 7   value            100 non-null    float64       \n",
      " 8   clave_indicador  100 non-null    object        \n",
      "dtypes: datetime64[ns](1), float64(1), object(7)\n",
      "memory usage: 7.8+ KB\n"
     ]
    },
    {
     "data": {
      "application/vnd.microsoft.datawrangler.viewer.v0+json": {
       "columns": [
        {
         "name": "index",
         "rawType": "object",
         "type": "string"
        },
        {
         "name": "pillar",
         "rawType": "object",
         "type": "unknown"
        },
        {
         "name": "code",
         "rawType": "object",
         "type": "unknown"
        },
        {
         "name": "indicator",
         "rawType": "object",
         "type": "unknown"
        },
        {
         "name": "component",
         "rawType": "object",
         "type": "unknown"
        },
        {
         "name": "year",
         "rawType": "object",
         "type": "unknown"
        },
        {
         "name": "nuts_code_2021",
         "rawType": "object",
         "type": "unknown"
        },
        {
         "name": "unit",
         "rawType": "object",
         "type": "unknown"
        },
        {
         "name": "value",
         "rawType": "float64",
         "type": "float"
        },
        {
         "name": "clave_indicador",
         "rawType": "object",
         "type": "unknown"
        }
       ],
       "ref": "62bf603b-af8b-4a76-bed5-dad1748ebb1f",
       "rows": [
        [
         "count",
         "100",
         "100",
         "100",
         "100",
         "100",
         "100",
         "100",
         "100.0",
         "100"
        ],
        [
         "unique",
         "4",
         "21",
         "21",
         "22",
         null,
         "53",
         "10",
         null,
         "22"
        ],
        [
         "top",
         "Basic descriptors",
         "TOUR_DES_10",
         "Presence of Blue flag awarded sites",
         "Presence blue flags",
         null,
         "ES12",
         "%",
         null,
         "Presence of Blue flag awarded sites | Presence blue flags | number"
        ],
        [
         "freq",
         "59",
         "12",
         "12",
         "12",
         null,
         "5",
         "41",
         null,
         "12"
        ],
        [
         "mean",
         null,
         null,
         null,
         null,
         "1970-01-01 00:00:00.000002021",
         null,
         null,
         "197593.43026000005",
         null
        ],
        [
         "min",
         null,
         null,
         null,
         null,
         "1970-01-01 00:00:00.000002019",
         null,
         null,
         "0.0",
         null
        ],
        [
         "25%",
         null,
         null,
         null,
         null,
         "1970-01-01 00:00:00.000002020",
         null,
         null,
         "1.93245",
         null
        ],
        [
         "50%",
         null,
         null,
         null,
         null,
         "1970-01-01 00:00:00.000002021",
         null,
         null,
         "29.84",
         null
        ],
        [
         "75%",
         null,
         null,
         null,
         null,
         "1970-01-01 00:00:00.000002023",
         null,
         null,
         "88.98",
         null
        ],
        [
         "max",
         null,
         null,
         null,
         null,
         "1970-01-01 00:00:00.000002024",
         null,
         null,
         "10260271.0",
         null
        ],
        [
         "std",
         null,
         null,
         null,
         null,
         null,
         null,
         null,
         "1154305.482374024",
         null
        ]
       ],
       "shape": {
        "columns": 9,
        "rows": 11
       }
      },
      "text/html": [
       "<div>\n",
       "<style scoped>\n",
       "    .dataframe tbody tr th:only-of-type {\n",
       "        vertical-align: middle;\n",
       "    }\n",
       "\n",
       "    .dataframe tbody tr th {\n",
       "        vertical-align: top;\n",
       "    }\n",
       "\n",
       "    .dataframe thead th {\n",
       "        text-align: right;\n",
       "    }\n",
       "</style>\n",
       "<table border=\"1\" class=\"dataframe\">\n",
       "  <thead>\n",
       "    <tr style=\"text-align: right;\">\n",
       "      <th></th>\n",
       "      <th>pillar</th>\n",
       "      <th>code</th>\n",
       "      <th>indicator</th>\n",
       "      <th>component</th>\n",
       "      <th>year</th>\n",
       "      <th>nuts_code_2021</th>\n",
       "      <th>unit</th>\n",
       "      <th>value</th>\n",
       "      <th>clave_indicador</th>\n",
       "    </tr>\n",
       "  </thead>\n",
       "  <tbody>\n",
       "    <tr>\n",
       "      <th>count</th>\n",
       "      <td>100</td>\n",
       "      <td>100</td>\n",
       "      <td>100</td>\n",
       "      <td>100</td>\n",
       "      <td>100</td>\n",
       "      <td>100</td>\n",
       "      <td>100</td>\n",
       "      <td>100.00000000</td>\n",
       "      <td>100</td>\n",
       "    </tr>\n",
       "    <tr>\n",
       "      <th>unique</th>\n",
       "      <td>4</td>\n",
       "      <td>21</td>\n",
       "      <td>21</td>\n",
       "      <td>22</td>\n",
       "      <td>NaN</td>\n",
       "      <td>53</td>\n",
       "      <td>10</td>\n",
       "      <td>NaN</td>\n",
       "      <td>22</td>\n",
       "    </tr>\n",
       "    <tr>\n",
       "      <th>top</th>\n",
       "      <td>Basic descriptors</td>\n",
       "      <td>TOUR_DES_10</td>\n",
       "      <td>Presence of Blue flag awarded sites</td>\n",
       "      <td>Presence blue flags</td>\n",
       "      <td>NaN</td>\n",
       "      <td>ES12</td>\n",
       "      <td>%</td>\n",
       "      <td>NaN</td>\n",
       "      <td>Presence of Blue flag awarded sites | Presence...</td>\n",
       "    </tr>\n",
       "    <tr>\n",
       "      <th>freq</th>\n",
       "      <td>59</td>\n",
       "      <td>12</td>\n",
       "      <td>12</td>\n",
       "      <td>12</td>\n",
       "      <td>NaN</td>\n",
       "      <td>5</td>\n",
       "      <td>41</td>\n",
       "      <td>NaN</td>\n",
       "      <td>12</td>\n",
       "    </tr>\n",
       "    <tr>\n",
       "      <th>mean</th>\n",
       "      <td>NaN</td>\n",
       "      <td>NaN</td>\n",
       "      <td>NaN</td>\n",
       "      <td>NaN</td>\n",
       "      <td>1970-01-01 00:00:00.000002021</td>\n",
       "      <td>NaN</td>\n",
       "      <td>NaN</td>\n",
       "      <td>197593.43026000</td>\n",
       "      <td>NaN</td>\n",
       "    </tr>\n",
       "    <tr>\n",
       "      <th>min</th>\n",
       "      <td>NaN</td>\n",
       "      <td>NaN</td>\n",
       "      <td>NaN</td>\n",
       "      <td>NaN</td>\n",
       "      <td>1970-01-01 00:00:00.000002019</td>\n",
       "      <td>NaN</td>\n",
       "      <td>NaN</td>\n",
       "      <td>0.00000000</td>\n",
       "      <td>NaN</td>\n",
       "    </tr>\n",
       "    <tr>\n",
       "      <th>25%</th>\n",
       "      <td>NaN</td>\n",
       "      <td>NaN</td>\n",
       "      <td>NaN</td>\n",
       "      <td>NaN</td>\n",
       "      <td>1970-01-01 00:00:00.000002020</td>\n",
       "      <td>NaN</td>\n",
       "      <td>NaN</td>\n",
       "      <td>1.93245000</td>\n",
       "      <td>NaN</td>\n",
       "    </tr>\n",
       "    <tr>\n",
       "      <th>50%</th>\n",
       "      <td>NaN</td>\n",
       "      <td>NaN</td>\n",
       "      <td>NaN</td>\n",
       "      <td>NaN</td>\n",
       "      <td>1970-01-01 00:00:00.000002021</td>\n",
       "      <td>NaN</td>\n",
       "      <td>NaN</td>\n",
       "      <td>29.84000000</td>\n",
       "      <td>NaN</td>\n",
       "    </tr>\n",
       "    <tr>\n",
       "      <th>75%</th>\n",
       "      <td>NaN</td>\n",
       "      <td>NaN</td>\n",
       "      <td>NaN</td>\n",
       "      <td>NaN</td>\n",
       "      <td>1970-01-01 00:00:00.000002023</td>\n",
       "      <td>NaN</td>\n",
       "      <td>NaN</td>\n",
       "      <td>88.98000000</td>\n",
       "      <td>NaN</td>\n",
       "    </tr>\n",
       "    <tr>\n",
       "      <th>max</th>\n",
       "      <td>NaN</td>\n",
       "      <td>NaN</td>\n",
       "      <td>NaN</td>\n",
       "      <td>NaN</td>\n",
       "      <td>1970-01-01 00:00:00.000002024</td>\n",
       "      <td>NaN</td>\n",
       "      <td>NaN</td>\n",
       "      <td>10260271.00000000</td>\n",
       "      <td>NaN</td>\n",
       "    </tr>\n",
       "    <tr>\n",
       "      <th>std</th>\n",
       "      <td>NaN</td>\n",
       "      <td>NaN</td>\n",
       "      <td>NaN</td>\n",
       "      <td>NaN</td>\n",
       "      <td>NaN</td>\n",
       "      <td>NaN</td>\n",
       "      <td>NaN</td>\n",
       "      <td>1154305.48237402</td>\n",
       "      <td>NaN</td>\n",
       "    </tr>\n",
       "  </tbody>\n",
       "</table>\n",
       "</div>"
      ],
      "text/plain": [
       "                   pillar         code                            indicator  \\\n",
       "count                 100          100                                  100   \n",
       "unique                  4           21                                   21   \n",
       "top     Basic descriptors  TOUR_DES_10  Presence of Blue flag awarded sites   \n",
       "freq                   59           12                                   12   \n",
       "mean                  NaN          NaN                                  NaN   \n",
       "min                   NaN          NaN                                  NaN   \n",
       "25%                   NaN          NaN                                  NaN   \n",
       "50%                   NaN          NaN                                  NaN   \n",
       "75%                   NaN          NaN                                  NaN   \n",
       "max                   NaN          NaN                                  NaN   \n",
       "std                   NaN          NaN                                  NaN   \n",
       "\n",
       "                  component                           year nuts_code_2021  \\\n",
       "count                   100                            100            100   \n",
       "unique                   22                            NaN             53   \n",
       "top     Presence blue flags                            NaN           ES12   \n",
       "freq                     12                            NaN              5   \n",
       "mean                    NaN  1970-01-01 00:00:00.000002021            NaN   \n",
       "min                     NaN  1970-01-01 00:00:00.000002019            NaN   \n",
       "25%                     NaN  1970-01-01 00:00:00.000002020            NaN   \n",
       "50%                     NaN  1970-01-01 00:00:00.000002021            NaN   \n",
       "75%                     NaN  1970-01-01 00:00:00.000002023            NaN   \n",
       "max                     NaN  1970-01-01 00:00:00.000002024            NaN   \n",
       "std                     NaN                            NaN            NaN   \n",
       "\n",
       "       unit             value  \\\n",
       "count   100      100.00000000   \n",
       "unique   10               NaN   \n",
       "top       %               NaN   \n",
       "freq     41               NaN   \n",
       "mean    NaN   197593.43026000   \n",
       "min     NaN        0.00000000   \n",
       "25%     NaN        1.93245000   \n",
       "50%     NaN       29.84000000   \n",
       "75%     NaN       88.98000000   \n",
       "max     NaN 10260271.00000000   \n",
       "std     NaN  1154305.48237402   \n",
       "\n",
       "                                          clave_indicador  \n",
       "count                                                 100  \n",
       "unique                                                 22  \n",
       "top     Presence of Blue flag awarded sites | Presence...  \n",
       "freq                                                   12  \n",
       "mean                                                  NaN  \n",
       "min                                                   NaN  \n",
       "25%                                                   NaN  \n",
       "50%                                                   NaN  \n",
       "75%                                                   NaN  \n",
       "max                                                   NaN  \n",
       "std                                                   NaN  "
      ]
     },
     "execution_count": 32,
     "metadata": {},
     "output_type": "execute_result"
    }
   ],
   "source": [
    "# Verificar estructura\n",
    "df_turismo.info()\n",
    "\n",
    "# Estadísticas descriptivas\n",
    "df_turismo.describe(include='all')"
   ]
  },
  {
   "cell_type": "code",
   "execution_count": 34,
   "id": "6502f36e",
   "metadata": {},
   "outputs": [
    {
     "data": {
      "application/vnd.microsoft.datawrangler.viewer.v0+json": {
       "columns": [
        {
         "name": "index",
         "rawType": "object",
         "type": "string"
        },
        {
         "name": "0",
         "rawType": "int64",
         "type": "integer"
        }
       ],
       "ref": "69fa0155-3d9f-4638-b90f-8e338580782b",
       "rows": [
        [
         "pillar",
         "4"
        ],
        [
         "code",
         "21"
        ],
        [
         "indicator",
         "21"
        ],
        [
         "component",
         "22"
        ],
        [
         "year",
         "6"
        ],
        [
         "nuts_code_2021",
         "53"
        ],
        [
         "unit",
         "10"
        ],
        [
         "value",
         "76"
        ],
        [
         "clave_indicador",
         "22"
        ]
       ],
       "shape": {
        "columns": 1,
        "rows": 9
       }
      },
      "text/plain": [
       "pillar              4\n",
       "code               21\n",
       "indicator          21\n",
       "component          22\n",
       "year                6\n",
       "nuts_code_2021     53\n",
       "unit               10\n",
       "value              76\n",
       "clave_indicador    22\n",
       "dtype: int64"
      ]
     },
     "execution_count": 34,
     "metadata": {},
     "output_type": "execute_result"
    }
   ],
   "source": [
    "# Verificar valores únicos por columna\n",
    "df_turismo.nunique()\n"
   ]
  },
  {
   "cell_type": "markdown",
   "id": "aa49d927",
   "metadata": {},
   "source": [
    " ## Limpieza general del dataset (antes de dividir)"
   ]
  },
  {
   "cell_type": "code",
   "execution_count": 35,
   "id": "a27017cc",
   "metadata": {},
   "outputs": [
    {
     "data": {
      "application/vnd.microsoft.datawrangler.viewer.v0+json": {
       "columns": [
        {
         "name": "index",
         "rawType": "int64",
         "type": "integer"
        },
        {
         "name": "indicator",
         "rawType": "object",
         "type": "string"
        },
        {
         "name": "component",
         "rawType": "object",
         "type": "string"
        },
        {
         "name": "unit",
         "rawType": "object",
         "type": "string"
        }
       ],
       "ref": "d7b20730-2349-42ad-bdfe-76692f7e5b51",
       "rows": [
        [
         "1663",
         "Progress of tourism demand recovery",
         "Progress of tourism recovery",
         "%"
        ],
        [
         "2990",
         "Excellent bathing water",
         "Excellent bathing water",
         "%"
        ],
        [
         "391",
         "Nights spent",
         "Night spent",
         "number"
        ],
        [
         "4337",
         "Tourism diversity",
         "Tourism diversity",
         "index"
        ],
        [
         "2418",
         "Share of protected/designated land",
         "Protected land",
         "%"
        ],
        [
         "927",
         "Occupancy rate",
         "Occupancy",
         "%"
        ],
        [
         "4261",
         "Tourism seasonality",
         "Tourism seasonality",
         "%"
        ],
        [
         "2694",
         "UNESCO and European heritage sites",
         "UNESCO",
         "number"
        ],
        [
         "2745",
         "Internet speed at tourism destinations",
         "Internet speed at tourism destinations",
         "%"
        ],
        [
         "1932",
         "Presence of Blue flag awarded sites",
         "Presence blue flags",
         "number"
        ],
        [
         "1548",
         "Dominant tourism typology",
         "Tourism Typology",
         "categorical"
        ],
        [
         "3455",
         "Environmental labels and schemes",
         "EMAS",
         "Number"
        ],
        [
         "1102",
         "Tourism density",
         "Tourism density",
         "nights spent / km<sup>2</sup>"
        ],
        [
         "3898",
         "Tourism intensity",
         "Tourism intensity",
         "Nights spent / capita"
        ],
        [
         "2598",
         "Share of accommodations in areas with high-nature value",
         "High nature based tourism potential",
         "%"
        ],
        [
         "408",
         "Arrivals",
         "Arrivals",
         "number"
        ],
        [
         "609",
         "Tourism capacity",
         "Tourism capacity (nr. of beds)",
         "number of beds"
        ],
        [
         "1575",
         "Share of foreign tourists",
         "Share of foreign tourists",
         "%"
        ],
        [
         "3678",
         "Environmental labels and schemes",
         "Total",
         "Number"
        ],
        [
         "4519",
         "Tourism enterprises by size",
         "Micro Enterprises",
         "%"
        ],
        [
         "2619",
         "Cultural assets density",
         "Cultural asset intensity",
         "no. of cultural assets / 100km<sup>2</sup>"
        ],
        [
         "1069",
         "Average length of stay",
         "Average duration of stay",
         "no. days"
        ]
       ],
       "shape": {
        "columns": 3,
        "rows": 22
       }
      },
      "text/html": [
       "<div>\n",
       "<style scoped>\n",
       "    .dataframe tbody tr th:only-of-type {\n",
       "        vertical-align: middle;\n",
       "    }\n",
       "\n",
       "    .dataframe tbody tr th {\n",
       "        vertical-align: top;\n",
       "    }\n",
       "\n",
       "    .dataframe thead th {\n",
       "        text-align: right;\n",
       "    }\n",
       "</style>\n",
       "<table border=\"1\" class=\"dataframe\">\n",
       "  <thead>\n",
       "    <tr style=\"text-align: right;\">\n",
       "      <th></th>\n",
       "      <th>indicator</th>\n",
       "      <th>component</th>\n",
       "      <th>unit</th>\n",
       "    </tr>\n",
       "  </thead>\n",
       "  <tbody>\n",
       "    <tr>\n",
       "      <th>1663</th>\n",
       "      <td>Progress of tourism demand recovery</td>\n",
       "      <td>Progress of tourism recovery</td>\n",
       "      <td>%</td>\n",
       "    </tr>\n",
       "    <tr>\n",
       "      <th>2990</th>\n",
       "      <td>Excellent bathing water</td>\n",
       "      <td>Excellent bathing water</td>\n",
       "      <td>%</td>\n",
       "    </tr>\n",
       "    <tr>\n",
       "      <th>391</th>\n",
       "      <td>Nights spent</td>\n",
       "      <td>Night spent</td>\n",
       "      <td>number</td>\n",
       "    </tr>\n",
       "    <tr>\n",
       "      <th>4337</th>\n",
       "      <td>Tourism diversity</td>\n",
       "      <td>Tourism diversity</td>\n",
       "      <td>index</td>\n",
       "    </tr>\n",
       "    <tr>\n",
       "      <th>2418</th>\n",
       "      <td>Share of protected/designated land</td>\n",
       "      <td>Protected land</td>\n",
       "      <td>%</td>\n",
       "    </tr>\n",
       "    <tr>\n",
       "      <th>927</th>\n",
       "      <td>Occupancy rate</td>\n",
       "      <td>Occupancy</td>\n",
       "      <td>%</td>\n",
       "    </tr>\n",
       "    <tr>\n",
       "      <th>4261</th>\n",
       "      <td>Tourism seasonality</td>\n",
       "      <td>Tourism seasonality</td>\n",
       "      <td>%</td>\n",
       "    </tr>\n",
       "    <tr>\n",
       "      <th>2694</th>\n",
       "      <td>UNESCO and European heritage sites</td>\n",
       "      <td>UNESCO</td>\n",
       "      <td>number</td>\n",
       "    </tr>\n",
       "    <tr>\n",
       "      <th>2745</th>\n",
       "      <td>Internet speed at tourism destinations</td>\n",
       "      <td>Internet speed at tourism destinations</td>\n",
       "      <td>%</td>\n",
       "    </tr>\n",
       "    <tr>\n",
       "      <th>1932</th>\n",
       "      <td>Presence of Blue flag awarded sites</td>\n",
       "      <td>Presence blue flags</td>\n",
       "      <td>number</td>\n",
       "    </tr>\n",
       "    <tr>\n",
       "      <th>1548</th>\n",
       "      <td>Dominant tourism typology</td>\n",
       "      <td>Tourism Typology</td>\n",
       "      <td>categorical</td>\n",
       "    </tr>\n",
       "    <tr>\n",
       "      <th>3455</th>\n",
       "      <td>Environmental labels and schemes</td>\n",
       "      <td>EMAS</td>\n",
       "      <td>Number</td>\n",
       "    </tr>\n",
       "    <tr>\n",
       "      <th>1102</th>\n",
       "      <td>Tourism density</td>\n",
       "      <td>Tourism density</td>\n",
       "      <td>nights spent / km&lt;sup&gt;2&lt;/sup&gt;</td>\n",
       "    </tr>\n",
       "    <tr>\n",
       "      <th>3898</th>\n",
       "      <td>Tourism intensity</td>\n",
       "      <td>Tourism intensity</td>\n",
       "      <td>Nights spent / capita</td>\n",
       "    </tr>\n",
       "    <tr>\n",
       "      <th>2598</th>\n",
       "      <td>Share of accommodations in areas with high-nat...</td>\n",
       "      <td>High nature based tourism potential</td>\n",
       "      <td>%</td>\n",
       "    </tr>\n",
       "    <tr>\n",
       "      <th>408</th>\n",
       "      <td>Arrivals</td>\n",
       "      <td>Arrivals</td>\n",
       "      <td>number</td>\n",
       "    </tr>\n",
       "    <tr>\n",
       "      <th>609</th>\n",
       "      <td>Tourism capacity</td>\n",
       "      <td>Tourism capacity (nr. of beds)</td>\n",
       "      <td>number of beds</td>\n",
       "    </tr>\n",
       "    <tr>\n",
       "      <th>1575</th>\n",
       "      <td>Share of foreign tourists</td>\n",
       "      <td>Share of foreign tourists</td>\n",
       "      <td>%</td>\n",
       "    </tr>\n",
       "    <tr>\n",
       "      <th>3678</th>\n",
       "      <td>Environmental labels and schemes</td>\n",
       "      <td>Total</td>\n",
       "      <td>Number</td>\n",
       "    </tr>\n",
       "    <tr>\n",
       "      <th>4519</th>\n",
       "      <td>Tourism enterprises by size</td>\n",
       "      <td>Micro Enterprises</td>\n",
       "      <td>%</td>\n",
       "    </tr>\n",
       "    <tr>\n",
       "      <th>2619</th>\n",
       "      <td>Cultural assets density</td>\n",
       "      <td>Cultural asset intensity</td>\n",
       "      <td>no. of cultural assets / 100km&lt;sup&gt;2&lt;/sup&gt;</td>\n",
       "    </tr>\n",
       "    <tr>\n",
       "      <th>1069</th>\n",
       "      <td>Average length of stay</td>\n",
       "      <td>Average duration of stay</td>\n",
       "      <td>no. days</td>\n",
       "    </tr>\n",
       "  </tbody>\n",
       "</table>\n",
       "</div>"
      ],
      "text/plain": [
       "                                              indicator  \\\n",
       "1663                Progress of tourism demand recovery   \n",
       "2990                            Excellent bathing water   \n",
       "391                                        Nights spent   \n",
       "4337                                  Tourism diversity   \n",
       "2418                 Share of protected/designated land   \n",
       "927                                      Occupancy rate   \n",
       "4261                                Tourism seasonality   \n",
       "2694                 UNESCO and European heritage sites   \n",
       "2745             Internet speed at tourism destinations   \n",
       "1932                Presence of Blue flag awarded sites   \n",
       "1548                          Dominant tourism typology   \n",
       "3455                   Environmental labels and schemes   \n",
       "1102                                    Tourism density   \n",
       "3898                                  Tourism intensity   \n",
       "2598  Share of accommodations in areas with high-nat...   \n",
       "408                                            Arrivals   \n",
       "609                                    Tourism capacity   \n",
       "1575                          Share of foreign tourists   \n",
       "3678                   Environmental labels and schemes   \n",
       "4519                        Tourism enterprises by size   \n",
       "2619                            Cultural assets density   \n",
       "1069                             Average length of stay   \n",
       "\n",
       "                                   component  \\\n",
       "1663            Progress of tourism recovery   \n",
       "2990                 Excellent bathing water   \n",
       "391                              Night spent   \n",
       "4337                       Tourism diversity   \n",
       "2418                          Protected land   \n",
       "927                                Occupancy   \n",
       "4261                     Tourism seasonality   \n",
       "2694                                  UNESCO   \n",
       "2745  Internet speed at tourism destinations   \n",
       "1932                     Presence blue flags   \n",
       "1548                        Tourism Typology   \n",
       "3455                                    EMAS   \n",
       "1102                         Tourism density   \n",
       "3898                       Tourism intensity   \n",
       "2598     High nature based tourism potential   \n",
       "408                                 Arrivals   \n",
       "609           Tourism capacity (nr. of beds)   \n",
       "1575               Share of foreign tourists   \n",
       "3678                                   Total   \n",
       "4519                       Micro Enterprises   \n",
       "2619                Cultural asset intensity   \n",
       "1069                Average duration of stay   \n",
       "\n",
       "                                            unit  \n",
       "1663                                           %  \n",
       "2990                                           %  \n",
       "391                                       number  \n",
       "4337                                       index  \n",
       "2418                                           %  \n",
       "927                                            %  \n",
       "4261                                           %  \n",
       "2694                                      number  \n",
       "2745                                           %  \n",
       "1932                                      number  \n",
       "1548                                 categorical  \n",
       "3455                                      Number  \n",
       "1102               nights spent / km<sup>2</sup>  \n",
       "3898                       Nights spent / capita  \n",
       "2598                                           %  \n",
       "408                                       number  \n",
       "609                               number of beds  \n",
       "1575                                           %  \n",
       "3678                                      Number  \n",
       "4519                                           %  \n",
       "2619  no. of cultural assets / 100km<sup>2</sup>  \n",
       "1069                                    no. days  "
      ]
     },
     "execution_count": 35,
     "metadata": {},
     "output_type": "execute_result"
    }
   ],
   "source": [
    "# Verificar nulos por columna\n",
    "df_turismo.isnull().sum()\n",
    "\n",
    "# Eliminar filas con valores nulos en columnas clave\n",
    "df_turismo = df_turismo.dropna(subset=[\"indicator\", \"component\", \"unit\", \"value\"])\n",
    "\n",
    "# Asegurar que los valores numéricos sean float\n",
    "df_turismo[\"value\"] = pd.to_numeric(df_turismo[\"value\"], errors=\"coerce\")\n",
    "\n",
    "# Convertir fechas si existe una columna de tiempo\n",
    "if \"year\" in df_turismo.columns:\n",
    "    df_turismo[\"year\"] = pd.to_datetime(df_turismo[\"year\"], errors=\"coerce\")\n",
    "\n",
    "# Verificar valores únicos\n",
    "df_turismo[[\"indicator\", \"component\", \"unit\"]].drop_duplicates()\n"
   ]
  },
  {
   "cell_type": "markdown",
   "id": "5e4554e4",
   "metadata": {},
   "source": [
    "## Crear clave para segmentar por indicadores/componentes/unidades"
   ]
  },
  {
   "cell_type": "code",
   "execution_count": 36,
   "id": "85ffb561",
   "metadata": {},
   "outputs": [],
   "source": [
    "# Crear una clave única para identificar subconjuntos homogéneos\n",
    "df_turismo[\"clave_indicador\"] = (\n",
    "    df_turismo[\"indicator\"] + \" | \" + df_turismo[\"component\"] + \" | \" + df_turismo[\"unit\"]\n",
    ")\n"
   ]
  },
  {
   "cell_type": "markdown",
   "id": "4dd7d5b4",
   "metadata": {},
   "source": [
    "## Crear subconjuntos de datos homogéneos"
   ]
  },
  {
   "cell_type": "code",
   "execution_count": 37,
   "id": "b461db6f",
   "metadata": {},
   "outputs": [
    {
     "data": {
      "text/plain": [
       "['Arrivals | Arrivals | number',\n",
       " 'Average length of stay | Average duration of stay | no. days',\n",
       " 'Cultural assets density | Cultural asset intensity | no. of cultural assets / 100km<sup>2</sup>',\n",
       " 'Dominant tourism typology | Tourism Typology | categorical',\n",
       " 'Environmental labels and schemes | EMAS | Number',\n",
       " 'Environmental labels and schemes | Total | Number',\n",
       " 'Excellent bathing water | Excellent bathing water | %',\n",
       " 'Internet speed at tourism destinations | Internet speed at tourism destinations | %',\n",
       " 'Nights spent | Night spent | number',\n",
       " 'Occupancy rate | Occupancy | %']"
      ]
     },
     "execution_count": 37,
     "metadata": {},
     "output_type": "execute_result"
    }
   ],
   "source": [
    "# Agrupar y guardar cada subconjunto en un diccionario\n",
    "subconjuntos = {\n",
    "    nombre: sub_df for nombre, sub_df in df_turismo.groupby(\"clave_indicador\")\n",
    "}\n",
    "\n",
    "# Mostrar nombres de subconjuntos disponibles\n",
    "list(subconjuntos.keys())[:10]\n"
   ]
  },
  {
   "cell_type": "code",
   "execution_count": 44,
   "id": "f4748aff",
   "metadata": {},
   "outputs": [
    {
     "name": "stdout",
     "output_type": "stream",
     "text": [
      "Arrivals | Arrivals | number\n",
      "Average length of stay | Average duration of stay | no. days\n",
      "Cultural assets density | Cultural asset intensity | no. of cultural assets / 100km<sup>2</sup>\n",
      "Dominant tourism typology | Tourism Typology | categorical\n",
      "Environmental labels and schemes | EMAS | Number\n",
      "Environmental labels and schemes | Total | Number\n",
      "Excellent bathing water | Excellent bathing water | %\n",
      "Internet speed at tourism destinations | Internet speed at tourism destinations | %\n",
      "Nights spent | Night spent | number\n",
      "Occupancy rate | Occupancy | %\n",
      "Presence of Blue flag awarded sites | Presence blue flags | number\n",
      "Progress of tourism demand recovery | Progress of tourism recovery | %\n",
      "Share of accommodations in areas with high-nature value | High nature based tourism potential | %\n",
      "Share of foreign tourists | Share of foreign tourists | %\n",
      "Share of protected/designated land | Protected land | %\n",
      "Tourism capacity | Tourism capacity (nr. of beds) | number of beds\n",
      "Tourism density | Tourism density | nights spent / km<sup>2</sup>\n",
      "Tourism diversity | Tourism diversity | index\n",
      "Tourism enterprises by size | Micro Enterprises | %\n",
      "Tourism intensity | Tourism intensity | Nights spent / capita\n",
      "Tourism seasonality | Tourism seasonality | %\n",
      "UNESCO and European heritage sites | UNESCO | number\n"
     ]
    }
   ],
   "source": [
    "# Mostrar todas las claves del diccionario subconjuntos\n",
    "for clave in subconjuntos.keys():\n",
    "    print(clave)"
   ]
  },
  {
   "cell_type": "markdown",
   "id": "c4c2d9a5",
   "metadata": {},
   "source": [
    "### Seleccionar subconjunto para análisis multivariado"
   ]
  },
  {
   "cell_type": "code",
   "execution_count": null,
   "id": "6749e5fa",
   "metadata": {},
   "outputs": [
    {
     "data": {
      "application/vnd.microsoft.datawrangler.viewer.v0+json": {
       "columns": [
        {
         "name": "index",
         "rawType": "int64",
         "type": "integer"
        },
        {
         "name": "pillar",
         "rawType": "object",
         "type": "string"
        },
        {
         "name": "code",
         "rawType": "object",
         "type": "string"
        },
        {
         "name": "indicator",
         "rawType": "object",
         "type": "string"
        },
        {
         "name": "component",
         "rawType": "object",
         "type": "string"
        },
        {
         "name": "year",
         "rawType": "datetime64[ns]",
         "type": "datetime"
        },
        {
         "name": "nuts_code_2021",
         "rawType": "object",
         "type": "string"
        },
        {
         "name": "unit",
         "rawType": "object",
         "type": "string"
        },
        {
         "name": "value",
         "rawType": "float64",
         "type": "float"
        },
        {
         "name": "clave_indicador",
         "rawType": "object",
         "type": "string"
        }
       ],
       "ref": "d1cd3eab-e7d9-4f4a-bbba-a05431761eca",
       "rows": [
        [
         "408",
         "Basic descriptors",
         "TOUR_DES_02",
         "Arrivals",
         "Arrivals",
         "1970-01-01 00:00:00.000002022",
         "ES12",
         "number",
         "2432625.0",
         "Arrivals | Arrivals | number"
        ]
       ],
       "shape": {
        "columns": 9,
        "rows": 1
       }
      },
      "text/html": [
       "<div>\n",
       "<style scoped>\n",
       "    .dataframe tbody tr th:only-of-type {\n",
       "        vertical-align: middle;\n",
       "    }\n",
       "\n",
       "    .dataframe tbody tr th {\n",
       "        vertical-align: top;\n",
       "    }\n",
       "\n",
       "    .dataframe thead th {\n",
       "        text-align: right;\n",
       "    }\n",
       "</style>\n",
       "<table border=\"1\" class=\"dataframe\">\n",
       "  <thead>\n",
       "    <tr style=\"text-align: right;\">\n",
       "      <th></th>\n",
       "      <th>pillar</th>\n",
       "      <th>code</th>\n",
       "      <th>indicator</th>\n",
       "      <th>component</th>\n",
       "      <th>year</th>\n",
       "      <th>nuts_code_2021</th>\n",
       "      <th>unit</th>\n",
       "      <th>value</th>\n",
       "      <th>clave_indicador</th>\n",
       "    </tr>\n",
       "  </thead>\n",
       "  <tbody>\n",
       "    <tr>\n",
       "      <th>408</th>\n",
       "      <td>Basic descriptors</td>\n",
       "      <td>TOUR_DES_02</td>\n",
       "      <td>Arrivals</td>\n",
       "      <td>Arrivals</td>\n",
       "      <td>1970-01-01 00:00:00.000002022</td>\n",
       "      <td>ES12</td>\n",
       "      <td>number</td>\n",
       "      <td>2432625.00000000</td>\n",
       "      <td>Arrivals | Arrivals | number</td>\n",
       "    </tr>\n",
       "  </tbody>\n",
       "</table>\n",
       "</div>"
      ],
      "text/plain": [
       "                pillar         code indicator component  \\\n",
       "408  Basic descriptors  TOUR_DES_02  Arrivals  Arrivals   \n",
       "\n",
       "                             year nuts_code_2021    unit            value  \\\n",
       "408 1970-01-01 00:00:00.000002022           ES12  number 2432625.00000000   \n",
       "\n",
       "                  clave_indicador  \n",
       "408  Arrivals | Arrivals | number  "
      ]
     },
     "execution_count": 45,
     "metadata": {},
     "output_type": "execute_result"
    }
   ],
   "source": [
    "# Seleccionar uno que tenga datos cuantitativos y consistentes\n",
    "nombre_sub = \"Arrivals | Arrivals | number\"  # O cualquier otro desde la lista de subconjuntos arriba\n",
    "df_analisis = subconjuntos[nombre_sub].copy()\n",
    "\n",
    "# Mostrar los primeros valores\n",
    "df_analisis.head()"
   ]
  },
  {
   "cell_type": "markdown",
   "id": "459cf483",
   "metadata": {},
   "source": [
    "### Limpieza adicional por subconjunto"
   ]
  },
  {
   "cell_type": "code",
   "execution_count": 47,
   "id": "3be5de7a",
   "metadata": {},
   "outputs": [],
   "source": [
    "# Verificar columnas disponibles\n",
    "df_analisis.columns\n",
    "\n",
    "# Limpiar o renombrar si es necesario\n",
    "df_analisis.rename(columns={\"value\": \"valor\"}, inplace=True)\n",
    "\n",
    "# Revisar nulos o duplicados\n",
    "df_analisis = df_analisis.dropna()\n",
    "df_analisis = df_analisis.drop_duplicates()\n"
   ]
  },
  {
   "cell_type": "markdown",
   "id": "d88882f1",
   "metadata": {},
   "source": [
    "### 📊  Análisis Multivariado con Visualizaciones"
   ]
  },
  {
   "cell_type": "markdown",
   "id": "0898f9d5",
   "metadata": {},
   "source": [
    "📌 Gráfico de dispersión con color por región o categoría"
   ]
  },
  {
   "cell_type": "code",
   "execution_count": null,
   "id": "2f55e9a9",
   "metadata": {},
   "outputs": [],
   "source": [
    "# Asegurarse de que hay una variable de categoría (como region, year, etc.)\n",
    "sns.scatterplot(\n",
    "    data=df_analisis,\n",
    "    x=\"year\",\n",
    "    y=\"valor\",\n",
    "    hue=\"NUTS2\",  # ajusta si tu columna se llama diferente\n",
    "    palette=\"viridis\"\n",
    ")\n",
    "plt.title(\"Evolución del indicador GDP por región\")\n",
    "plt.xticks(rotation=45)\n",
    "plt.tight_layout()\n",
    "plt.show()\n"
   ]
  },
  {
   "cell_type": "markdown",
   "id": "f21f5207",
   "metadata": {},
   "source": [
    "📌 Boxplot por región"
   ]
  },
  {
   "cell_type": "code",
   "execution_count": 54,
   "id": "6a3ae070",
   "metadata": {},
   "outputs": [
    {
     "data": {
      "image/png": "[encoded data removed]",
      "text/plain": [
       "<Figure size 1200x600 with 1 Axes>"
      ]
     },
     "metadata": {},
     "output_type": "display_data"
    }
   ],
   "source": [
    "sns.boxplot(data=df_analisis, x=\"nuts_code_2021\", y=\"valor\")\n",
    "plt.title(\"Distribución del GDP por región\")\n",
    "plt.xticks(rotation=90)\n",
    "plt.tight_layout()\n",
    "plt.show()\n"
   ]
  },
  {
   "cell_type": "markdown",
   "id": "a5b3c939",
   "metadata": {},
   "source": [
    "📌 Heatmap de correlaciones (si hay más de una variable numérica)"
   ]
  },
  {
   "cell_type": "code",
   "execution_count": 55,
   "id": "69c4d472",
   "metadata": {},
   "outputs": [
    {
     "data": {
      "image/png": "[encoded data removed]",
      "text/plain": [
       "<Figure size 1200x600 with 2 Axes>"
      ]
     },
     "metadata": {},
     "output_type": "display_data"
    }
   ],
   "source": [
    "# Filtrar solo columnas numéricas\n",
    "corr_df = df_analisis.select_dtypes(include=np.number)\n",
    "\n",
    "# Calcular matriz de correlación\n",
    "corr = corr_df.corr()\n",
    "\n",
    "# Graficar heatmap\n",
    "sns.heatmap(corr, annot=True, cmap=\"coolwarm\", fmt=\".2f\")\n",
    "plt.title(\"Mapa de calor de correlaciones\")\n",
    "plt.show()\n"
   ]
  },
  {
   "cell_type": "markdown",
   "id": "58345318",
   "metadata": {},
   "source": [
    "📌 Pairplot para ver relaciones múltiples"
   ]
  },
  {
   "cell_type": "code",
   "execution_count": 57,
   "id": "718982a1",
   "metadata": {},
   "outputs": [
    {
     "ename": "KeyError",
     "evalue": "'region'",
     "output_type": "error",
     "traceback": [
      "\u001b[1;31m---------------------------------------------------------------------------\u001b[0m",
      "\u001b[1;31mKeyError\u001b[0m                                  Traceback (most recent call last)",
      "File \u001b[1;32mc:\\Users\\esaa2\\anaconda3\\envs\\python3921\\lib\\site-packages\\pandas\\core\\indexes\\base.py:3805\u001b[0m, in \u001b[0;36mIndex.get_loc\u001b[1;34m(self, key)\u001b[0m\n\u001b[0;32m   3804\u001b[0m \u001b[38;5;28;01mtry\u001b[39;00m:\n\u001b[1;32m-> 3805\u001b[0m     \u001b[38;5;28;01mreturn\u001b[39;00m \u001b[38;5;28;43mself\u001b[39;49m\u001b[38;5;241;43m.\u001b[39;49m\u001b[43m_engine\u001b[49m\u001b[38;5;241;43m.\u001b[39;49m\u001b[43mget_loc\u001b[49m\u001b[43m(\u001b[49m\u001b[43mcasted_key\u001b[49m\u001b[43m)\u001b[49m\n\u001b[0;32m   3806\u001b[0m \u001b[38;5;28;01mexcept\u001b[39;00m \u001b[38;5;167;01mKeyError\u001b[39;00m \u001b[38;5;28;01mas\u001b[39;00m err:\n",
      "File \u001b[1;32mindex.pyx:167\u001b[0m, in \u001b[0;36mpandas._libs.index.IndexEngine.get_loc\u001b[1;34m()\u001b[0m\n",
      "File \u001b[1;32mindex.pyx:196\u001b[0m, in \u001b[0;36mpandas._libs.index.IndexEngine.get_loc\u001b[1;34m()\u001b[0m\n",
      "File \u001b[1;32mpandas\\\\_libs\\\\hashtable_class_helper.pxi:7081\u001b[0m, in \u001b[0;36mpandas._libs.hashtable.PyObjectHashTable.get_item\u001b[1;34m()\u001b[0m\n",
      "File \u001b[1;32mpandas\\\\_libs\\\\hashtable_class_helper.pxi:7089\u001b[0m, in \u001b[0;36mpandas._libs.hashtable.PyObjectHashTable.get_item\u001b[1;34m()\u001b[0m\n",
      "\u001b[1;31mKeyError\u001b[0m: 'region'",
      "\nThe above exception was the direct cause of the following exception:\n",
      "\u001b[1;31mKeyError\u001b[0m                                  Traceback (most recent call last)",
      "Cell \u001b[1;32mIn[57], line 2\u001b[0m\n\u001b[0;32m      1\u001b[0m \u001b[38;5;66;03m# Crear pairplot si hay al menos 3 columnas numéricas\u001b[39;00m\n\u001b[1;32m----> 2\u001b[0m \u001b[43msns\u001b[49m\u001b[38;5;241;43m.\u001b[39;49m\u001b[43mpairplot\u001b[49m\u001b[43m(\u001b[49m\u001b[43mdf_analisis\u001b[49m\u001b[43m,\u001b[49m\u001b[43m \u001b[49m\u001b[43mhue\u001b[49m\u001b[38;5;241;43m=\u001b[39;49m\u001b[38;5;124;43m\"\u001b[39;49m\u001b[38;5;124;43mregion\u001b[39;49m\u001b[38;5;124;43m\"\u001b[39;49m\u001b[43m)\u001b[49m  \u001b[38;5;66;03m# ajustar según tus columnas\u001b[39;00m\n\u001b[0;32m      3\u001b[0m plt\u001b[38;5;241m.\u001b[39msuptitle(\u001b[38;5;124m\"\u001b[39m\u001b[38;5;124mGráfica de pares por región\u001b[39m\u001b[38;5;124m\"\u001b[39m, y\u001b[38;5;241m=\u001b[39m\u001b[38;5;241m1.02\u001b[39m)\n\u001b[0;32m      4\u001b[0m plt\u001b[38;5;241m.\u001b[39mshow()\n",
      "File \u001b[1;32mc:\\Users\\esaa2\\anaconda3\\envs\\python3921\\lib\\site-packages\\seaborn\\axisgrid.py:2119\u001b[0m, in \u001b[0;36mpairplot\u001b[1;34m(data, hue, hue_order, palette, vars, x_vars, y_vars, kind, diag_kind, markers, height, aspect, corner, dropna, plot_kws, diag_kws, grid_kws, size)\u001b[0m\n\u001b[0;32m   2117\u001b[0m \u001b[38;5;66;03m# Set up the PairGrid\u001b[39;00m\n\u001b[0;32m   2118\u001b[0m grid_kws\u001b[38;5;241m.\u001b[39msetdefault(\u001b[38;5;124m\"\u001b[39m\u001b[38;5;124mdiag_sharey\u001b[39m\u001b[38;5;124m\"\u001b[39m, diag_kind \u001b[38;5;241m==\u001b[39m \u001b[38;5;124m\"\u001b[39m\u001b[38;5;124mhist\u001b[39m\u001b[38;5;124m\"\u001b[39m)\n\u001b[1;32m-> 2119\u001b[0m grid \u001b[38;5;241m=\u001b[39m PairGrid(data, \u001b[38;5;28mvars\u001b[39m\u001b[38;5;241m=\u001b[39m\u001b[38;5;28mvars\u001b[39m, x_vars\u001b[38;5;241m=\u001b[39mx_vars, y_vars\u001b[38;5;241m=\u001b[39my_vars, hue\u001b[38;5;241m=\u001b[39mhue,\n\u001b[0;32m   2120\u001b[0m                 hue_order\u001b[38;5;241m=\u001b[39mhue_order, palette\u001b[38;5;241m=\u001b[39mpalette, corner\u001b[38;5;241m=\u001b[39mcorner,\n\u001b[0;32m   2121\u001b[0m                 height\u001b[38;5;241m=\u001b[39mheight, aspect\u001b[38;5;241m=\u001b[39maspect, dropna\u001b[38;5;241m=\u001b[39mdropna, \u001b[38;5;241m*\u001b[39m\u001b[38;5;241m*\u001b[39mgrid_kws)\n\u001b[0;32m   2123\u001b[0m \u001b[38;5;66;03m# Add the markers here as PairGrid has figured out how many levels of the\u001b[39;00m\n\u001b[0;32m   2124\u001b[0m \u001b[38;5;66;03m# hue variable are needed and we don't want to duplicate that process\u001b[39;00m\n\u001b[0;32m   2125\u001b[0m \u001b[38;5;28;01mif\u001b[39;00m markers \u001b[38;5;129;01mis\u001b[39;00m \u001b[38;5;129;01mnot\u001b[39;00m \u001b[38;5;28;01mNone\u001b[39;00m:\n",
      "File \u001b[1;32mc:\\Users\\esaa2\\anaconda3\\envs\\python3921\\lib\\site-packages\\seaborn\\axisgrid.py:1327\u001b[0m, in \u001b[0;36mPairGrid.__init__\u001b[1;34m(self, data, hue, vars, x_vars, y_vars, hue_order, palette, hue_kws, corner, diag_sharey, height, aspect, layout_pad, despine, dropna)\u001b[0m\n\u001b[0;32m   1316\u001b[0m     \u001b[38;5;28mself\u001b[39m\u001b[38;5;241m.\u001b[39mhue_vals \u001b[38;5;241m=\u001b[39m pd\u001b[38;5;241m.\u001b[39mSeries([\u001b[38;5;124m\"\u001b[39m\u001b[38;5;124m_nolegend_\u001b[39m\u001b[38;5;124m\"\u001b[39m] \u001b[38;5;241m*\u001b[39m \u001b[38;5;28mlen\u001b[39m(data),\n\u001b[0;32m   1317\u001b[0m                               index\u001b[38;5;241m=\u001b[39mdata\u001b[38;5;241m.\u001b[39mindex)\n\u001b[0;32m   1318\u001b[0m \u001b[38;5;28;01melse\u001b[39;00m:\n\u001b[0;32m   1319\u001b[0m     \u001b[38;5;66;03m# We need hue_order and hue_names because the former is used to control\u001b[39;00m\n\u001b[0;32m   1320\u001b[0m     \u001b[38;5;66;03m# the order of drawing and the latter is used to control the order of\u001b[39;00m\n\u001b[1;32m   (...)\u001b[0m\n\u001b[0;32m   1325\u001b[0m     \u001b[38;5;66;03m# to the axes-level functions, while always handling legend creation.\u001b[39;00m\n\u001b[0;32m   1326\u001b[0m     \u001b[38;5;66;03m# See GH2307\u001b[39;00m\n\u001b[1;32m-> 1327\u001b[0m     hue_names \u001b[38;5;241m=\u001b[39m hue_order \u001b[38;5;241m=\u001b[39m categorical_order(\u001b[43mdata\u001b[49m\u001b[43m[\u001b[49m\u001b[43mhue\u001b[49m\u001b[43m]\u001b[49m, hue_order)\n\u001b[0;32m   1328\u001b[0m     \u001b[38;5;28;01mif\u001b[39;00m dropna:\n\u001b[0;32m   1329\u001b[0m         \u001b[38;5;66;03m# Filter NA from the list of unique hue names\u001b[39;00m\n\u001b[0;32m   1330\u001b[0m         hue_names \u001b[38;5;241m=\u001b[39m \u001b[38;5;28mlist\u001b[39m(\u001b[38;5;28mfilter\u001b[39m(pd\u001b[38;5;241m.\u001b[39mnotnull, hue_names))\n",
      "File \u001b[1;32mc:\\Users\\esaa2\\anaconda3\\envs\\python3921\\lib\\site-packages\\pandas\\core\\frame.py:4102\u001b[0m, in \u001b[0;36mDataFrame.__getitem__\u001b[1;34m(self, key)\u001b[0m\n\u001b[0;32m   4100\u001b[0m \u001b[38;5;28;01mif\u001b[39;00m \u001b[38;5;28mself\u001b[39m\u001b[38;5;241m.\u001b[39mcolumns\u001b[38;5;241m.\u001b[39mnlevels \u001b[38;5;241m>\u001b[39m \u001b[38;5;241m1\u001b[39m:\n\u001b[0;32m   4101\u001b[0m     \u001b[38;5;28;01mreturn\u001b[39;00m \u001b[38;5;28mself\u001b[39m\u001b[38;5;241m.\u001b[39m_getitem_multilevel(key)\n\u001b[1;32m-> 4102\u001b[0m indexer \u001b[38;5;241m=\u001b[39m \u001b[38;5;28;43mself\u001b[39;49m\u001b[38;5;241;43m.\u001b[39;49m\u001b[43mcolumns\u001b[49m\u001b[38;5;241;43m.\u001b[39;49m\u001b[43mget_loc\u001b[49m\u001b[43m(\u001b[49m\u001b[43mkey\u001b[49m\u001b[43m)\u001b[49m\n\u001b[0;32m   4103\u001b[0m \u001b[38;5;28;01mif\u001b[39;00m is_integer(indexer):\n\u001b[0;32m   4104\u001b[0m     indexer \u001b[38;5;241m=\u001b[39m [indexer]\n",
      "File \u001b[1;32mc:\\Users\\esaa2\\anaconda3\\envs\\python3921\\lib\\site-packages\\pandas\\core\\indexes\\base.py:3812\u001b[0m, in \u001b[0;36mIndex.get_loc\u001b[1;34m(self, key)\u001b[0m\n\u001b[0;32m   3807\u001b[0m     \u001b[38;5;28;01mif\u001b[39;00m \u001b[38;5;28misinstance\u001b[39m(casted_key, \u001b[38;5;28mslice\u001b[39m) \u001b[38;5;129;01mor\u001b[39;00m (\n\u001b[0;32m   3808\u001b[0m         \u001b[38;5;28misinstance\u001b[39m(casted_key, abc\u001b[38;5;241m.\u001b[39mIterable)\n\u001b[0;32m   3809\u001b[0m         \u001b[38;5;129;01mand\u001b[39;00m \u001b[38;5;28many\u001b[39m(\u001b[38;5;28misinstance\u001b[39m(x, \u001b[38;5;28mslice\u001b[39m) \u001b[38;5;28;01mfor\u001b[39;00m x \u001b[38;5;129;01min\u001b[39;00m casted_key)\n\u001b[0;32m   3810\u001b[0m     ):\n\u001b[0;32m   3811\u001b[0m         \u001b[38;5;28;01mraise\u001b[39;00m InvalidIndexError(key)\n\u001b[1;32m-> 3812\u001b[0m     \u001b[38;5;28;01mraise\u001b[39;00m \u001b[38;5;167;01mKeyError\u001b[39;00m(key) \u001b[38;5;28;01mfrom\u001b[39;00m \u001b[38;5;21;01merr\u001b[39;00m\n\u001b[0;32m   3813\u001b[0m \u001b[38;5;28;01mexcept\u001b[39;00m \u001b[38;5;167;01mTypeError\u001b[39;00m:\n\u001b[0;32m   3814\u001b[0m     \u001b[38;5;66;03m# If we have a listlike key, _check_indexing_error will raise\u001b[39;00m\n\u001b[0;32m   3815\u001b[0m     \u001b[38;5;66;03m#  InvalidIndexError. Otherwise we fall through and re-raise\u001b[39;00m\n\u001b[0;32m   3816\u001b[0m     \u001b[38;5;66;03m#  the TypeError.\u001b[39;00m\n\u001b[0;32m   3817\u001b[0m     \u001b[38;5;28mself\u001b[39m\u001b[38;5;241m.\u001b[39m_check_indexing_error(key)\n",
      "\u001b[1;31mKeyError\u001b[0m: 'region'"
     ]
    },
    {
     "data": {
      "image/png": "[encoded data removed]",
      "text/plain": [
       "<Figure size 250x250 with 1 Axes>"
      ]
     },
     "metadata": {},
     "output_type": "display_data"
    }
   ],
   "source": [
    "# Crear pairplot si hay al menos 3 columnas numéricas\n",
    "sns.pairplot(df_analisis, hue=\"region\")  # ajustar según tus columnas\n",
    "plt.suptitle(\"Gráfica de pares por región\", y=1.02)\n",
    "plt.show()\n"
   ]
  },
  {
   "cell_type": "markdown",
   "id": "401f4840",
   "metadata": {},
   "source": [
    "📌 Series temporales"
   ]
  },
  {
   "cell_type": "code",
   "execution_count": null,
   "id": "88bb98c3",
   "metadata": {},
   "outputs": [],
   "source": [
    "# Graficar evolución temporal por región\n",
    "sns.lineplot(data=df_analisis, x=\"year\", y=\"valor\", hue=\"region\")\n",
    "plt.title(\"Serie temporal del GDP por región\")\n",
    "plt.xticks(rotation=45)\n",
    "plt.tight_layout()\n",
    "plt.show()\n"
   ]
  },
  {
   "cell_type": "markdown",
   "id": "f76a563f",
   "metadata": {},
   "source": [
    "##  Selección de subconjunto alternativo con unidad en porcentaje (%)"
   ]
  },
  {
   "cell_type": "code",
   "execution_count": null,
   "id": "eafc2624",
   "metadata": {},
   "outputs": [],
   "source": [
    "# Filtrar subconjuntos donde la unidad es porcentaje\n",
    "claves_porcentaje = [k for k in subconjuntos.keys() if \"%\" in k]\n",
    "\n",
    "# Mostrar algunas opciones\n",
    "claves_porcentaje[:5]\n"
   ]
  },
  {
   "cell_type": "markdown",
   "id": "25ad7d1e",
   "metadata": {},
   "source": [
    "### Seleccionar un subconjunto basado en unidad en porcentaje"
   ]
  },
  {
   "cell_type": "code",
   "execution_count": null,
   "id": "08f48b23",
   "metadata": {},
   "outputs": [],
   "source": [
    "# Seleccionar manualmente uno que tenga buena cobertura de datos\n",
    "nombre_sub_pct = claves_porcentaje[0]  # puedes cambiar el índice por otro si lo deseas\n",
    "df_analisis_pct = subconjuntos[nombre_sub_pct].copy()\n",
    "\n",
    "# Mostrar info básica\n",
    "df_analisis_pct.head()\n"
   ]
  },
  {
   "cell_type": "markdown",
   "id": "74ca1c69",
   "metadata": {},
   "source": [
    "### Limpieza del subconjunto porcentual"
   ]
  },
  {
   "cell_type": "code",
   "execution_count": null,
   "id": "cf110914",
   "metadata": {},
   "outputs": [],
   "source": [
    "# Renombrar valor\n",
    "df_analisis_pct.rename(columns={\"value\": \"valor\"}, inplace=True)\n",
    "\n",
    "# Eliminar nulos y duplicados\n",
    "df_analisis_pct.dropna(inplace=True)\n",
    "df_analisis_pct.drop_duplicates(inplace=True)\n"
   ]
  },
  {
   "cell_type": "markdown",
   "id": "8c2ca108",
   "metadata": {},
   "source": [
    "### 📊 Análisis multivariado del subconjunto porcentual"
   ]
  },
  {
   "cell_type": "markdown",
   "id": "53b0524e",
   "metadata": {},
   "source": [
    "📌 Evolución temporal"
   ]
  },
  {
   "cell_type": "code",
   "execution_count": null,
   "id": "d3131df8",
   "metadata": {},
   "outputs": [],
   "source": [
    "sns.lineplot(data=df_analisis_pct, x=\"year\", y=\"valor\", hue=\"region\")\n",
    "plt.title(\"Evolución del indicador en porcentaje por región\")\n",
    "plt.xticks(rotation=45)\n",
    "plt.tight_layout()\n",
    "plt.show()\n"
   ]
  },
  {
   "cell_type": "markdown",
   "id": "c5b4798c",
   "metadata": {},
   "source": [
    "📌 Boxplot por región"
   ]
  },
  {
   "cell_type": "code",
   "execution_count": null,
   "id": "511c95f6",
   "metadata": {},
   "outputs": [],
   "source": [
    "sns.boxplot(data=df_analisis_pct, x=\"region\", y=\"valor\")\n",
    "plt.title(\"Distribución del indicador porcentual por región\")\n",
    "plt.xticks(rotation=90)\n",
    "plt.tight_layout()\n",
    "plt.show()\n"
   ]
  },
  {
   "cell_type": "markdown",
   "id": "c214ad78",
   "metadata": {},
   "source": [
    "📌 Gráfico de dispersión coloreado por región"
   ]
  },
  {
   "cell_type": "code",
   "execution_count": null,
   "id": "fdb58ceb",
   "metadata": {},
   "outputs": [],
   "source": [
    "sns.scatterplot(data=df_analisis_pct, x=\"year\", y=\"valor\", hue=\"region\", palette=\"plasma\")\n",
    "plt.title(\"Dispersión del indicador porcentual\")\n",
    "plt.xticks(rotation=45)\n",
    "plt.tight_layout()\n",
    "plt.show()\n"
   ]
  },
  {
   "cell_type": "markdown",
   "id": "1c01f8eb",
   "metadata": {},
   "source": [
    "📌 Pairplot (si hay más columnas numéricas relevantes)"
   ]
  },
  {
   "cell_type": "code",
   "execution_count": null,
   "id": "7ce3ac27",
   "metadata": {},
   "outputs": [],
   "source": [
    "sns.pairplot(df_analisis_pct, hue=\"region\")\n",
    "plt.suptitle(\"Análisis multivariado de porcentaje\", y=1.02)\n",
    "plt.show()\n"
   ]
  },
  {
   "cell_type": "markdown",
   "id": "dcf52578",
   "metadata": {},
   "source": [
    "## Unión de subconjuntos por regiones comunes"
   ]
  },
  {
   "cell_type": "code",
   "execution_count": null,
   "id": "bfeec011",
   "metadata": {},
   "outputs": [],
   "source": [
    "# Extraer las regiones comunes\n",
    "regiones_comunes = set(df_analisis_millones[\"region\"]).intersection(set(df_analisis_pct[\"region\"]))\n",
    "print(f\"Número de regiones comunes: {len(regiones_comunes)}\")\n",
    "\n",
    "# Filtrar ambos subconjuntos por las regiones comunes\n",
    "df_millones_comunes = df_analisis_millones[df_analisis_millones[\"region\"].isin(regiones_comunes)]\n",
    "df_pct_comunes = df_analisis_pct[df_analisis_pct[\"region\"].isin(regiones_comunes)]\n",
    "\n",
    "# Renombrar columnas valor para distinguirlas\n",
    "df_millones_comunes = df_millones_comunes.rename(columns={\"valor\": \"valor_millones\"})\n",
    "df_pct_comunes = df_pct_comunes.rename(columns={\"valor\": \"valor_pct\"})\n",
    "\n",
    "# Unir ambos datasets por año y región\n",
    "df_comparado = pd.merge(df_millones_comunes, df_pct_comunes, on=[\"region\", \"year\"], how=\"inner\")\n",
    "\n",
    "# Mostrar ejemplo\n",
    "df_comparado.head()\n"
   ]
  },
  {
   "cell_type": "markdown",
   "id": "866bc72a",
   "metadata": {},
   "source": [
    "### Análisis comparativo multivariado entre ambos subconjuntos"
   ]
  },
  {
   "cell_type": "markdown",
   "id": "0b8bf2a8",
   "metadata": {},
   "source": [
    "📌 Gráfico conjunto: porcentaje vs millones"
   ]
  },
  {
   "cell_type": "code",
   "execution_count": null,
   "id": "dcafa922",
   "metadata": {},
   "outputs": [],
   "source": [
    "plt.figure(figsize=(10, 6))\n",
    "sns.scatterplot(data=df_comparado, x=\"valor_millones\", y=\"valor_pct\", hue=\"region\")\n",
    "plt.title(\"Relación entre valor en millones y porcentaje por región y año\")\n",
    "plt.xlabel(\"Valor en millones\")\n",
    "plt.ylabel(\"Valor en porcentaje\")\n",
    "plt.tight_layout()\n",
    "plt.show()\n"
   ]
  },
  {
   "cell_type": "markdown",
   "id": "f1885871",
   "metadata": {},
   "source": [
    "📌 Gráfico por año: comparación de escalas"
   ]
  },
  {
   "cell_type": "code",
   "execution_count": null,
   "id": "f4b49226",
   "metadata": {},
   "outputs": [],
   "source": [
    "sns.lmplot(data=df_comparado, x=\"valor_millones\", y=\"valor_pct\", col=\"year\", hue=\"region\", col_wrap=4, height=4, aspect=1)\n",
    "plt.suptitle(\"Comparación multivariada por año\", y=1.02)\n",
    "plt.show()\n"
   ]
  },
  {
   "cell_type": "markdown",
   "id": "044620b3",
   "metadata": {},
   "source": [
    "📌 correlación entre ambas variables"
   ]
  },
  {
   "cell_type": "code",
   "execution_count": null,
   "id": "c89bc07a",
   "metadata": {},
   "outputs": [],
   "source": [
    "correlacion = df_comparado[\"valor_millones\"].corr(df_comparado[\"valor_pct\"])\n",
    "print(f\"Correlación entre valores en millones y porcentaje: {correlacion:.2f}\")\n"
   ]
  },
  {
   "cell_type": "markdown",
   "id": "ab2f3dfb",
   "metadata": {},
   "source": [
    "## 💾 Exportación de subconjuntos a archivos .csv"
   ]
  },
  {
   "cell_type": "code",
   "execution_count": null,
   "id": "4ec9b649",
   "metadata": {},
   "outputs": [],
   "source": [
    "# Guardar los tres subconjuntos\n",
    "df_analisis_millones.to_csv(\"subconjunto_millones.csv\", index=False)\n",
    "df_analisis_pct.to_csv(\"subconjunto_porcentaje.csv\", index=False)\n",
    "df_comparado.to_csv(\"subconjunto_comparado.csv\", index=False)\n",
    "print(\"Archivos guardados correctamente.\")\n"
   ]
  },
  {
   "cell_type": "markdown",
   "id": "c399a733",
   "metadata": {},
   "source": [
    "## Conclusión "
   ]
  },
  {
   "cell_type": "markdown",
   "id": "56f35de9",
   "metadata": {},
   "source": [
    "Tenemos: \n",
    "\n",
    "- Subconjuntos separados y analizados.\n",
    "- Cruce por regiones comunes.\n",
    "- Comparación visual y estadística multivariada.\n",
    "- Exportación lista para informes o dashboard externos."
   ]
  }
 ],
 "metadata": {
  "kernelspec": {
   "display_name": "python3921",
   "language": "python",
   "name": "python3"
  },
  "language_info": {
   "codemirror_mode": {
    "name": "ipython",
    "version": 3
   },
   "file_extension": ".py",
   "mimetype": "text/x-python",
   "name": "python",
   "nbconvert_exporter": "python",
   "pygments_lexer": "ipython3",
   "version": "3.9.21"
  }
 },
 "nbformat": 4,
 "nbformat_minor": 5
}
