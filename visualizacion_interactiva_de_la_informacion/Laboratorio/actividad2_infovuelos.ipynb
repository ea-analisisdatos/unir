{
  "cells": [
    {
      "cell_type": "markdown",
      "id": "B8XxSFFS0y3E",
      "metadata": {
        "id": "B8XxSFFS0y3E"
      },
      "source": [
        "<img src=\"https://www.unir.net/wp-content/uploads/2019/11/Unir_2021_logo.svg\" width=\"240\" height=\"240\" align=\"right\"/>\n"
      ]
    },
    {
      "cell_type": "markdown",
      "id": "XbIDvhB01TCZ",
      "metadata": {
        "id": "XbIDvhB01TCZ"
      },
      "source": [
        "# **Análisis de los Destinos Turísticos desde aeropuertos españoles** ✈️\n",
        "\n",
        "\n"
      ]
    },
    {
      "cell_type": "markdown",
      "id": "PL1uyTNi2kNV",
      "metadata": {
        "id": "PL1uyTNi2kNV"
      },
      "source": [
        "\n",
        "<p>\n",
        "<b>Laboratorio: Trabajo individual:</b>\n",
        "<b>Profesor:</b> YUSEF HASSAN MONTERO <br>\n",
        "<b>Asignatura:</b> Visualización Interactiva de la Información <br>\n",
        "<b>Fecha de entrega:</b>  01/06/2025 <br>\n",
        "<b>Alumna: <br>\n",
        "    </b>- Erika Samara Alvares Angelim <br>\n",
        "    \n",
        "</p>\n"
      ]
    },
    {
      "cell_type": "markdown",
      "id": "bz0N0L1ataJq",
      "metadata": {
        "id": "bz0N0L1ataJq"
      },
      "source": [
        "En esta sección vamos hacer el tratamiento del dataset `df_vuelos` con el objetivo de:\n",
        "\n",
        "- Corregir registros duplicados y nulos en campos clave.\n",
        "- Imputar datos faltantes (cuando sea válido) para no descartar vuelos completos.\n",
        "- Preparar una estructura final que nos permita analizar los destinos más populares y su evolución.\n",
        "\n",
        "\n",
        "\n",
        "\n",
        "Este proceso sigue la lógica empleada en la Parte I del informe, enfocándonos en la preparación de datos para visualización. <br>"
      ]
    },
    {
      "cell_type": "markdown",
      "id": "84fc1194",
      "metadata": {
        "id": "84fc1194"
      },
      "source": [
        "## ✔️**Instalar las bibliotecas necesarias**\n"
      ]
    },
    {
      "cell_type": "code",
      "execution_count": 1,
      "id": "7ZNm6K3hvLvP",
      "metadata": {
        "colab": {
          "base_uri": "https://localhost:8080/"
        },
        "id": "7ZNm6K3hvLvP",
        "outputId": "dff85ac6-9ca3-4d40-c596-cd61fbfc7224"
      },
      "outputs": [
        {
          "name": "stdout",
          "output_type": "stream",
          "text": [
            "✅ numpy ya está instalado.\n",
            "✅ matplotlib ya está instalado.\n",
            "✅ pandas ya está instalado.\n",
            "✅ seaborn ya está instalado.\n",
            "✅ scikit-learn ya está instalado.\n",
            "✅ statsmodels ya está instalado.\n",
            "✅ plotly.express ya está instalado.\n",
            "✅ Todas las librerías necesarias están instaladas.\n",
            "\n",
            "--- ✅ Librerías Importadas con Exito ---\n"
          ]
        }
      ],
      "source": [
        "#Para esta actividad se importarán las siguientes librerías:\n",
        "\n",
        "# Instalar librerías necesarias para el análisis de datos y la visualización\n",
        "# Primero verifica si las librerías de Ciencias de Datos estan todas instaladas y si no, las instalan\n",
        "import importlib\n",
        "import subprocess\n",
        "import sys\n",
        "\n",
        "def install_if_missing(package_name, import_name=None):\n",
        "    try:\n",
        "        importlib.import_module(import_name or package_name)\n",
        "        print(f\"✅ {package_name} ya está instalado.\")\n",
        "    except ImportError:\n",
        "        print(f\"⬇️ Instalando {package_name}...\")\n",
        "        subprocess.check_call([sys.executable, \"-m\", \"pip\", \"install\", package_name])\n",
        "\n",
        "# Lista de paquetes a verificar\n",
        "packages = {\n",
        "    \"numpy\": \"numpy\",\n",
        "    \"matplotlib\": \"matplotlib\",\n",
        "    \"pandas\": \"pandas\",\n",
        "    \"seaborn\": \"seaborn\",\n",
        "    \"scikit-learn\": \"sklearn\",\n",
        "    \"statsmodels\": \"statsmodels\",\n",
        "    \"plotly.express\": \"plotly.express\",\n",
        "}\n",
        "for pkg, import_name in packages.items():\n",
        "    install_if_missing(pkg, import_name)\n",
        "print(\"✅ Todas las librerías necesarias están instaladas.\")\n",
        "\n",
        "\n",
        "#Para esta actividad se importarán las siguientes librerías:\n",
        "# Importación de librerías (Python)\n",
        "import pandas as pd\n",
        "from pandas import Period # Para manejar periodos de tiempo\n",
        "import numpy as np\n",
        "import matplotlib.pyplot as plt\n",
        "import matplotlib.dates as mdates # Para manejar fechas\n",
        "import matplotlib.font_manager as font_manager # Para manejar fuentes\n",
        "import seaborn as sns\n",
        "import warnings\n",
        "import json\n",
        "from scipy.stats import linregress\n",
        "\n",
        "import locale # para usar idioma local\n",
        "from IPython.display import display # Asegurarse de importar display si se usa\n",
        "import plotly.graph_objects as go # Necesitarás instalar plotly: !pip install plotly # Instalamos la librería para Sankey\n",
        "\n",
        "import warnings # Biblioteca para manejar las advertencias en Python\n",
        "\n",
        "\n",
        "print(\"\\n--- ✅ Librerías Importadas con Exito ---\")\n"
      ]
    },
    {
      "cell_type": "markdown",
      "id": "ORCMB_ApxAv1",
      "metadata": {
        "id": "ORCMB_ApxAv1"
      },
      "source": [
        "## **Cargar el Dataset**"
      ]
    },
    {
      "cell_type": "code",
      "execution_count": 2,
      "id": "ae087cb4",
      "metadata": {
        "id": "ae087cb4"
      },
      "outputs": [],
      "source": [
        "# Configuración ambiente de trabajo\n",
        "\n",
        "warnings.filterwarnings('ignore') # Ocultar warnings\n",
        "\n",
        "# Mostrar todas las columnas sin truncamiento\n",
        "#pd.set_option('display.max_columns', None)       # Muestra todas las columnas\n",
        "#pd.set_option('display.max_rows', None)          # Muestra todas las filas\n",
        "\n",
        "# Configuración de estilo de visualización\n",
        "sns.set_theme(style=\"ticks\", palette=\"deep\")\n",
        "\n",
        "# Parámetros para las gráficas\n",
        "default_figsize = (10, 6)\n"
      ]
    },
    {
      "cell_type": "code",
      "execution_count": 3,
      "id": "55918534",
      "metadata": {
        "colab": {
          "base_uri": "https://localhost:8080/",
          "height": 447
        },
        "id": "55918534",
        "outputId": "7f59c893-fa27-437f-8712-24b3a6fa2875"
      },
      "outputs": [
        {
          "name": "stdout",
          "output_type": "stream",
          "text": [
            "Número de filas antes de limpiar fechas: 39102\n"
          ]
        },
        {
          "data": {
            "application/vnd.microsoft.datawrangler.viewer.v0+json": {
              "columns": [
                {
                  "name": "index",
                  "rawType": "int64",
                  "type": "integer"
                },
                {
                  "name": "flightNumber",
                  "rawType": "object",
                  "type": "string"
                },
                {
                  "name": "plane",
                  "rawType": "object",
                  "type": "string"
                },
                {
                  "name": "dep_date",
                  "rawType": "object",
                  "type": "string"
                },
                {
                  "name": "dep_time",
                  "rawType": "object",
                  "type": "string"
                },
                {
                  "name": "dep_airport_name",
                  "rawType": "object",
                  "type": "string"
                },
                {
                  "name": "dep_airport_code",
                  "rawType": "object",
                  "type": "string"
                },
                {
                  "name": "dep_terminal",
                  "rawType": "object",
                  "type": "string"
                },
                {
                  "name": "dep_status",
                  "rawType": "object",
                  "type": "string"
                },
                {
                  "name": "dep_weather_min",
                  "rawType": "object",
                  "type": "string"
                },
                {
                  "name": "dep_weather_max",
                  "rawType": "object",
                  "type": "string"
                },
                {
                  "name": "dep_weather_desc",
                  "rawType": "object",
                  "type": "string"
                },
                {
                  "name": "dep_counter",
                  "rawType": "object",
                  "type": "string"
                },
                {
                  "name": "dep_door",
                  "rawType": "object",
                  "type": "string"
                },
                {
                  "name": "arr_date",
                  "rawType": "object",
                  "type": "string"
                },
                {
                  "name": "arr_time",
                  "rawType": "object",
                  "type": "string"
                },
                {
                  "name": "arr_airport_name",
                  "rawType": "object",
                  "type": "string"
                },
                {
                  "name": "arr_airport_code",
                  "rawType": "object",
                  "type": "string"
                },
                {
                  "name": "arr_terminal",
                  "rawType": "object",
                  "type": "string"
                },
                {
                  "name": "arr_status",
                  "rawType": "object",
                  "type": "string"
                },
                {
                  "name": "arr_weather_min",
                  "rawType": "object",
                  "type": "string"
                },
                {
                  "name": "arr_weather_max",
                  "rawType": "object",
                  "type": "string"
                },
                {
                  "name": "arr_weather_desc",
                  "rawType": "object",
                  "type": "string"
                },
                {
                  "name": "arr_room",
                  "rawType": "object",
                  "type": "string"
                },
                {
                  "name": "arr_belt",
                  "rawType": "object",
                  "type": "string"
                },
                {
                  "name": "timestamp",
                  "rawType": "object",
                  "type": "string"
                }
              ],
              "ref": "127a2610-0d25-48aa-8cb5-624ba096bf96",
              "rows": [
                [
                  "0",
                  "HTY134",
                  " AWH",
                  "13/04/18",
                  "10:00",
                  "ALGECIRAS / HELIPUERTO",
                  "AEI",
                  "-",
                  "El vuelo ha despegado a las 10:03",
                  "9",
                  "16",
                  "Chubascos dispersos",
                  " - ",
                  " - ",
                  "13/04/18",
                  "10:10",
                  "CEUTA",
                  "JCU",
                  "-",
                  "El vuelo ha aterrizado a las 10:12",
                  "11",
                  "17",
                  "Lluvia",
                  " - ",
                  " - ",
                  "2018-04-13 10:33:45"
                ],
                [
                  "1",
                  "HTY110",
                  " AWH",
                  "13/04/18",
                  "14:15",
                  "CEUTA",
                  "JCU",
                  "-",
                  "Llegada prevista a las 14:15",
                  "11",
                  "17",
                  "Lluvia",
                  " - ",
                  " - ",
                  "13/04/18",
                  "14:30",
                  "ALGECIRAS / HELIPUERTO",
                  "AEI",
                  "-",
                  "Salida prevista a las 14:35",
                  "9",
                  "16",
                  "Chubascos dispersos",
                  " - ",
                  " - ",
                  "2018-04-13 10:33:47"
                ],
                [
                  "2",
                  "HTY112",
                  " AWH",
                  "13/04/18",
                  "15:05",
                  "ALGECIRAS / HELIPUERTO",
                  "AEI",
                  "-",
                  "Salida prevista a las 15:10",
                  "9",
                  "16",
                  "Chubascos dispersos",
                  " - ",
                  " - ",
                  "13/04/18",
                  "15:15",
                  "CEUTA",
                  "JCU",
                  "-",
                  "Llegada prevista a las 15:15",
                  "11",
                  "17",
                  "Lluvia",
                  " - ",
                  " - ",
                  "2018-04-13 10:33:48"
                ],
                [
                  "3",
                  "HTY114",
                  " AWH",
                  "13/04/18",
                  "15:35",
                  "ALGECIRAS / HELIPUERTO",
                  "AEI",
                  "-",
                  "Salida prevista a las 15:40",
                  "9",
                  "16",
                  "Chubascos dispersos",
                  " - ",
                  " - ",
                  "13/04/18",
                  "15:45",
                  "CEUTA",
                  "JCU",
                  "-",
                  "Llegada prevista a las 15:45",
                  "11",
                  "17",
                  "Lluvia",
                  " - ",
                  " - ",
                  "2018-04-13 10:33:50"
                ],
                [
                  "4",
                  "HTY138",
                  " AWH",
                  "13/04/18",
                  "18:45",
                  "ALGECIRAS / HELIPUERTO",
                  "AEI",
                  "-",
                  "Salida prevista a las 18:50",
                  "9",
                  "16",
                  "Chubascos dispersos",
                  " - ",
                  " - ",
                  "13/04/18",
                  "18:55",
                  "CEUTA",
                  "JCU",
                  "-",
                  "Llegada prevista a las 18:55",
                  "11",
                  "17",
                  "Lluvia",
                  " - ",
                  " - ",
                  "2018-04-13 10:33:51"
                ]
              ],
              "shape": {
                "columns": 25,
                "rows": 5
              }
            },
            "text/html": [
              "<div>\n",
              "<style scoped>\n",
              "    .dataframe tbody tr th:only-of-type {\n",
              "        vertical-align: middle;\n",
              "    }\n",
              "\n",
              "    .dataframe tbody tr th {\n",
              "        vertical-align: top;\n",
              "    }\n",
              "\n",
              "    .dataframe thead th {\n",
              "        text-align: right;\n",
              "    }\n",
              "</style>\n",
              "<table border=\"1\" class=\"dataframe\">\n",
              "  <thead>\n",
              "    <tr style=\"text-align: right;\">\n",
              "      <th></th>\n",
              "      <th>flightNumber</th>\n",
              "      <th>plane</th>\n",
              "      <th>dep_date</th>\n",
              "      <th>dep_time</th>\n",
              "      <th>dep_airport_name</th>\n",
              "      <th>dep_airport_code</th>\n",
              "      <th>dep_terminal</th>\n",
              "      <th>dep_status</th>\n",
              "      <th>dep_weather_min</th>\n",
              "      <th>dep_weather_max</th>\n",
              "      <th>...</th>\n",
              "      <th>arr_airport_name</th>\n",
              "      <th>arr_airport_code</th>\n",
              "      <th>arr_terminal</th>\n",
              "      <th>arr_status</th>\n",
              "      <th>arr_weather_min</th>\n",
              "      <th>arr_weather_max</th>\n",
              "      <th>arr_weather_desc</th>\n",
              "      <th>arr_room</th>\n",
              "      <th>arr_belt</th>\n",
              "      <th>timestamp</th>\n",
              "    </tr>\n",
              "  </thead>\n",
              "  <tbody>\n",
              "    <tr>\n",
              "      <th>0</th>\n",
              "      <td>HTY134</td>\n",
              "      <td>AWH</td>\n",
              "      <td>13/04/18</td>\n",
              "      <td>10:00</td>\n",
              "      <td>ALGECIRAS / HELIPUERTO</td>\n",
              "      <td>AEI</td>\n",
              "      <td>-</td>\n",
              "      <td>El vuelo ha despegado a las 10:03</td>\n",
              "      <td>9</td>\n",
              "      <td>16</td>\n",
              "      <td>...</td>\n",
              "      <td>CEUTA</td>\n",
              "      <td>JCU</td>\n",
              "      <td>-</td>\n",
              "      <td>El vuelo ha aterrizado a las 10:12</td>\n",
              "      <td>11</td>\n",
              "      <td>17</td>\n",
              "      <td>Lluvia</td>\n",
              "      <td>-</td>\n",
              "      <td>-</td>\n",
              "      <td>2018-04-13 10:33:45</td>\n",
              "    </tr>\n",
              "    <tr>\n",
              "      <th>1</th>\n",
              "      <td>HTY110</td>\n",
              "      <td>AWH</td>\n",
              "      <td>13/04/18</td>\n",
              "      <td>14:15</td>\n",
              "      <td>CEUTA</td>\n",
              "      <td>JCU</td>\n",
              "      <td>-</td>\n",
              "      <td>Llegada prevista a las 14:15</td>\n",
              "      <td>11</td>\n",
              "      <td>17</td>\n",
              "      <td>...</td>\n",
              "      <td>ALGECIRAS / HELIPUERTO</td>\n",
              "      <td>AEI</td>\n",
              "      <td>-</td>\n",
              "      <td>Salida prevista a las 14:35</td>\n",
              "      <td>9</td>\n",
              "      <td>16</td>\n",
              "      <td>Chubascos dispersos</td>\n",
              "      <td>-</td>\n",
              "      <td>-</td>\n",
              "      <td>2018-04-13 10:33:47</td>\n",
              "    </tr>\n",
              "    <tr>\n",
              "      <th>2</th>\n",
              "      <td>HTY112</td>\n",
              "      <td>AWH</td>\n",
              "      <td>13/04/18</td>\n",
              "      <td>15:05</td>\n",
              "      <td>ALGECIRAS / HELIPUERTO</td>\n",
              "      <td>AEI</td>\n",
              "      <td>-</td>\n",
              "      <td>Salida prevista a las 15:10</td>\n",
              "      <td>9</td>\n",
              "      <td>16</td>\n",
              "      <td>...</td>\n",
              "      <td>CEUTA</td>\n",
              "      <td>JCU</td>\n",
              "      <td>-</td>\n",
              "      <td>Llegada prevista a las 15:15</td>\n",
              "      <td>11</td>\n",
              "      <td>17</td>\n",
              "      <td>Lluvia</td>\n",
              "      <td>-</td>\n",
              "      <td>-</td>\n",
              "      <td>2018-04-13 10:33:48</td>\n",
              "    </tr>\n",
              "    <tr>\n",
              "      <th>3</th>\n",
              "      <td>HTY114</td>\n",
              "      <td>AWH</td>\n",
              "      <td>13/04/18</td>\n",
              "      <td>15:35</td>\n",
              "      <td>ALGECIRAS / HELIPUERTO</td>\n",
              "      <td>AEI</td>\n",
              "      <td>-</td>\n",
              "      <td>Salida prevista a las 15:40</td>\n",
              "      <td>9</td>\n",
              "      <td>16</td>\n",
              "      <td>...</td>\n",
              "      <td>CEUTA</td>\n",
              "      <td>JCU</td>\n",
              "      <td>-</td>\n",
              "      <td>Llegada prevista a las 15:45</td>\n",
              "      <td>11</td>\n",
              "      <td>17</td>\n",
              "      <td>Lluvia</td>\n",
              "      <td>-</td>\n",
              "      <td>-</td>\n",
              "      <td>2018-04-13 10:33:50</td>\n",
              "    </tr>\n",
              "    <tr>\n",
              "      <th>4</th>\n",
              "      <td>HTY138</td>\n",
              "      <td>AWH</td>\n",
              "      <td>13/04/18</td>\n",
              "      <td>18:45</td>\n",
              "      <td>ALGECIRAS / HELIPUERTO</td>\n",
              "      <td>AEI</td>\n",
              "      <td>-</td>\n",
              "      <td>Salida prevista a las 18:50</td>\n",
              "      <td>9</td>\n",
              "      <td>16</td>\n",
              "      <td>...</td>\n",
              "      <td>CEUTA</td>\n",
              "      <td>JCU</td>\n",
              "      <td>-</td>\n",
              "      <td>Llegada prevista a las 18:55</td>\n",
              "      <td>11</td>\n",
              "      <td>17</td>\n",
              "      <td>Lluvia</td>\n",
              "      <td>-</td>\n",
              "      <td>-</td>\n",
              "      <td>2018-04-13 10:33:51</td>\n",
              "    </tr>\n",
              "  </tbody>\n",
              "</table>\n",
              "<p>5 rows × 25 columns</p>\n",
              "</div>"
            ],
            "text/plain": [
              "  flightNumber plane  dep_date dep_time        dep_airport_name  \\\n",
              "0       HTY134   AWH  13/04/18    10:00  ALGECIRAS / HELIPUERTO   \n",
              "1       HTY110   AWH  13/04/18    14:15                   CEUTA   \n",
              "2       HTY112   AWH  13/04/18    15:05  ALGECIRAS / HELIPUERTO   \n",
              "3       HTY114   AWH  13/04/18    15:35  ALGECIRAS / HELIPUERTO   \n",
              "4       HTY138   AWH  13/04/18    18:45  ALGECIRAS / HELIPUERTO   \n",
              "\n",
              "  dep_airport_code dep_terminal                         dep_status  \\\n",
              "0              AEI            -  El vuelo ha despegado a las 10:03   \n",
              "1              JCU            -       Llegada prevista a las 14:15   \n",
              "2              AEI            -        Salida prevista a las 15:10   \n",
              "3              AEI            -        Salida prevista a las 15:40   \n",
              "4              AEI            -        Salida prevista a las 18:50   \n",
              "\n",
              "  dep_weather_min dep_weather_max  ...        arr_airport_name  \\\n",
              "0               9              16  ...                   CEUTA   \n",
              "1              11              17  ...  ALGECIRAS / HELIPUERTO   \n",
              "2               9              16  ...                   CEUTA   \n",
              "3               9              16  ...                   CEUTA   \n",
              "4               9              16  ...                   CEUTA   \n",
              "\n",
              "  arr_airport_code arr_terminal                          arr_status  \\\n",
              "0              JCU            -  El vuelo ha aterrizado a las 10:12   \n",
              "1              AEI            -         Salida prevista a las 14:35   \n",
              "2              JCU            -        Llegada prevista a las 15:15   \n",
              "3              JCU            -        Llegada prevista a las 15:45   \n",
              "4              JCU            -        Llegada prevista a las 18:55   \n",
              "\n",
              "  arr_weather_min arr_weather_max     arr_weather_desc arr_room arr_belt  \\\n",
              "0              11              17               Lluvia       -        -    \n",
              "1               9              16  Chubascos dispersos       -        -    \n",
              "2              11              17               Lluvia       -        -    \n",
              "3              11              17               Lluvia       -        -    \n",
              "4              11              17               Lluvia       -        -    \n",
              "\n",
              "             timestamp  \n",
              "0  2018-04-13 10:33:45  \n",
              "1  2018-04-13 10:33:47  \n",
              "2  2018-04-13 10:33:48  \n",
              "3  2018-04-13 10:33:50  \n",
              "4  2018-04-13 10:33:51  \n",
              "\n",
              "[5 rows x 25 columns]"
            ]
          },
          "execution_count": 3,
          "metadata": {},
          "output_type": "execute_result"
        }
      ],
      "source": [
        "# Cargar CSVs (Importación en bruto (sin tratar tipos ni limpiar))\n",
        "url_vuelos = 'https://raw.githubusercontent.com/InnocenceAllen/AENA_Info_Vuelos/master/infovuelos_sample.csv'\n",
        "\n",
        "# Leer CSV directamente desde la URL\n",
        "df_vuelos = pd.read_csv(url_vuelos, sep=';')\n",
        "\n",
        "# --- Añadir comprobación inicial ---\n",
        "print(\"Número de filas antes de limpiar fechas:\", len(df_vuelos))\n",
        "\n",
        "# Mostrar primeras filas para inspección\n",
        "df_vuelos.head()"
      ]
    },
    {
      "cell_type": "markdown",
      "id": "bSIhLlrb4hxF",
      "metadata": {
        "id": "bSIhLlrb4hxF"
      },
      "source": [
        "## **Explique el problema a resolver.**\n",
        "Descripción del problema. Tipo de problema (justifique). Variable objetivo, variables de entrada. Utilidad de su posible solución. Elementos adicionales que considere relevantes:\n",
        "\n",
        "### 📌 **Definición de un problema estadístico: modelización y propuesta de soluciones**\n",
        "\n",
        "En esta sección se trabaja con el dataset [infovuelos_sample.csv](https://github.com/InnocenceAllen/AENA_Info_Vuelos_V2), el cual contiene información sobre vuelos diários que comprenden el periodo de 13/04/2018 a 15/04/2018 en los principales aeropuertos de España.\n",
        "\n",
        "El dataset ha sido obtenido del catálogo de datos del curso y se encuentra almacenados en Github.\n",
        "\n",
        "El objetivo principal es identificar cuáles son los destinos turísticos más populares, en términos de número de vuelos recibidos, y si su volumen muestra una tendencia creciente o decreciente durante el periodo observado. <br>\n",
        "\n",
        "**Diccionário de Datos:**\n",
        "\n",
        "| Campo               | Descripción                              | Tipo de dato | Muestra                   |\n",
        "|---------------------|------------------------------------------|--------------|---------------------------|\n",
        "| flightNumber        | Número de vuelo                          | String       | AEA7232                   |\n",
        "| company             | Compañía aérea                           | String       | IBERIA                    |\n",
        "| plane               | Nombre del avión                         | String       | ATR-72                    |\n",
        "| dep_date            | Fecha de salida                          | Datetime     | 13/04/18                  |\n",
        "| dep_time            | Hora de salida                           | Datetime     | 06:30                     |\n",
        "| dep_airport_name    | Nombre del aeropuerto de origen          | String       | A Coruña                  |\n",
        "| dep_airport_code    | Código del aeropuerto de origen          | String       | LCG                       |\n",
        "| dep_terminal        | Terminal de salida                       | String       | 1                         |\n",
        "| dep_status          | Estado de salida                         | String       | Salida prevista a las 07:00 |\n",
        "| dep_weather_min     | Temperatura mínima en origen             | Integer      | 10                        |\n",
        "| dep_weather_max     | Temperatura máxima en origen             | Integer      | 15                        |\n",
        "| dep_weather_desc    | Descripción del clima en origen          | String       | Nubosidad variable        |\n",
        "| dep_counter         | Mostrador de facturación                 | Integer      | 6                         |\n",
        "| dep_door            | Puerta de embarque                       | Integer      | 7                         |\n",
        "| arr_date            | Fecha de llegada                         | Datetime     | 13/04/18                  |\n",
        "| arr_time            | Hora de llegada                          | Datetime     | 08:40                     |\n",
        "| arr_airport_name    | Nombre del aeropuerto de destino         | String       | Barcelona-El Prat         |\n",
        "| arr_terminal        | Terminal de destino                      | String       | T1                        |\n",
        "| arr_status          | Estado de llegada                        | String       | Llegada prevista a las 08:40 |\n",
        "| arr_weather_min     | Temperatura mínima en destino            | Integer      | 12                        |\n",
        "| arr_weather_max     | Temperatura máxima en destino            | Integer      | 17                        |\n",
        "| arr_weather_desc    | Descripción del clima en destino         | String       | Lluvia débil             |\n",
        "| arr_room            | Sala de recepción                        | String       | T1_G                      |\n",
        "| arr_belt            | Cinta de equipajes                       | Integer      | 7                         |\n",
        "| timestamp           | Tiempo de captura                        | Datetime     | 2018-04-12 23:42:08       |\n",
        "\n",
        "\n",
        "Para llevar al cabo esta actividad se ejecutará el preprocesamienot de datos, realizando limpieza, tratamiendo de datos, creación de nuevas columnas, separación de los datos de vuelos nacionales e internacionales:\n",
        "- Limpieza de datos con valores faltantes.\n",
        "- Detección y tratamiento de registros duplicados.\n",
        "- Preparación de campos clave como fechas y duración de vuelo.\n",
        "- Generación de métricas por destino.\n",
        "- Visualización para identificar popularidad y tendencia.\n",
        "\n",
        "### 📌 **Tipo de problema (justifique):**\n",
        "\n",
        "\n",
        "### 👉 **Utilidad de su posible solución:**\n",
        "- Este tipo de visualización puede ser útil para analizar flujos turísticos y planificar estrategias logísticas o de promoción turística.\n",
        "\n",
        "---\n",
        "\n",
        "\n",
        "\n"
      ]
    },
    {
      "cell_type": "markdown",
      "id": "neiSlwwPEQYH",
      "metadata": {
        "id": "neiSlwwPEQYH"
      },
      "source": [
        "## **Caracterización del Dataset**\n",
        "\n",
        "Se incluye una descripción de los datos con:\n",
        "\n",
        ">- Número de clases de la variable objetivo, indicando que representan dichas clases y el tipo de valor que toman.\n",
        ">- Número de instancias en total.\n",
        ">- Número de instancias pertenecientes a cada clase.\n",
        ">- Número de atributos de entrada, su significado y tipo.\n",
        ">- ¿Hay algún valor de atributo desconocido?\n",
        "\n",
        "Se incorporá una descripción (EDA) del conjunto de datos utilizado. Se analiza el dataset proporcionando, se muestra al menos algunas de sus características mediante tablas y al menos algunas de ellas en modo gráfico (p.ej., histogramas, diagramas de dispersión, diagramas de cajas y bigotes, etc.)"
      ]
    },
    {
      "cell_type": "code",
      "execution_count": 4,
      "id": "b9b24c4e",
      "metadata": {
        "colab": {
          "base_uri": "https://localhost:8080/"
        },
        "id": "b9b24c4e",
        "outputId": "099ae8da-e11a-44f1-fae9-6edacda5754c"
      },
      "outputs": [
        {
          "name": "stdout",
          "output_type": "stream",
          "text": [
            "Número de filas dataframe df_vuelos: 39102\n",
            "<class 'pandas.core.frame.DataFrame'>\n",
            "RangeIndex: 39102 entries, 0 to 39101\n",
            "Data columns (total 25 columns):\n",
            " #   Column            Non-Null Count  Dtype \n",
            "---  ------            --------------  ----- \n",
            " 0   flightNumber      39102 non-null  object\n",
            " 1   plane             39102 non-null  object\n",
            " 2   dep_date          39102 non-null  object\n",
            " 3   dep_time          39102 non-null  object\n",
            " 4   dep_airport_name  39102 non-null  object\n",
            " 5   dep_airport_code  39102 non-null  object\n",
            " 6   dep_terminal      39102 non-null  object\n",
            " 7   dep_status        39102 non-null  object\n",
            " 8   dep_weather_min   39102 non-null  object\n",
            " 9   dep_weather_max   39102 non-null  object\n",
            " 10  dep_weather_desc  39102 non-null  object\n",
            " 11  dep_counter       39102 non-null  object\n",
            " 12  dep_door          39102 non-null  object\n",
            " 13  arr_date          39102 non-null  object\n",
            " 14  arr_time          39102 non-null  object\n",
            " 15  arr_airport_name  39102 non-null  object\n",
            " 16  arr_airport_code  39102 non-null  object\n",
            " 17  arr_terminal      39102 non-null  object\n",
            " 18  arr_status        39102 non-null  object\n",
            " 19  arr_weather_min   39102 non-null  object\n",
            " 20  arr_weather_max   39102 non-null  object\n",
            " 21  arr_weather_desc  39102 non-null  object\n",
            " 22  arr_room          39102 non-null  object\n",
            " 23  arr_belt          39102 non-null  object\n",
            " 24  timestamp         39102 non-null  object\n",
            "dtypes: object(25)\n",
            "memory usage: 7.5+ MB\n"
          ]
        }
      ],
      "source": [
        "print(\"Número de filas dataframe df_vuelos:\", len(df_vuelos))\n",
        "df_vuelos.info()"
      ]
    },
    {
      "cell_type": "code",
      "execution_count": 5,
      "id": "56901079",
      "metadata": {
        "colab": {
          "base_uri": "https://localhost:8080/",
          "height": 259
        },
        "id": "56901079",
        "outputId": "6b0c508d-3683-42c1-b26c-172e272416c7"
      },
      "outputs": [
        {
          "data": {
            "application/vnd.microsoft.datawrangler.viewer.v0+json": {
              "columns": [
                {
                  "name": "index",
                  "rawType": "object",
                  "type": "string"
                },
                {
                  "name": "flightNumber",
                  "rawType": "object",
                  "type": "unknown"
                },
                {
                  "name": "plane",
                  "rawType": "object",
                  "type": "unknown"
                },
                {
                  "name": "dep_date",
                  "rawType": "object",
                  "type": "unknown"
                },
                {
                  "name": "dep_time",
                  "rawType": "object",
                  "type": "unknown"
                },
                {
                  "name": "dep_airport_name",
                  "rawType": "object",
                  "type": "unknown"
                },
                {
                  "name": "dep_airport_code",
                  "rawType": "object",
                  "type": "unknown"
                },
                {
                  "name": "dep_terminal",
                  "rawType": "object",
                  "type": "unknown"
                },
                {
                  "name": "dep_status",
                  "rawType": "object",
                  "type": "unknown"
                },
                {
                  "name": "dep_weather_min",
                  "rawType": "object",
                  "type": "unknown"
                },
                {
                  "name": "dep_weather_max",
                  "rawType": "object",
                  "type": "unknown"
                },
                {
                  "name": "dep_weather_desc",
                  "rawType": "object",
                  "type": "unknown"
                },
                {
                  "name": "dep_counter",
                  "rawType": "object",
                  "type": "unknown"
                },
                {
                  "name": "dep_door",
                  "rawType": "object",
                  "type": "unknown"
                },
                {
                  "name": "arr_date",
                  "rawType": "object",
                  "type": "unknown"
                },
                {
                  "name": "arr_time",
                  "rawType": "object",
                  "type": "unknown"
                },
                {
                  "name": "arr_airport_name",
                  "rawType": "object",
                  "type": "unknown"
                },
                {
                  "name": "arr_airport_code",
                  "rawType": "object",
                  "type": "unknown"
                },
                {
                  "name": "arr_terminal",
                  "rawType": "object",
                  "type": "unknown"
                },
                {
                  "name": "arr_status",
                  "rawType": "object",
                  "type": "unknown"
                },
                {
                  "name": "arr_weather_min",
                  "rawType": "object",
                  "type": "unknown"
                },
                {
                  "name": "arr_weather_max",
                  "rawType": "object",
                  "type": "unknown"
                },
                {
                  "name": "arr_weather_desc",
                  "rawType": "object",
                  "type": "unknown"
                },
                {
                  "name": "arr_room",
                  "rawType": "object",
                  "type": "unknown"
                },
                {
                  "name": "arr_belt",
                  "rawType": "object",
                  "type": "unknown"
                },
                {
                  "name": "timestamp",
                  "rawType": "object",
                  "type": "unknown"
                }
              ],
              "ref": "3551f437-38cc-4c21-b917-b07f5f7a726f",
              "rows": [
                [
                  "count",
                  "39102",
                  "39102",
                  "39102",
                  "39102",
                  "39102",
                  "39102",
                  "39102",
                  "39102",
                  "39102",
                  "39102",
                  "39102",
                  "39102",
                  "39102",
                  "39102",
                  "39102",
                  "39102",
                  "39102",
                  "39102",
                  "39102",
                  "39102",
                  "39102",
                  "39102",
                  "39102",
                  "39102",
                  "39102"
                ],
                [
                  "unique",
                  "3787",
                  "59",
                  "6",
                  "235",
                  "41",
                  "41",
                  "12",
                  "1822",
                  "16",
                  "17",
                  "14",
                  "719",
                  "410",
                  "5",
                  "215",
                  "275",
                  "275",
                  "13",
                  "1828",
                  "16",
                  "16",
                  "14",
                  "29",
                  "75",
                  "5745"
                ],
                [
                  "top",
                  "IBB650",
                  " BOEING 737-800 WINGLETS",
                  "15/04/18",
                  "-",
                  "MADRID-BARAJAS ADOLFO SUÁREZ",
                  "MAD",
                  "1",
                  "-",
                  "17",
                  "17",
                  "Nubes altas",
                  " - ",
                  " - ",
                  "-",
                  "-",
                  "MADRID-BARAJAS ADOLFO SUÁREZ",
                  "MAD",
                  "-",
                  "-",
                  "-",
                  "-",
                  "-",
                  "-",
                  "-",
                  "2018-04-14 21:06:13"
                ],
                [
                  "freq",
                  "87",
                  "9505",
                  "14386",
                  "861",
                  "4083",
                  "4083",
                  "14897",
                  "868",
                  "6863",
                  "7754",
                  "8712",
                  "2745",
                  "7309",
                  "12920",
                  "12920",
                  "3606",
                  "3606",
                  "19076",
                  "12927",
                  "12920",
                  "12920",
                  "12920",
                  "12920",
                  "12920",
                  "37"
                ]
              ],
              "shape": {
                "columns": 25,
                "rows": 4
              }
            },
            "text/html": [
              "<div>\n",
              "<style scoped>\n",
              "    .dataframe tbody tr th:only-of-type {\n",
              "        vertical-align: middle;\n",
              "    }\n",
              "\n",
              "    .dataframe tbody tr th {\n",
              "        vertical-align: top;\n",
              "    }\n",
              "\n",
              "    .dataframe thead th {\n",
              "        text-align: right;\n",
              "    }\n",
              "</style>\n",
              "<table border=\"1\" class=\"dataframe\">\n",
              "  <thead>\n",
              "    <tr style=\"text-align: right;\">\n",
              "      <th></th>\n",
              "      <th>flightNumber</th>\n",
              "      <th>plane</th>\n",
              "      <th>dep_date</th>\n",
              "      <th>dep_time</th>\n",
              "      <th>dep_airport_name</th>\n",
              "      <th>dep_airport_code</th>\n",
              "      <th>dep_terminal</th>\n",
              "      <th>dep_status</th>\n",
              "      <th>dep_weather_min</th>\n",
              "      <th>dep_weather_max</th>\n",
              "      <th>...</th>\n",
              "      <th>arr_airport_name</th>\n",
              "      <th>arr_airport_code</th>\n",
              "      <th>arr_terminal</th>\n",
              "      <th>arr_status</th>\n",
              "      <th>arr_weather_min</th>\n",
              "      <th>arr_weather_max</th>\n",
              "      <th>arr_weather_desc</th>\n",
              "      <th>arr_room</th>\n",
              "      <th>arr_belt</th>\n",
              "      <th>timestamp</th>\n",
              "    </tr>\n",
              "  </thead>\n",
              "  <tbody>\n",
              "    <tr>\n",
              "      <th>count</th>\n",
              "      <td>39102</td>\n",
              "      <td>39102</td>\n",
              "      <td>39102</td>\n",
              "      <td>39102</td>\n",
              "      <td>39102</td>\n",
              "      <td>39102</td>\n",
              "      <td>39102</td>\n",
              "      <td>39102</td>\n",
              "      <td>39102</td>\n",
              "      <td>39102</td>\n",
              "      <td>...</td>\n",
              "      <td>39102</td>\n",
              "      <td>39102</td>\n",
              "      <td>39102</td>\n",
              "      <td>39102</td>\n",
              "      <td>39102</td>\n",
              "      <td>39102</td>\n",
              "      <td>39102</td>\n",
              "      <td>39102</td>\n",
              "      <td>39102</td>\n",
              "      <td>39102</td>\n",
              "    </tr>\n",
              "    <tr>\n",
              "      <th>unique</th>\n",
              "      <td>3787</td>\n",
              "      <td>59</td>\n",
              "      <td>6</td>\n",
              "      <td>235</td>\n",
              "      <td>41</td>\n",
              "      <td>41</td>\n",
              "      <td>12</td>\n",
              "      <td>1822</td>\n",
              "      <td>16</td>\n",
              "      <td>17</td>\n",
              "      <td>...</td>\n",
              "      <td>275</td>\n",
              "      <td>275</td>\n",
              "      <td>13</td>\n",
              "      <td>1828</td>\n",
              "      <td>16</td>\n",
              "      <td>16</td>\n",
              "      <td>14</td>\n",
              "      <td>29</td>\n",
              "      <td>75</td>\n",
              "      <td>5745</td>\n",
              "    </tr>\n",
              "    <tr>\n",
              "      <th>top</th>\n",
              "      <td>IBB650</td>\n",
              "      <td>BOEING 737-800 WINGLETS</td>\n",
              "      <td>15/04/18</td>\n",
              "      <td>-</td>\n",
              "      <td>MADRID-BARAJAS ADOLFO SUÁREZ</td>\n",
              "      <td>MAD</td>\n",
              "      <td>1</td>\n",
              "      <td>-</td>\n",
              "      <td>17</td>\n",
              "      <td>17</td>\n",
              "      <td>...</td>\n",
              "      <td>MADRID-BARAJAS ADOLFO SUÁREZ</td>\n",
              "      <td>MAD</td>\n",
              "      <td>-</td>\n",
              "      <td>-</td>\n",
              "      <td>-</td>\n",
              "      <td>-</td>\n",
              "      <td>-</td>\n",
              "      <td>-</td>\n",
              "      <td>-</td>\n",
              "      <td>2018-04-14 21:06:13</td>\n",
              "    </tr>\n",
              "    <tr>\n",
              "      <th>freq</th>\n",
              "      <td>87</td>\n",
              "      <td>9505</td>\n",
              "      <td>14386</td>\n",
              "      <td>861</td>\n",
              "      <td>4083</td>\n",
              "      <td>4083</td>\n",
              "      <td>14897</td>\n",
              "      <td>868</td>\n",
              "      <td>6863</td>\n",
              "      <td>7754</td>\n",
              "      <td>...</td>\n",
              "      <td>3606</td>\n",
              "      <td>3606</td>\n",
              "      <td>19076</td>\n",
              "      <td>12927</td>\n",
              "      <td>12920</td>\n",
              "      <td>12920</td>\n",
              "      <td>12920</td>\n",
              "      <td>12920</td>\n",
              "      <td>12920</td>\n",
              "      <td>37</td>\n",
              "    </tr>\n",
              "  </tbody>\n",
              "</table>\n",
              "<p>4 rows × 25 columns</p>\n",
              "</div>"
            ],
            "text/plain": [
              "       flightNumber                     plane  dep_date dep_time  \\\n",
              "count         39102                     39102     39102    39102   \n",
              "unique         3787                        59         6      235   \n",
              "top          IBB650   BOEING 737-800 WINGLETS  15/04/18        -   \n",
              "freq             87                      9505     14386      861   \n",
              "\n",
              "                    dep_airport_name dep_airport_code dep_terminal dep_status  \\\n",
              "count                          39102            39102        39102      39102   \n",
              "unique                            41               41           12       1822   \n",
              "top     MADRID-BARAJAS ADOLFO SUÁREZ              MAD            1          -   \n",
              "freq                            4083             4083        14897        868   \n",
              "\n",
              "       dep_weather_min dep_weather_max  ...              arr_airport_name  \\\n",
              "count            39102           39102  ...                         39102   \n",
              "unique              16              17  ...                           275   \n",
              "top                 17              17  ...  MADRID-BARAJAS ADOLFO SUÁREZ   \n",
              "freq              6863            7754  ...                          3606   \n",
              "\n",
              "       arr_airport_code arr_terminal arr_status arr_weather_min  \\\n",
              "count             39102        39102      39102           39102   \n",
              "unique              275           13       1828              16   \n",
              "top                 MAD            -          -               -   \n",
              "freq               3606        19076      12927           12920   \n",
              "\n",
              "       arr_weather_max arr_weather_desc arr_room arr_belt            timestamp  \n",
              "count            39102            39102    39102    39102                39102  \n",
              "unique              16               14       29       75                 5745  \n",
              "top                  -                -        -        -  2018-04-14 21:06:13  \n",
              "freq             12920            12920    12920    12920                   37  \n",
              "\n",
              "[4 rows x 25 columns]"
            ]
          },
          "execution_count": 5,
          "metadata": {},
          "output_type": "execute_result"
        }
      ],
      "source": [
        "# Estadísticas descriptivas\n",
        "df_vuelos.describe(include='all')"
      ]
    },
    {
      "cell_type": "code",
      "execution_count": 6,
      "id": "j-Qlzs_fdCs1",
      "metadata": {
        "colab": {
          "base_uri": "https://localhost:8080/"
        },
        "id": "j-Qlzs_fdCs1",
        "outputId": "9bcfd644-b20d-405c-be0a-7f7a84ce2292"
      },
      "outputs": [
        {
          "name": "stdout",
          "output_type": "stream",
          "text": [
            "Valores únicos antes de limpiar fechas:\n",
            "flightNumber        3787\n",
            "plane                 59\n",
            "dep_date               6\n",
            "dep_time             235\n",
            "dep_airport_name      41\n",
            "dep_airport_code      41\n",
            "dep_terminal          12\n",
            "dep_status          1822\n",
            "dep_weather_min       16\n",
            "dep_weather_max       17\n",
            "dep_weather_desc      14\n",
            "dep_counter          719\n",
            "dep_door             410\n",
            "arr_date               5\n",
            "arr_time             215\n",
            "arr_airport_name     275\n",
            "arr_airport_code     275\n",
            "arr_terminal          13\n",
            "arr_status          1828\n",
            "arr_weather_min       16\n",
            "arr_weather_max       16\n",
            "arr_weather_desc      14\n",
            "arr_room              29\n",
            "arr_belt              75\n",
            "timestamp           5745\n",
            "dtype: int64\n"
          ]
        }
      ],
      "source": [
        "# Comprobar valores únicos\n",
        "print(\"Valores únicos antes de limpiar fechas:\")\n",
        "print(df_vuelos.nunique())"
      ]
    },
    {
      "cell_type": "markdown",
      "id": "dsRpJF7QVnQZ",
      "metadata": {
        "id": "dsRpJF7QVnQZ"
      },
      "source": [
        "> ## **💡 Principales hallazgos encontrados**\n",
        "> - Al consultar las informaciones sobre la estructura del conjunto de datos, se observa que no hay valores faltantes, devido a que los datos que faltaban han sido rellenados con el caracter \"-\" en varias columnas. Además, todas las columnas poseen el mismo tipo de dato \"object\". Las columnas que deberían estar como numéricas o como fecha/hora deberán ser tratadas posteriormente.\n",
        "\n",
        "> - En el mismo fichero CSV estan los registros de los **vuelos nacionales (llegadas y partidas)** y de los **vuelos internacionales (llegadas y partidas)**.\n",
        "> - Lo que diferen los vuelos nacionales de los internacionales es que para los vuelos internacionales con partida desde aeropuertos españoles, solo hay registro de la fecha/hora de partida, no viene rellenado la fecha/hora de llegada en el destino, del mismo modo, para los vuelos internacionales con destino hacía España, solo hay registro de fecha/hora de llegada, no hay registro de fecha/hora dde partida del país de origen, siendo así, para afrontar esta situación, los datos para el análisis han sido separados por vuelos nacionales y internacionales, además ha sido la mejor estrategia encontrada para hacer la limpieza de los datos (manejar valores faltantes, duplicados, etcs)."
      ]
    },
    {
      "cell_type": "markdown",
      "id": "PL8bxV7wb5c8",
      "metadata": {
        "id": "PL8bxV7wb5c8"
      },
      "source": [
        "## 🧹 **Preprocesamiento y Limpieza de Datos**"
      ]
    },
    {
      "cell_type": "markdown",
      "id": "Rm83Uul3csN-",
      "metadata": {
        "id": "Rm83Uul3csN-"
      },
      "source": [
        "##### **Conversión de tipos de datos para numérico y para fecha/hora y creación de nuevas columnas.**"
      ]
    },
    {
      "cell_type": "code",
      "execution_count": 7,
      "id": "ff4d5ab6",
      "metadata": {
        "colab": {
          "base_uri": "https://localhost:8080/"
        },
        "id": "ff4d5ab6",
        "outputId": "3c11cf98-de93-446f-9ede-0f06a5311c7b"
      },
      "outputs": [
        {
          "name": "stdout",
          "output_type": "stream",
          "text": [
            "\\Información dataframe df_vuelos:\n",
            "flightNumber                object\n",
            "plane                       object\n",
            "dep_date            datetime64[ns]\n",
            "dep_time                    object\n",
            "dep_airport_name            object\n",
            "dep_airport_code            object\n",
            "dep_terminal                object\n",
            "dep_status                  object\n",
            "dep_weather_min              Int64\n",
            "dep_weather_max              Int64\n",
            "dep_weather_desc            object\n",
            "dep_counter                  Int64\n",
            "dep_door                     Int64\n",
            "arr_date            datetime64[ns]\n",
            "arr_time                    object\n",
            "arr_airport_name            object\n",
            "arr_airport_code            object\n",
            "arr_terminal                object\n",
            "arr_status                  object\n",
            "arr_weather_min              Int64\n",
            "arr_weather_max              Int64\n",
            "arr_weather_desc            object\n",
            "arr_room                    object\n",
            "arr_belt                     Int64\n",
            "timestamp           datetime64[ns]\n",
            "dep_date_time       datetime64[ns]\n",
            "arr_date_time       datetime64[ns]\n",
            "duracion_vuelo             float64\n",
            "dtype: object\n",
            "\n",
            "Número de filas después de limpiar fechas: 39102\n",
            "Forma del dataframe: (39102, 28)\n"
          ]
        }
      ],
      "source": [
        "# =====================================================================\n",
        "# Crear nuevas columnas combinadas de fecha y hora (PRIMER PASO)\n",
        "# =====================================================================\n",
        "\n",
        "# Convertimos a string y manejamos valores nulos\n",
        "for col in ['dep_date', 'dep_time', 'arr_date', 'arr_time']:\n",
        "    df_vuelos[col] = df_vuelos[col].fillna('').astype(str)\n",
        "\n",
        "# Crear nuevas columnas combinando fecha y hora\n",
        "df_vuelos['dep_date_time'] = pd.to_datetime(df_vuelos['dep_date'], format='%d/%m/%y', errors='coerce').dt.strftime('%Y-%m-%d') + ' ' + df_vuelos['dep_time']\n",
        "df_vuelos['arr_date_time'] = pd.to_datetime(df_vuelos['arr_date'], format='%d/%m/%y', errors='coerce').dt.strftime('%Y-%m-%d') + ' ' + df_vuelos['arr_time']\n",
        "\n",
        "# Convertir las nuevas columnas a datetime\n",
        "df_vuelos['dep_date_time'] = pd.to_datetime(df_vuelos['dep_date_time'], errors='coerce')\n",
        "df_vuelos['arr_date_time'] = pd.to_datetime(df_vuelos['arr_date_time'], errors='coerce')\n",
        "\n",
        "# =====================================================================\n",
        "# Crear columnas de tiempo numéricas y calcular duración (NUEVO)\n",
        "# =====================================================================\n",
        "def time_to_int(time_str):\n",
        "    try:\n",
        "        hours, minutes = map(int, time_str.split(':'))\n",
        "        return hours * 100 + minutes\n",
        "    except:\n",
        "        return pd.NA\n",
        "\n",
        "# Calcular duración usando datetime (método recomendado)\n",
        "df_vuelos['duracion_vuelo'] = (df_vuelos['arr_date_time'] - df_vuelos['dep_date_time']).dt.total_seconds() / 60  # en minutos\n",
        "\n",
        "\n",
        "# =====================================================================\n",
        "# Convertir tipos de columnas originales\n",
        "# =====================================================================\n",
        "dtype_mapping = {\n",
        "    # Columnas originales\n",
        "    'flightNumber': 'object',\n",
        "    'plane': 'object',\n",
        "    'dep_airport_name': 'object',\n",
        "    'dep_airport_code': 'object',\n",
        "    'dep_terminal': 'object',\n",
        "    'dep_status': 'object',\n",
        "    'dep_weather_desc': 'object',\n",
        "    'arr_airport_name': 'object',\n",
        "    'arr_airport_code': 'object',\n",
        "    'arr_terminal': 'object',\n",
        "    'arr_status': 'object',\n",
        "    'arr_weather_desc': 'object',\n",
        "    'arr_room': 'object',\n",
        "\n",
        "    # Columnas numéricas\n",
        "    'dep_weather_min': 'Int64',\n",
        "    'dep_weather_max': 'Int64',\n",
        "    'dep_counter': 'Int64',\n",
        "    'dep_door': 'Int64',\n",
        "    'arr_weather_min': 'Int64',\n",
        "    'arr_weather_max': 'Int64',\n",
        "    'arr_belt': 'Int64',\n",
        "\n",
        "    # Columnas datetime originales\n",
        "    'dep_date': 'datetime64[ns]',\n",
        "    #'dep_time': 'datetime64[ns]',\n",
        "    'arr_date': 'datetime64[ns]',\n",
        "    #'arr_time': 'datetime64[ns]',\n",
        "    'timestamp': 'datetime64[ns]',\n",
        "\n",
        "    # NUEVAS COLUMNAS (IMPORTANTE AÑADIRLAS)\n",
        "    'dep_date_time': 'datetime64[ns]',\n",
        "    'arr_date_time': 'datetime64[ns]',\n",
        "\n",
        "    # Añadir nuevas columnas al mapeo\n",
        "    'duracion_vuelo': 'float64'\n",
        "}\n",
        "\n",
        "# Conversión numérica mejorada\n",
        "numeric_cols = ['dep_weather_min', 'dep_weather_max', 'dep_counter', 'dep_door',\n",
        "                'arr_weather_min', 'arr_weather_max', 'arr_belt']\n",
        "\n",
        "for col in numeric_cols:\n",
        "    df_vuelos[col] = pd.to_numeric(\n",
        "        df_vuelos[col].replace(['-', ' ', 'ND', 'nan', ''], pd.NA),\n",
        "        errors='coerce'\n",
        "    ).astype('Int64')\n",
        "\n",
        "# Conversión de fechas originales\n",
        "date_cols = ['dep_date', 'arr_date']\n",
        "for col in date_cols:\n",
        "    df_vuelos[col] = pd.to_datetime(df_vuelos[col], errors='coerce')\n",
        "\n",
        "# Conversión de timestamp\n",
        "df_vuelos['timestamp'] = pd.to_datetime(df_vuelos['timestamp'], errors='coerce')\n",
        "\n",
        "# Conversión a string\n",
        "string_cols = [col for col in dtype_mapping if dtype_mapping[col] == 'string']\n",
        "for col in string_cols:\n",
        "    df_vuelos[col] = df_vuelos[col].astype('string')\n",
        "\n",
        "# Aseguramos la conversión de las nuevas columnas (redundante pero seguro)\n",
        "df_vuelos['dep_date_time'] = df_vuelos['dep_date_time'].astype('datetime64[ns]')\n",
        "df_vuelos['arr_date_time'] = df_vuelos['arr_date_time'].astype('datetime64[ns]')\n",
        "\n",
        "\n",
        "# =====================================================================\n",
        "# 4. Verificación final mejorada\n",
        "# =====================================================================\n",
        "print(\"\\Información dataframe df_vuelos:\")\n",
        "print(df_vuelos.dtypes)\n",
        "\n",
        "print(\"\\nNúmero de filas después de limpiar fechas:\", len(df_vuelos))\n",
        "\n",
        "print(\"Forma del dataframe:\", df_vuelos.shape)\n"
      ]
    },
    {
      "cell_type": "code",
      "execution_count": 8,
      "id": "700893e2",
      "metadata": {
        "colab": {
          "base_uri": "https://localhost:8080/"
        },
        "id": "700893e2",
        "outputId": "090068ba-d672-42b2-aa53-1d4b50b818cd"
      },
      "outputs": [
        {
          "name": "stdout",
          "output_type": "stream",
          "text": [
            "Valores únicos después de limpiar fechas:\n",
            "flightNumber        3787\n",
            "plane                 59\n",
            "dep_date               5\n",
            "dep_time             235\n",
            "dep_airport_name      41\n",
            "dep_airport_code      41\n",
            "dep_terminal          12\n",
            "dep_status          1822\n",
            "dep_weather_min       15\n",
            "dep_weather_max       16\n",
            "dep_weather_desc      14\n",
            "dep_counter            1\n",
            "dep_door              34\n",
            "arr_date               4\n",
            "arr_time             215\n",
            "arr_airport_name     275\n",
            "arr_airport_code     275\n",
            "arr_terminal          13\n",
            "arr_status          1828\n",
            "arr_weather_min       15\n",
            "arr_weather_max       15\n",
            "arr_weather_desc      14\n",
            "arr_room              29\n",
            "arr_belt              40\n",
            "timestamp           5745\n",
            "dep_date_time        760\n",
            "arr_date_time        688\n",
            "duracion_vuelo        58\n",
            "dtype: int64\n"
          ]
        }
      ],
      "source": [
        "# Comprobar valores únicos\n",
        "print(\"Valores únicos después de limpiar fechas:\")\n",
        "print(df_vuelos.nunique())"
      ]
    },
    {
      "cell_type": "code",
      "execution_count": 9,
      "id": "164b6e25",
      "metadata": {
        "colab": {
          "base_uri": "https://localhost:8080/"
        },
        "id": "164b6e25",
        "outputId": "ff35b9cd-fd60-4aeb-e13c-de434a3ab197"
      },
      "outputs": [
        {
          "name": "stdout",
          "output_type": "stream",
          "text": [
            "\n",
            "Valores nulos por columna después de convertir los tipos de datos:\n",
            "flightNumber            0\n",
            "plane                   0\n",
            "dep_date              861\n",
            "dep_time                0\n",
            "dep_airport_name        0\n",
            "dep_airport_code        0\n",
            "dep_terminal            0\n",
            "dep_status              0\n",
            "dep_weather_min       861\n",
            "dep_weather_max       861\n",
            "dep_weather_desc        0\n",
            "dep_counter         39092\n",
            "dep_door            21093\n",
            "arr_date            12920\n",
            "arr_time                0\n",
            "arr_airport_name        0\n",
            "arr_airport_code        0\n",
            "arr_terminal            0\n",
            "arr_status              0\n",
            "arr_weather_min     12920\n",
            "arr_weather_max     12920\n",
            "arr_weather_desc        0\n",
            "arr_room                0\n",
            "arr_belt            17248\n",
            "timestamp               0\n",
            "dep_date_time         861\n",
            "arr_date_time       12920\n",
            "duracion_vuelo      13779\n",
            "dtype: int64\n",
            "\n",
            "Porcentaje de valores nulos por columna:\n",
            "flightNumber         0.00\n",
            "plane                0.00\n",
            "dep_date             2.20\n",
            "dep_time             0.00\n",
            "dep_airport_name     0.00\n",
            "dep_airport_code     0.00\n",
            "dep_terminal         0.00\n",
            "dep_status           0.00\n",
            "dep_weather_min      2.20\n",
            "dep_weather_max      2.20\n",
            "dep_weather_desc     0.00\n",
            "dep_counter         99.97\n",
            "dep_door            53.94\n",
            "arr_date            33.04\n",
            "arr_time             0.00\n",
            "arr_airport_name     0.00\n",
            "arr_airport_code     0.00\n",
            "arr_terminal         0.00\n",
            "arr_status           0.00\n",
            "arr_weather_min     33.04\n",
            "arr_weather_max     33.04\n",
            "arr_weather_desc     0.00\n",
            "arr_room             0.00\n",
            "arr_belt            44.11\n",
            "timestamp            0.00\n",
            "dep_date_time        2.20\n",
            "arr_date_time       33.04\n",
            "duracion_vuelo      35.24\n",
            "dtype: float64\n"
          ]
        }
      ],
      "source": [
        "# Despues de la conversión de los tipos de datos, verificar si hay valores nulos o faltantes en todas las columnas\n",
        "\n",
        "print(\"\\nValores nulos por columna después de convertir los tipos de datos:\")\n",
        "print(df_vuelos.isnull().sum())\n",
        "\n",
        "print(\"\\nPorcentaje de valores nulos por columna:\")\n",
        "print((df_vuelos.isnull().mean() * 100).round(2))"
      ]
    },
    {
      "cell_type": "markdown",
      "id": "ioAn08L4d_g7",
      "metadata": {
        "id": "ioAn08L4d_g7"
      },
      "source": [
        "### **Separar los datos de vuelos nacionales e internacionales**"
      ]
    },
    {
      "cell_type": "code",
      "execution_count": 10,
      "id": "5Hasrv1KeKMs",
      "metadata": {
        "colab": {
          "base_uri": "https://localhost:8080/"
        },
        "id": "5Hasrv1KeKMs",
        "outputId": "38680c12-b232-498c-ed8d-51ac83038dcc"
      },
      "outputs": [
        {
          "name": "stdout",
          "output_type": "stream",
          "text": [
            "Número de vuelos de salida internacionales: 12918\n"
          ]
        },
        {
          "name": "stdout",
          "output_type": "stream",
          "text": [
            "Número de vuelos de llegada internacionales: 859\n",
            "Número de vuelos nacionales: 25323\n"
          ]
        }
      ],
      "source": [
        "#------------------------------------------------------------------------------\n",
        "# Vuelos Internacionales\n",
        "#------------------------------------------------------------------------------\n",
        "\n",
        "# Vuelos de salida internacionales (solamente con fecha/hora de salida informada)\n",
        "vuelos_salida = df_vuelos[\n",
        "    df_vuelos['dep_date_time'].notnull() & df_vuelos['arr_date_time'].isnull()\n",
        "]\n",
        "print(\"Número de vuelos de salida internacionales:\", len(vuelos_salida))\n",
        "\n",
        "# Vuelos de llegada internacionales (solamente con fecha/hora de llegada informada)\n",
        "vuelos_llegada = df_vuelos[\n",
        "    df_vuelos['arr_date_time'].notnull() & df_vuelos['dep_date_time'].isnull()\n",
        "]\n",
        "print(\"Número de vuelos de llegada internacionales:\", len(vuelos_llegada))\n",
        "\n",
        "\n",
        "\n",
        "#------------------------------------------------------------------------------\n",
        "# Vuelos Nacionales\n",
        "#------------------------------------------------------------------------------\n",
        "\n",
        "# Vuelos nacionales (con fecha/hora de llegada y salida informados)\n",
        "vuelos_nacionales = df_vuelos[\n",
        "    df_vuelos['dep_date_time'].notnull() & df_vuelos['arr_date_time'].notnull()\n",
        "]\n",
        "print(\"Número de vuelos nacionales:\", len(vuelos_nacionales))"
      ]
    },
    {
      "cell_type": "markdown",
      "id": "adQHK0l5fmDE",
      "metadata": {
        "id": "adQHK0l5fmDE"
      },
      "source": [
        "### **Tratar valores duplicados**\n"
      ]
    },
    {
      "cell_type": "markdown",
      "id": "cFcbc9qRf9wG",
      "metadata": {
        "id": "cFcbc9qRf9wG"
      },
      "source": [
        "#### **Tratar valores duplicados exactos (líneas identicas)**\n"
      ]
    },
    {
      "cell_type": "markdown",
      "id": "stuSvBW9gFtd",
      "metadata": {
        "id": "stuSvBW9gFtd"
      },
      "source": [
        "##### Consultar valores duplicados exactos"
      ]
    },
    {
      "cell_type": "code",
      "execution_count": 11,
      "id": "T-I1BNs_fpFg",
      "metadata": {
        "colab": {
          "base_uri": "https://localhost:8080/"
        },
        "id": "T-I1BNs_fpFg",
        "outputId": "cd0d531f-16b5-4775-add9-303174cc87c1"
      },
      "outputs": [
        {
          "name": "stdout",
          "output_type": "stream",
          "text": [
            "Total de filas duplicadas (Vuelos de Salida): 0\n",
            "Total de filas duplicadas (Vuelos de Llegada): 0\n",
            "Total de filas duplicadas (Vuelos Nacionales): 48\n",
            "Valores duplicados (Vuelos de Salida): 0\n",
            "Valores duplicados (Vuelos de Llegada): 0\n",
            "Valores duplicados (Vuelos Nacionales): 24\n"
          ]
        }
      ],
      "source": [
        "# Visualizar las filas duplicadas exactas en el DataFrame\n",
        "\n",
        "'''\n",
        "Si los 24 duplicados son registros idénticos en todas\n",
        "las columnas (incluyendo timestamp), probablemente sean entradas reales\n",
        "duplicadas que puedes eliminar. Si el timestamp difiere, deberías verificar\n",
        "si son actualizaciones válidas del mismo vuelo o no.\n",
        "'''\n",
        "\n",
        "# Obtener todas las filas duplicadas (incluyendo la primera ocurrencia)\n",
        "duplicados_vuelos_salida = vuelos_salida[vuelos_salida.duplicated(keep=False)]\n",
        "duplicados_vuelos_llegada = vuelos_llegada[vuelos_llegada.duplicated(keep=False)]\n",
        "duplicados_vuelos_nacionales = vuelos_nacionales[vuelos_nacionales.duplicated(keep=False)]\n",
        "\n",
        "# Ordenar para agrupar los duplicados\n",
        "duplicados_ordenados_vuelos_salida = duplicados_vuelos_salida.sort_values(by=vuelos_salida.columns.to_list())\n",
        "duplicados_ordenados_vuelos_llegada = duplicados_vuelos_llegada.sort_values(by=vuelos_llegada.columns.to_list())\n",
        "duplicados_ordenados_vuelos_nacionales = duplicados_vuelos_nacionales.sort_values(by=vuelos_nacionales.columns.to_list())\n",
        "\n",
        "\n",
        "# Mostrar todos los duplicados: Vuelos de Salida\n",
        "print(f\"Total de filas duplicadas (Vuelos de Salida): {len(duplicados_ordenados_vuelos_salida)}\")\n",
        "# Mostrar todos los duplicados: Vuelos de llegada\n",
        "print(f\"Total de filas duplicadas (Vuelos de Llegada): {len(duplicados_ordenados_vuelos_llegada)}\")\n",
        "# Mostrar todos los duplicados: Vuelos Nacionales\n",
        "print(f\"Total de filas duplicadas (Vuelos Nacionales): {len(duplicados_ordenados_vuelos_nacionales)}\")\n",
        "\n",
        "\n",
        "# Comprobar valores duplicados\n",
        "print(f\"Valores duplicados (Vuelos de Salida): {vuelos_salida.duplicated().sum()}\")\n",
        "print(f\"Valores duplicados (Vuelos de Llegada): {vuelos_llegada.duplicated().sum()}\")\n",
        "print(f\"Valores duplicados (Vuelos Nacionales): {vuelos_nacionales.duplicated().sum()}\")\n"
      ]
    },
    {
      "cell_type": "markdown",
      "id": "yb-hXjjAjZe6",
      "metadata": {
        "id": "yb-hXjjAjZe6"
      },
      "source": [
        "##### Eliminar valores duplicados exactos (líneas identicas en TODAS las columnas)"
      ]
    },
    {
      "cell_type": "code",
      "execution_count": 12,
      "id": "5QvD1svHS2EH",
      "metadata": {
        "colab": {
          "base_uri": "https://localhost:8080/"
        },
        "id": "5QvD1svHS2EH",
        "outputId": "178f7358-b466-45b7-ba7a-80440ee159dc"
      },
      "outputs": [
        {
          "name": "stdout",
          "output_type": "stream",
          "text": [
            "Filas originales (859, 28)\n",
            "Filas originales (12918, 28)\n",
            "Filas originales (25299, 28)\n"
          ]
        }
      ],
      "source": [
        "# Eliminamos duplicados exactos (esto elimina las filas que son idénticas en TODAS las columnas)\n",
        "\n",
        "#-----------------------------------------------------------------------------\n",
        "# Vuelos Internacionales\n",
        "#-----------------------------------------------------------------------------\n",
        "\n",
        "vuelos_llegada = vuelos_llegada.drop_duplicates()\n",
        "print(\"Filas originales\", vuelos_llegada.shape)\n",
        "\n",
        "vuelos_salida = vuelos_salida.drop_duplicates()\n",
        "print(\"Filas originales\", vuelos_salida.shape)\n",
        "\n",
        "#-----------------------------------------------------------------------------\n",
        "# Vuelos Nacionales\n",
        "#-----------------------------------------------------------------------------\n",
        "\n",
        "vuelos_nacionales = vuelos_nacionales.drop_duplicates()\n",
        "print(\"Filas originales\", vuelos_nacionales.shape)\n"
      ]
    },
    {
      "cell_type": "markdown",
      "id": "dJA1-DrElEGx",
      "metadata": {
        "id": "dJA1-DrElEGx"
      },
      "source": [
        "#### **Tratar valores duplicados combinando columnas clave**\n"
      ]
    },
    {
      "cell_type": "markdown",
      "id": "I7vwWMaVJQHv",
      "metadata": {
        "id": "I7vwWMaVJQHv"
      },
      "source": [
        "##### Consultar duplicado en columnas específicas (combinación de columnas clave)"
      ]
    },
    {
      "cell_type": "code",
      "execution_count": 13,
      "id": "IXCRsYIGJvJQ",
      "metadata": {
        "colab": {
          "base_uri": "https://localhost:8080/"
        },
        "id": "IXCRsYIGJvJQ",
        "outputId": "c25ead75-a621-439e-9ff9-6e1ca9ec4bfa"
      },
      "outputs": [
        {
          "name": "stdout",
          "output_type": "stream",
          "text": [
            "Vuelos Internacionalees Salida - Total de duplicados basados en columnas claves - duplicados_parciales_vuelos_salida: (11241, 28)\n",
            "Vuelos Internacionales LLegada - Total de duplicados basados en columnas claves - duplicados_parciales_vuelos_llegada: (805, 28)\n",
            "Vuelos Nacionales - Total de duplicados basados en columnas claves - duplicados_parciales_vuelos_nacionales: (805, 28)\n"
          ]
        }
      ],
      "source": [
        "# Verificar duplicados en columnas específicas (por ejemplo, combinación vuelo + fecha/hora):\n",
        "\n",
        "# Definir columnas clave para identificar vuelos únicos\n",
        "columnas_clave = [\n",
        "     'flightNumber',\n",
        "     'plane',\n",
        "     'dep_airport_name',\n",
        "     'dep_airport_code',\n",
        "     'dep_terminal',\n",
        "     'dep_weather_desc',\n",
        "     'arr_airport_name',\n",
        "     'arr_airport_code',\n",
        "     'arr_terminal',\n",
        "     'arr_weather_desc',\n",
        "     'dep_date_time',  # fecha y hora de salida\n",
        "     'arr_date_time'   # fecha y hora de llegada\n",
        " ]\n",
        "\n",
        "# Encontrar duplicados basados en estas columnas\n",
        "duplicados_parciales_vuelos_salida = vuelos_salida[vuelos_salida.duplicated(subset=columnas_clave, keep=False)]\n",
        "duplicados_parciales_vuelos_llegada = vuelos_llegada[vuelos_llegada.duplicated(subset=columnas_clave, keep=False)]\n",
        "duplicados_parciales_vuelos_nacionales = vuelos_llegada[vuelos_llegada.duplicated(subset=columnas_clave, keep=False)]\n",
        "\n",
        "\n",
        "print(\"Vuelos Internacionalees Salida - Total de duplicados basados en columnas claves - duplicados_parciales_vuelos_salida:\", duplicados_parciales_vuelos_salida.shape)\n",
        "print(\"Vuelos Internacionales LLegada - Total de duplicados basados en columnas claves - duplicados_parciales_vuelos_llegada:\", duplicados_parciales_vuelos_llegada.shape)\n",
        "print(\"Vuelos Nacionales - Total de duplicados basados en columnas claves - duplicados_parciales_vuelos_nacionales:\", duplicados_parciales_vuelos_nacionales.shape)\n"
      ]
    },
    {
      "cell_type": "code",
      "execution_count": 14,
      "id": "xWyCM64tRQ0D",
      "metadata": {
        "colab": {
          "base_uri": "https://localhost:8080/",
          "height": 0
        },
        "id": "xWyCM64tRQ0D",
        "outputId": "9d4908cf-d560-4390-a1ed-b1ab082942fa"
      },
      "outputs": [
        {
          "name": "stdout",
          "output_type": "stream",
          "text": [
            "\n",
            "Vuelos Internacionales de Salida - Duplicados en columnas clave:\n"
          ]
        },
        {
          "data": {
            "application/vnd.microsoft.datawrangler.viewer.v0+json": {
              "columns": [
                {
                  "name": "index",
                  "rawType": "int64",
                  "type": "integer"
                },
                {
                  "name": "flightNumber",
                  "rawType": "object",
                  "type": "string"
                },
                {
                  "name": "plane",
                  "rawType": "object",
                  "type": "string"
                },
                {
                  "name": "dep_date",
                  "rawType": "datetime64[ns]",
                  "type": "datetime"
                },
                {
                  "name": "dep_time",
                  "rawType": "object",
                  "type": "string"
                },
                {
                  "name": "dep_airport_name",
                  "rawType": "object",
                  "type": "string"
                },
                {
                  "name": "dep_airport_code",
                  "rawType": "object",
                  "type": "string"
                },
                {
                  "name": "dep_terminal",
                  "rawType": "object",
                  "type": "string"
                },
                {
                  "name": "dep_status",
                  "rawType": "object",
                  "type": "string"
                },
                {
                  "name": "dep_weather_min",
                  "rawType": "Int64",
                  "type": "integer"
                },
                {
                  "name": "dep_weather_max",
                  "rawType": "Int64",
                  "type": "integer"
                },
                {
                  "name": "dep_weather_desc",
                  "rawType": "object",
                  "type": "string"
                },
                {
                  "name": "dep_counter",
                  "rawType": "Int64",
                  "type": "integer"
                },
                {
                  "name": "dep_door",
                  "rawType": "Int64",
                  "type": "integer"
                },
                {
                  "name": "arr_date",
                  "rawType": "datetime64[ns]",
                  "type": "datetime"
                },
                {
                  "name": "arr_time",
                  "rawType": "object",
                  "type": "string"
                },
                {
                  "name": "arr_airport_name",
                  "rawType": "object",
                  "type": "string"
                },
                {
                  "name": "arr_airport_code",
                  "rawType": "object",
                  "type": "string"
                },
                {
                  "name": "arr_terminal",
                  "rawType": "object",
                  "type": "string"
                },
                {
                  "name": "arr_status",
                  "rawType": "object",
                  "type": "string"
                },
                {
                  "name": "arr_weather_min",
                  "rawType": "Int64",
                  "type": "integer"
                },
                {
                  "name": "arr_weather_max",
                  "rawType": "Int64",
                  "type": "integer"
                },
                {
                  "name": "arr_weather_desc",
                  "rawType": "object",
                  "type": "string"
                },
                {
                  "name": "arr_room",
                  "rawType": "object",
                  "type": "string"
                },
                {
                  "name": "arr_belt",
                  "rawType": "Int64",
                  "type": "integer"
                },
                {
                  "name": "timestamp",
                  "rawType": "datetime64[ns]",
                  "type": "datetime"
                },
                {
                  "name": "dep_date_time",
                  "rawType": "datetime64[ns]",
                  "type": "datetime"
                },
                {
                  "name": "arr_date_time",
                  "rawType": "datetime64[ns]",
                  "type": "datetime"
                },
                {
                  "name": "duracion_vuelo",
                  "rawType": "float64",
                  "type": "float"
                }
              ],
              "ref": "94e2f978-8ad2-4416-9df7-58325711b144",
              "rows": [
                [
                  "10611",
                  "AEA1005",
                  " BOEING 737-800 WINGLETS",
                  "2018-04-14 00:00:00",
                  "06:10",
                  "VALENCIA",
                  "VLC",
                  "1",
                  "Salida prevista a las 06:10",
                  "10",
                  "18",
                  "Abertura de claros",
                  null,
                  null,
                  null,
                  "-",
                  "PARIS /CHARLES DE GAULLE",
                  "CDG",
                  "-",
                  "-",
                  null,
                  null,
                  "-",
                  "-",
                  null,
                  "2018-04-14 01:19:29",
                  "2018-04-14 06:10:00",
                  null,
                  null
                ],
                [
                  "11217",
                  "AEA1005",
                  " BOEING 737-800 WINGLETS",
                  "2018-04-14 00:00:00",
                  "06:10",
                  "VALENCIA",
                  "VLC",
                  "1",
                  "Salida prevista a las 06:10",
                  "10",
                  "18",
                  "Abertura de claros",
                  null,
                  null,
                  null,
                  "-",
                  "PARIS /CHARLES DE GAULLE",
                  "CDG",
                  "-",
                  "-",
                  null,
                  null,
                  "-",
                  "-",
                  null,
                  "2018-04-14 02:20:27",
                  "2018-04-14 06:10:00",
                  null,
                  null
                ],
                [
                  "11801",
                  "AEA1005",
                  " BOEING 737-800 WINGLETS",
                  "2018-04-14 00:00:00",
                  "06:10",
                  "VALENCIA",
                  "VLC",
                  "1",
                  "Salida prevista a las 06:10",
                  "10",
                  "18",
                  "Abertura de claros",
                  null,
                  null,
                  null,
                  "-",
                  "PARIS /CHARLES DE GAULLE",
                  "CDG",
                  "-",
                  "-",
                  null,
                  null,
                  "-",
                  "-",
                  null,
                  "2018-04-14 03:21:36",
                  "2018-04-14 06:10:00",
                  null,
                  null
                ],
                [
                  "12403",
                  "AEA1005",
                  " BOEING 737-800 WINGLETS",
                  "2018-04-14 00:00:00",
                  "06:10",
                  "VALENCIA",
                  "VLC",
                  "1",
                  "Salida prevista a las 06:10",
                  "10",
                  "18",
                  "Abertura de claros",
                  null,
                  null,
                  null,
                  "-",
                  "PARIS /CHARLES DE GAULLE",
                  "CDG",
                  "-",
                  "-",
                  null,
                  null,
                  "-",
                  "-",
                  null,
                  "2018-04-14 04:22:53",
                  "2018-04-14 06:10:00",
                  null,
                  null
                ]
              ],
              "shape": {
                "columns": 28,
                "rows": 4
              }
            },
            "text/html": [
              "<div>\n",
              "<style scoped>\n",
              "    .dataframe tbody tr th:only-of-type {\n",
              "        vertical-align: middle;\n",
              "    }\n",
              "\n",
              "    .dataframe tbody tr th {\n",
              "        vertical-align: top;\n",
              "    }\n",
              "\n",
              "    .dataframe thead th {\n",
              "        text-align: right;\n",
              "    }\n",
              "</style>\n",
              "<table border=\"1\" class=\"dataframe\">\n",
              "  <thead>\n",
              "    <tr style=\"text-align: right;\">\n",
              "      <th></th>\n",
              "      <th>flightNumber</th>\n",
              "      <th>plane</th>\n",
              "      <th>dep_date</th>\n",
              "      <th>dep_time</th>\n",
              "      <th>dep_airport_name</th>\n",
              "      <th>dep_airport_code</th>\n",
              "      <th>dep_terminal</th>\n",
              "      <th>dep_status</th>\n",
              "      <th>dep_weather_min</th>\n",
              "      <th>dep_weather_max</th>\n",
              "      <th>...</th>\n",
              "      <th>arr_status</th>\n",
              "      <th>arr_weather_min</th>\n",
              "      <th>arr_weather_max</th>\n",
              "      <th>arr_weather_desc</th>\n",
              "      <th>arr_room</th>\n",
              "      <th>arr_belt</th>\n",
              "      <th>timestamp</th>\n",
              "      <th>dep_date_time</th>\n",
              "      <th>arr_date_time</th>\n",
              "      <th>duracion_vuelo</th>\n",
              "    </tr>\n",
              "  </thead>\n",
              "  <tbody>\n",
              "    <tr>\n",
              "      <th>10611</th>\n",
              "      <td>AEA1005</td>\n",
              "      <td>BOEING 737-800 WINGLETS</td>\n",
              "      <td>2018-04-14</td>\n",
              "      <td>06:10</td>\n",
              "      <td>VALENCIA</td>\n",
              "      <td>VLC</td>\n",
              "      <td>1</td>\n",
              "      <td>Salida prevista a las 06:10</td>\n",
              "      <td>10</td>\n",
              "      <td>18</td>\n",
              "      <td>...</td>\n",
              "      <td>-</td>\n",
              "      <td>&lt;NA&gt;</td>\n",
              "      <td>&lt;NA&gt;</td>\n",
              "      <td>-</td>\n",
              "      <td>-</td>\n",
              "      <td>&lt;NA&gt;</td>\n",
              "      <td>2018-04-14 01:19:29</td>\n",
              "      <td>2018-04-14 06:10:00</td>\n",
              "      <td>NaT</td>\n",
              "      <td>NaN</td>\n",
              "    </tr>\n",
              "    <tr>\n",
              "      <th>11217</th>\n",
              "      <td>AEA1005</td>\n",
              "      <td>BOEING 737-800 WINGLETS</td>\n",
              "      <td>2018-04-14</td>\n",
              "      <td>06:10</td>\n",
              "      <td>VALENCIA</td>\n",
              "      <td>VLC</td>\n",
              "      <td>1</td>\n",
              "      <td>Salida prevista a las 06:10</td>\n",
              "      <td>10</td>\n",
              "      <td>18</td>\n",
              "      <td>...</td>\n",
              "      <td>-</td>\n",
              "      <td>&lt;NA&gt;</td>\n",
              "      <td>&lt;NA&gt;</td>\n",
              "      <td>-</td>\n",
              "      <td>-</td>\n",
              "      <td>&lt;NA&gt;</td>\n",
              "      <td>2018-04-14 02:20:27</td>\n",
              "      <td>2018-04-14 06:10:00</td>\n",
              "      <td>NaT</td>\n",
              "      <td>NaN</td>\n",
              "    </tr>\n",
              "    <tr>\n",
              "      <th>11801</th>\n",
              "      <td>AEA1005</td>\n",
              "      <td>BOEING 737-800 WINGLETS</td>\n",
              "      <td>2018-04-14</td>\n",
              "      <td>06:10</td>\n",
              "      <td>VALENCIA</td>\n",
              "      <td>VLC</td>\n",
              "      <td>1</td>\n",
              "      <td>Salida prevista a las 06:10</td>\n",
              "      <td>10</td>\n",
              "      <td>18</td>\n",
              "      <td>...</td>\n",
              "      <td>-</td>\n",
              "      <td>&lt;NA&gt;</td>\n",
              "      <td>&lt;NA&gt;</td>\n",
              "      <td>-</td>\n",
              "      <td>-</td>\n",
              "      <td>&lt;NA&gt;</td>\n",
              "      <td>2018-04-14 03:21:36</td>\n",
              "      <td>2018-04-14 06:10:00</td>\n",
              "      <td>NaT</td>\n",
              "      <td>NaN</td>\n",
              "    </tr>\n",
              "    <tr>\n",
              "      <th>12403</th>\n",
              "      <td>AEA1005</td>\n",
              "      <td>BOEING 737-800 WINGLETS</td>\n",
              "      <td>2018-04-14</td>\n",
              "      <td>06:10</td>\n",
              "      <td>VALENCIA</td>\n",
              "      <td>VLC</td>\n",
              "      <td>1</td>\n",
              "      <td>Salida prevista a las 06:10</td>\n",
              "      <td>10</td>\n",
              "      <td>18</td>\n",
              "      <td>...</td>\n",
              "      <td>-</td>\n",
              "      <td>&lt;NA&gt;</td>\n",
              "      <td>&lt;NA&gt;</td>\n",
              "      <td>-</td>\n",
              "      <td>-</td>\n",
              "      <td>&lt;NA&gt;</td>\n",
              "      <td>2018-04-14 04:22:53</td>\n",
              "      <td>2018-04-14 06:10:00</td>\n",
              "      <td>NaT</td>\n",
              "      <td>NaN</td>\n",
              "    </tr>\n",
              "  </tbody>\n",
              "</table>\n",
              "<p>4 rows × 28 columns</p>\n",
              "</div>"
            ],
            "text/plain": [
              "      flightNumber                     plane   dep_date dep_time  \\\n",
              "10611      AEA1005   BOEING 737-800 WINGLETS 2018-04-14    06:10   \n",
              "11217      AEA1005   BOEING 737-800 WINGLETS 2018-04-14    06:10   \n",
              "11801      AEA1005   BOEING 737-800 WINGLETS 2018-04-14    06:10   \n",
              "12403      AEA1005   BOEING 737-800 WINGLETS 2018-04-14    06:10   \n",
              "\n",
              "      dep_airport_name dep_airport_code dep_terminal  \\\n",
              "10611         VALENCIA              VLC            1   \n",
              "11217         VALENCIA              VLC            1   \n",
              "11801         VALENCIA              VLC            1   \n",
              "12403         VALENCIA              VLC            1   \n",
              "\n",
              "                        dep_status  dep_weather_min  dep_weather_max  ...  \\\n",
              "10611  Salida prevista a las 06:10               10               18  ...   \n",
              "11217  Salida prevista a las 06:10               10               18  ...   \n",
              "11801  Salida prevista a las 06:10               10               18  ...   \n",
              "12403  Salida prevista a las 06:10               10               18  ...   \n",
              "\n",
              "      arr_status  arr_weather_min  arr_weather_max arr_weather_desc arr_room  \\\n",
              "10611          -             <NA>             <NA>                -        -   \n",
              "11217          -             <NA>             <NA>                -        -   \n",
              "11801          -             <NA>             <NA>                -        -   \n",
              "12403          -             <NA>             <NA>                -        -   \n",
              "\n",
              "      arr_belt           timestamp       dep_date_time arr_date_time  \\\n",
              "10611     <NA> 2018-04-14 01:19:29 2018-04-14 06:10:00           NaT   \n",
              "11217     <NA> 2018-04-14 02:20:27 2018-04-14 06:10:00           NaT   \n",
              "11801     <NA> 2018-04-14 03:21:36 2018-04-14 06:10:00           NaT   \n",
              "12403     <NA> 2018-04-14 04:22:53 2018-04-14 06:10:00           NaT   \n",
              "\n",
              "       duracion_vuelo  \n",
              "10611             NaN  \n",
              "11217             NaN  \n",
              "11801             NaN  \n",
              "12403             NaN  \n",
              "\n",
              "[4 rows x 28 columns]"
            ]
          },
          "execution_count": 14,
          "metadata": {},
          "output_type": "execute_result"
        }
      ],
      "source": [
        "# Mostrar ordenados por vuelo y fecha\n",
        "print(\"\\nVuelos Internacionales de Salida - Duplicados en columnas clave:\")\n",
        "duplicados_parciales_vuelos_salida.sort_values(by=columnas_clave).head(4)\n",
        "# display(duplicados_parciales_vuelos_salida.sort_values(by=columnas_clave))\n"
      ]
    },
    {
      "cell_type": "code",
      "execution_count": 15,
      "id": "Hbs2Z_KpRQ9e",
      "metadata": {
        "colab": {
          "base_uri": "https://localhost:8080/",
          "height": 0
        },
        "id": "Hbs2Z_KpRQ9e",
        "outputId": "3ed19d2d-c2b7-49a8-cf13-0ad5bf0d93fd"
      },
      "outputs": [
        {
          "name": "stdout",
          "output_type": "stream",
          "text": [
            "\n",
            "Vuelos Internacionales de Llegada - Duplicados en columnas clave:\n"
          ]
        },
        {
          "data": {
            "application/vnd.microsoft.datawrangler.viewer.v0+json": {
              "columns": [
                {
                  "name": "index",
                  "rawType": "int64",
                  "type": "integer"
                },
                {
                  "name": "flightNumber",
                  "rawType": "object",
                  "type": "string"
                },
                {
                  "name": "plane",
                  "rawType": "object",
                  "type": "string"
                },
                {
                  "name": "dep_date",
                  "rawType": "datetime64[ns]",
                  "type": "datetime"
                },
                {
                  "name": "dep_time",
                  "rawType": "object",
                  "type": "string"
                },
                {
                  "name": "dep_airport_name",
                  "rawType": "object",
                  "type": "string"
                },
                {
                  "name": "dep_airport_code",
                  "rawType": "object",
                  "type": "string"
                },
                {
                  "name": "dep_terminal",
                  "rawType": "object",
                  "type": "string"
                },
                {
                  "name": "dep_status",
                  "rawType": "object",
                  "type": "string"
                },
                {
                  "name": "dep_weather_min",
                  "rawType": "Int64",
                  "type": "integer"
                },
                {
                  "name": "dep_weather_max",
                  "rawType": "Int64",
                  "type": "integer"
                },
                {
                  "name": "dep_weather_desc",
                  "rawType": "object",
                  "type": "string"
                },
                {
                  "name": "dep_counter",
                  "rawType": "Int64",
                  "type": "integer"
                },
                {
                  "name": "dep_door",
                  "rawType": "Int64",
                  "type": "integer"
                },
                {
                  "name": "arr_date",
                  "rawType": "datetime64[ns]",
                  "type": "datetime"
                },
                {
                  "name": "arr_time",
                  "rawType": "object",
                  "type": "string"
                },
                {
                  "name": "arr_airport_name",
                  "rawType": "object",
                  "type": "string"
                },
                {
                  "name": "arr_airport_code",
                  "rawType": "object",
                  "type": "string"
                },
                {
                  "name": "arr_terminal",
                  "rawType": "object",
                  "type": "string"
                },
                {
                  "name": "arr_status",
                  "rawType": "object",
                  "type": "string"
                },
                {
                  "name": "arr_weather_min",
                  "rawType": "Int64",
                  "type": "integer"
                },
                {
                  "name": "arr_weather_max",
                  "rawType": "Int64",
                  "type": "integer"
                },
                {
                  "name": "arr_weather_desc",
                  "rawType": "object",
                  "type": "string"
                },
                {
                  "name": "arr_room",
                  "rawType": "object",
                  "type": "string"
                },
                {
                  "name": "arr_belt",
                  "rawType": "Int64",
                  "type": "integer"
                },
                {
                  "name": "timestamp",
                  "rawType": "datetime64[ns]",
                  "type": "datetime"
                },
                {
                  "name": "dep_date_time",
                  "rawType": "datetime64[ns]",
                  "type": "datetime"
                },
                {
                  "name": "arr_date_time",
                  "rawType": "datetime64[ns]",
                  "type": "datetime"
                },
                {
                  "name": "duracion_vuelo",
                  "rawType": "float64",
                  "type": "float"
                }
              ],
              "ref": "2196abc5-9f03-41fa-8057-9f3484468eea",
              "rows": [
                [
                  "2294",
                  "ANE2003",
                  " BOMBARDIER CRJ-1000",
                  null,
                  "-",
                  "CASTELLÓN",
                  "CDT",
                  "-",
                  "-",
                  null,
                  null,
                  "-",
                  null,
                  null,
                  "2018-04-13 00:00:00",
                  "17:25",
                  "SEVILLA",
                  "SVQ",
                  "1",
                  "Llegada prevista a las 17:25",
                  "8",
                  "17",
                  "Chubascos dispersos",
                  "B",
                  "5",
                  "2018-04-13 12:23:37",
                  null,
                  "2018-04-13 17:25:00",
                  null
                ],
                [
                  "3041",
                  "ANE2003",
                  " BOMBARDIER CRJ-1000",
                  null,
                  "-",
                  "CASTELLÓN",
                  "CDT",
                  "-",
                  "-",
                  null,
                  null,
                  "-",
                  null,
                  null,
                  "2018-04-13 00:00:00",
                  "17:25",
                  "SEVILLA",
                  "SVQ",
                  "1",
                  "Llegada prevista a las 17:25",
                  "8",
                  "17",
                  "Chubascos dispersos",
                  "B",
                  "5",
                  "2018-04-13 12:56:55",
                  null,
                  "2018-04-13 17:25:00",
                  null
                ],
                [
                  "3723",
                  "ANE2003",
                  " BOMBARDIER CRJ-1000",
                  null,
                  "-",
                  "CASTELLÓN",
                  "CDT",
                  "-",
                  "-",
                  null,
                  null,
                  "-",
                  null,
                  null,
                  "2018-04-13 00:00:00",
                  "17:25",
                  "SEVILLA",
                  "SVQ",
                  "1",
                  "Llegada prevista a las 17:25",
                  "8",
                  "17",
                  "Chubascos dispersos",
                  "B",
                  "5",
                  "2018-04-13 13:30:53",
                  null,
                  "2018-04-13 17:25:00",
                  null
                ],
                [
                  "5160",
                  "ANE2003",
                  " BOMBARDIER CRJ-1000",
                  null,
                  "-",
                  "CASTELLÓN",
                  "CDT",
                  "-",
                  "-",
                  null,
                  null,
                  "-",
                  null,
                  null,
                  "2018-04-13 00:00:00",
                  "17:25",
                  "SEVILLA",
                  "SVQ",
                  "1",
                  "Llegada prevista a las 17:25",
                  "8",
                  "17",
                  "Chubascos dispersos",
                  "B",
                  "5",
                  "2018-04-13 14:48:36",
                  null,
                  "2018-04-13 17:25:00",
                  null
                ]
              ],
              "shape": {
                "columns": 28,
                "rows": 4
              }
            },
            "text/html": [
              "<div>\n",
              "<style scoped>\n",
              "    .dataframe tbody tr th:only-of-type {\n",
              "        vertical-align: middle;\n",
              "    }\n",
              "\n",
              "    .dataframe tbody tr th {\n",
              "        vertical-align: top;\n",
              "    }\n",
              "\n",
              "    .dataframe thead th {\n",
              "        text-align: right;\n",
              "    }\n",
              "</style>\n",
              "<table border=\"1\" class=\"dataframe\">\n",
              "  <thead>\n",
              "    <tr style=\"text-align: right;\">\n",
              "      <th></th>\n",
              "      <th>flightNumber</th>\n",
              "      <th>plane</th>\n",
              "      <th>dep_date</th>\n",
              "      <th>dep_time</th>\n",
              "      <th>dep_airport_name</th>\n",
              "      <th>dep_airport_code</th>\n",
              "      <th>dep_terminal</th>\n",
              "      <th>dep_status</th>\n",
              "      <th>dep_weather_min</th>\n",
              "      <th>dep_weather_max</th>\n",
              "      <th>...</th>\n",
              "      <th>arr_status</th>\n",
              "      <th>arr_weather_min</th>\n",
              "      <th>arr_weather_max</th>\n",
              "      <th>arr_weather_desc</th>\n",
              "      <th>arr_room</th>\n",
              "      <th>arr_belt</th>\n",
              "      <th>timestamp</th>\n",
              "      <th>dep_date_time</th>\n",
              "      <th>arr_date_time</th>\n",
              "      <th>duracion_vuelo</th>\n",
              "    </tr>\n",
              "  </thead>\n",
              "  <tbody>\n",
              "    <tr>\n",
              "      <th>2294</th>\n",
              "      <td>ANE2003</td>\n",
              "      <td>BOMBARDIER CRJ-1000</td>\n",
              "      <td>NaT</td>\n",
              "      <td>-</td>\n",
              "      <td>CASTELLÓN</td>\n",
              "      <td>CDT</td>\n",
              "      <td>-</td>\n",
              "      <td>-</td>\n",
              "      <td>&lt;NA&gt;</td>\n",
              "      <td>&lt;NA&gt;</td>\n",
              "      <td>...</td>\n",
              "      <td>Llegada prevista a las 17:25</td>\n",
              "      <td>8</td>\n",
              "      <td>17</td>\n",
              "      <td>Chubascos dispersos</td>\n",
              "      <td>B</td>\n",
              "      <td>5</td>\n",
              "      <td>2018-04-13 12:23:37</td>\n",
              "      <td>NaT</td>\n",
              "      <td>2018-04-13 17:25:00</td>\n",
              "      <td>NaN</td>\n",
              "    </tr>\n",
              "    <tr>\n",
              "      <th>3041</th>\n",
              "      <td>ANE2003</td>\n",
              "      <td>BOMBARDIER CRJ-1000</td>\n",
              "      <td>NaT</td>\n",
              "      <td>-</td>\n",
              "      <td>CASTELLÓN</td>\n",
              "      <td>CDT</td>\n",
              "      <td>-</td>\n",
              "      <td>-</td>\n",
              "      <td>&lt;NA&gt;</td>\n",
              "      <td>&lt;NA&gt;</td>\n",
              "      <td>...</td>\n",
              "      <td>Llegada prevista a las 17:25</td>\n",
              "      <td>8</td>\n",
              "      <td>17</td>\n",
              "      <td>Chubascos dispersos</td>\n",
              "      <td>B</td>\n",
              "      <td>5</td>\n",
              "      <td>2018-04-13 12:56:55</td>\n",
              "      <td>NaT</td>\n",
              "      <td>2018-04-13 17:25:00</td>\n",
              "      <td>NaN</td>\n",
              "    </tr>\n",
              "    <tr>\n",
              "      <th>3723</th>\n",
              "      <td>ANE2003</td>\n",
              "      <td>BOMBARDIER CRJ-1000</td>\n",
              "      <td>NaT</td>\n",
              "      <td>-</td>\n",
              "      <td>CASTELLÓN</td>\n",
              "      <td>CDT</td>\n",
              "      <td>-</td>\n",
              "      <td>-</td>\n",
              "      <td>&lt;NA&gt;</td>\n",
              "      <td>&lt;NA&gt;</td>\n",
              "      <td>...</td>\n",
              "      <td>Llegada prevista a las 17:25</td>\n",
              "      <td>8</td>\n",
              "      <td>17</td>\n",
              "      <td>Chubascos dispersos</td>\n",
              "      <td>B</td>\n",
              "      <td>5</td>\n",
              "      <td>2018-04-13 13:30:53</td>\n",
              "      <td>NaT</td>\n",
              "      <td>2018-04-13 17:25:00</td>\n",
              "      <td>NaN</td>\n",
              "    </tr>\n",
              "    <tr>\n",
              "      <th>5160</th>\n",
              "      <td>ANE2003</td>\n",
              "      <td>BOMBARDIER CRJ-1000</td>\n",
              "      <td>NaT</td>\n",
              "      <td>-</td>\n",
              "      <td>CASTELLÓN</td>\n",
              "      <td>CDT</td>\n",
              "      <td>-</td>\n",
              "      <td>-</td>\n",
              "      <td>&lt;NA&gt;</td>\n",
              "      <td>&lt;NA&gt;</td>\n",
              "      <td>...</td>\n",
              "      <td>Llegada prevista a las 17:25</td>\n",
              "      <td>8</td>\n",
              "      <td>17</td>\n",
              "      <td>Chubascos dispersos</td>\n",
              "      <td>B</td>\n",
              "      <td>5</td>\n",
              "      <td>2018-04-13 14:48:36</td>\n",
              "      <td>NaT</td>\n",
              "      <td>2018-04-13 17:25:00</td>\n",
              "      <td>NaN</td>\n",
              "    </tr>\n",
              "  </tbody>\n",
              "</table>\n",
              "<p>4 rows × 28 columns</p>\n",
              "</div>"
            ],
            "text/plain": [
              "     flightNumber                 plane dep_date dep_time dep_airport_name  \\\n",
              "2294      ANE2003   BOMBARDIER CRJ-1000      NaT        -        CASTELLÓN   \n",
              "3041      ANE2003   BOMBARDIER CRJ-1000      NaT        -        CASTELLÓN   \n",
              "3723      ANE2003   BOMBARDIER CRJ-1000      NaT        -        CASTELLÓN   \n",
              "5160      ANE2003   BOMBARDIER CRJ-1000      NaT        -        CASTELLÓN   \n",
              "\n",
              "     dep_airport_code dep_terminal dep_status  dep_weather_min  \\\n",
              "2294              CDT            -          -             <NA>   \n",
              "3041              CDT            -          -             <NA>   \n",
              "3723              CDT            -          -             <NA>   \n",
              "5160              CDT            -          -             <NA>   \n",
              "\n",
              "      dep_weather_max  ...                    arr_status  arr_weather_min  \\\n",
              "2294             <NA>  ...  Llegada prevista a las 17:25                8   \n",
              "3041             <NA>  ...  Llegada prevista a las 17:25                8   \n",
              "3723             <NA>  ...  Llegada prevista a las 17:25                8   \n",
              "5160             <NA>  ...  Llegada prevista a las 17:25                8   \n",
              "\n",
              "      arr_weather_max     arr_weather_desc arr_room arr_belt  \\\n",
              "2294               17  Chubascos dispersos        B        5   \n",
              "3041               17  Chubascos dispersos        B        5   \n",
              "3723               17  Chubascos dispersos        B        5   \n",
              "5160               17  Chubascos dispersos        B        5   \n",
              "\n",
              "               timestamp dep_date_time       arr_date_time  duracion_vuelo  \n",
              "2294 2018-04-13 12:23:37           NaT 2018-04-13 17:25:00             NaN  \n",
              "3041 2018-04-13 12:56:55           NaT 2018-04-13 17:25:00             NaN  \n",
              "3723 2018-04-13 13:30:53           NaT 2018-04-13 17:25:00             NaN  \n",
              "5160 2018-04-13 14:48:36           NaT 2018-04-13 17:25:00             NaN  \n",
              "\n",
              "[4 rows x 28 columns]"
            ]
          },
          "execution_count": 15,
          "metadata": {},
          "output_type": "execute_result"
        }
      ],
      "source": [
        "print(\"\\nVuelos Internacionales de Llegada - Duplicados en columnas clave:\")\n",
        "duplicados_parciales_vuelos_llegada.sort_values(by=columnas_clave).head(4)\n",
        "# display(duplicados_parciales_vuelos_llegada.sort_values(by=columnas_clave))\n"
      ]
    },
    {
      "cell_type": "code",
      "execution_count": 16,
      "id": "zlqQlxS0RRGY",
      "metadata": {
        "colab": {
          "base_uri": "https://localhost:8080/",
          "height": 0
        },
        "id": "zlqQlxS0RRGY",
        "outputId": "1df77a15-bf5d-4f15-dc07-0501fd0475ce"
      },
      "outputs": [
        {
          "name": "stdout",
          "output_type": "stream",
          "text": [
            "\n",
            "Vuelos Nacionales de Salida y Llegada - Duplicados en columnas clave:\n"
          ]
        },
        {
          "data": {
            "application/vnd.microsoft.datawrangler.viewer.v0+json": {
              "columns": [
                {
                  "name": "index",
                  "rawType": "int64",
                  "type": "integer"
                },
                {
                  "name": "flightNumber",
                  "rawType": "object",
                  "type": "string"
                },
                {
                  "name": "plane",
                  "rawType": "object",
                  "type": "string"
                },
                {
                  "name": "dep_date",
                  "rawType": "datetime64[ns]",
                  "type": "datetime"
                },
                {
                  "name": "dep_time",
                  "rawType": "object",
                  "type": "string"
                },
                {
                  "name": "dep_airport_name",
                  "rawType": "object",
                  "type": "string"
                },
                {
                  "name": "dep_airport_code",
                  "rawType": "object",
                  "type": "string"
                },
                {
                  "name": "dep_terminal",
                  "rawType": "object",
                  "type": "string"
                },
                {
                  "name": "dep_status",
                  "rawType": "object",
                  "type": "string"
                },
                {
                  "name": "dep_weather_min",
                  "rawType": "Int64",
                  "type": "integer"
                },
                {
                  "name": "dep_weather_max",
                  "rawType": "Int64",
                  "type": "integer"
                },
                {
                  "name": "dep_weather_desc",
                  "rawType": "object",
                  "type": "string"
                },
                {
                  "name": "dep_counter",
                  "rawType": "Int64",
                  "type": "integer"
                },
                {
                  "name": "dep_door",
                  "rawType": "Int64",
                  "type": "integer"
                },
                {
                  "name": "arr_date",
                  "rawType": "datetime64[ns]",
                  "type": "datetime"
                },
                {
                  "name": "arr_time",
                  "rawType": "object",
                  "type": "string"
                },
                {
                  "name": "arr_airport_name",
                  "rawType": "object",
                  "type": "string"
                },
                {
                  "name": "arr_airport_code",
                  "rawType": "object",
                  "type": "string"
                },
                {
                  "name": "arr_terminal",
                  "rawType": "object",
                  "type": "string"
                },
                {
                  "name": "arr_status",
                  "rawType": "object",
                  "type": "string"
                },
                {
                  "name": "arr_weather_min",
                  "rawType": "Int64",
                  "type": "integer"
                },
                {
                  "name": "arr_weather_max",
                  "rawType": "Int64",
                  "type": "integer"
                },
                {
                  "name": "arr_weather_desc",
                  "rawType": "object",
                  "type": "string"
                },
                {
                  "name": "arr_room",
                  "rawType": "object",
                  "type": "string"
                },
                {
                  "name": "arr_belt",
                  "rawType": "Int64",
                  "type": "integer"
                },
                {
                  "name": "timestamp",
                  "rawType": "datetime64[ns]",
                  "type": "datetime"
                },
                {
                  "name": "dep_date_time",
                  "rawType": "datetime64[ns]",
                  "type": "datetime"
                },
                {
                  "name": "arr_date_time",
                  "rawType": "datetime64[ns]",
                  "type": "datetime"
                },
                {
                  "name": "duracion_vuelo",
                  "rawType": "float64",
                  "type": "float"
                }
              ],
              "ref": "0425819b-40c3-4e3f-9d35-9f985fd1f9b3",
              "rows": [
                [
                  "2294",
                  "ANE2003",
                  " BOMBARDIER CRJ-1000",
                  null,
                  "-",
                  "CASTELLÓN",
                  "CDT",
                  "-",
                  "-",
                  null,
                  null,
                  "-",
                  null,
                  null,
                  "2018-04-13 00:00:00",
                  "17:25",
                  "SEVILLA",
                  "SVQ",
                  "1",
                  "Llegada prevista a las 17:25",
                  "8",
                  "17",
                  "Chubascos dispersos",
                  "B",
                  "5",
                  "2018-04-13 12:23:37",
                  null,
                  "2018-04-13 17:25:00",
                  null
                ],
                [
                  "3041",
                  "ANE2003",
                  " BOMBARDIER CRJ-1000",
                  null,
                  "-",
                  "CASTELLÓN",
                  "CDT",
                  "-",
                  "-",
                  null,
                  null,
                  "-",
                  null,
                  null,
                  "2018-04-13 00:00:00",
                  "17:25",
                  "SEVILLA",
                  "SVQ",
                  "1",
                  "Llegada prevista a las 17:25",
                  "8",
                  "17",
                  "Chubascos dispersos",
                  "B",
                  "5",
                  "2018-04-13 12:56:55",
                  null,
                  "2018-04-13 17:25:00",
                  null
                ],
                [
                  "3723",
                  "ANE2003",
                  " BOMBARDIER CRJ-1000",
                  null,
                  "-",
                  "CASTELLÓN",
                  "CDT",
                  "-",
                  "-",
                  null,
                  null,
                  "-",
                  null,
                  null,
                  "2018-04-13 00:00:00",
                  "17:25",
                  "SEVILLA",
                  "SVQ",
                  "1",
                  "Llegada prevista a las 17:25",
                  "8",
                  "17",
                  "Chubascos dispersos",
                  "B",
                  "5",
                  "2018-04-13 13:30:53",
                  null,
                  "2018-04-13 17:25:00",
                  null
                ],
                [
                  "5160",
                  "ANE2003",
                  " BOMBARDIER CRJ-1000",
                  null,
                  "-",
                  "CASTELLÓN",
                  "CDT",
                  "-",
                  "-",
                  null,
                  null,
                  "-",
                  null,
                  null,
                  "2018-04-13 00:00:00",
                  "17:25",
                  "SEVILLA",
                  "SVQ",
                  "1",
                  "Llegada prevista a las 17:25",
                  "8",
                  "17",
                  "Chubascos dispersos",
                  "B",
                  "5",
                  "2018-04-13 14:48:36",
                  null,
                  "2018-04-13 17:25:00",
                  null
                ]
              ],
              "shape": {
                "columns": 28,
                "rows": 4
              }
            },
            "text/html": [
              "<div>\n",
              "<style scoped>\n",
              "    .dataframe tbody tr th:only-of-type {\n",
              "        vertical-align: middle;\n",
              "    }\n",
              "\n",
              "    .dataframe tbody tr th {\n",
              "        vertical-align: top;\n",
              "    }\n",
              "\n",
              "    .dataframe thead th {\n",
              "        text-align: right;\n",
              "    }\n",
              "</style>\n",
              "<table border=\"1\" class=\"dataframe\">\n",
              "  <thead>\n",
              "    <tr style=\"text-align: right;\">\n",
              "      <th></th>\n",
              "      <th>flightNumber</th>\n",
              "      <th>plane</th>\n",
              "      <th>dep_date</th>\n",
              "      <th>dep_time</th>\n",
              "      <th>dep_airport_name</th>\n",
              "      <th>dep_airport_code</th>\n",
              "      <th>dep_terminal</th>\n",
              "      <th>dep_status</th>\n",
              "      <th>dep_weather_min</th>\n",
              "      <th>dep_weather_max</th>\n",
              "      <th>...</th>\n",
              "      <th>arr_status</th>\n",
              "      <th>arr_weather_min</th>\n",
              "      <th>arr_weather_max</th>\n",
              "      <th>arr_weather_desc</th>\n",
              "      <th>arr_room</th>\n",
              "      <th>arr_belt</th>\n",
              "      <th>timestamp</th>\n",
              "      <th>dep_date_time</th>\n",
              "      <th>arr_date_time</th>\n",
              "      <th>duracion_vuelo</th>\n",
              "    </tr>\n",
              "  </thead>\n",
              "  <tbody>\n",
              "    <tr>\n",
              "      <th>2294</th>\n",
              "      <td>ANE2003</td>\n",
              "      <td>BOMBARDIER CRJ-1000</td>\n",
              "      <td>NaT</td>\n",
              "      <td>-</td>\n",
              "      <td>CASTELLÓN</td>\n",
              "      <td>CDT</td>\n",
              "      <td>-</td>\n",
              "      <td>-</td>\n",
              "      <td>&lt;NA&gt;</td>\n",
              "      <td>&lt;NA&gt;</td>\n",
              "      <td>...</td>\n",
              "      <td>Llegada prevista a las 17:25</td>\n",
              "      <td>8</td>\n",
              "      <td>17</td>\n",
              "      <td>Chubascos dispersos</td>\n",
              "      <td>B</td>\n",
              "      <td>5</td>\n",
              "      <td>2018-04-13 12:23:37</td>\n",
              "      <td>NaT</td>\n",
              "      <td>2018-04-13 17:25:00</td>\n",
              "      <td>NaN</td>\n",
              "    </tr>\n",
              "    <tr>\n",
              "      <th>3041</th>\n",
              "      <td>ANE2003</td>\n",
              "      <td>BOMBARDIER CRJ-1000</td>\n",
              "      <td>NaT</td>\n",
              "      <td>-</td>\n",
              "      <td>CASTELLÓN</td>\n",
              "      <td>CDT</td>\n",
              "      <td>-</td>\n",
              "      <td>-</td>\n",
              "      <td>&lt;NA&gt;</td>\n",
              "      <td>&lt;NA&gt;</td>\n",
              "      <td>...</td>\n",
              "      <td>Llegada prevista a las 17:25</td>\n",
              "      <td>8</td>\n",
              "      <td>17</td>\n",
              "      <td>Chubascos dispersos</td>\n",
              "      <td>B</td>\n",
              "      <td>5</td>\n",
              "      <td>2018-04-13 12:56:55</td>\n",
              "      <td>NaT</td>\n",
              "      <td>2018-04-13 17:25:00</td>\n",
              "      <td>NaN</td>\n",
              "    </tr>\n",
              "    <tr>\n",
              "      <th>3723</th>\n",
              "      <td>ANE2003</td>\n",
              "      <td>BOMBARDIER CRJ-1000</td>\n",
              "      <td>NaT</td>\n",
              "      <td>-</td>\n",
              "      <td>CASTELLÓN</td>\n",
              "      <td>CDT</td>\n",
              "      <td>-</td>\n",
              "      <td>-</td>\n",
              "      <td>&lt;NA&gt;</td>\n",
              "      <td>&lt;NA&gt;</td>\n",
              "      <td>...</td>\n",
              "      <td>Llegada prevista a las 17:25</td>\n",
              "      <td>8</td>\n",
              "      <td>17</td>\n",
              "      <td>Chubascos dispersos</td>\n",
              "      <td>B</td>\n",
              "      <td>5</td>\n",
              "      <td>2018-04-13 13:30:53</td>\n",
              "      <td>NaT</td>\n",
              "      <td>2018-04-13 17:25:00</td>\n",
              "      <td>NaN</td>\n",
              "    </tr>\n",
              "    <tr>\n",
              "      <th>5160</th>\n",
              "      <td>ANE2003</td>\n",
              "      <td>BOMBARDIER CRJ-1000</td>\n",
              "      <td>NaT</td>\n",
              "      <td>-</td>\n",
              "      <td>CASTELLÓN</td>\n",
              "      <td>CDT</td>\n",
              "      <td>-</td>\n",
              "      <td>-</td>\n",
              "      <td>&lt;NA&gt;</td>\n",
              "      <td>&lt;NA&gt;</td>\n",
              "      <td>...</td>\n",
              "      <td>Llegada prevista a las 17:25</td>\n",
              "      <td>8</td>\n",
              "      <td>17</td>\n",
              "      <td>Chubascos dispersos</td>\n",
              "      <td>B</td>\n",
              "      <td>5</td>\n",
              "      <td>2018-04-13 14:48:36</td>\n",
              "      <td>NaT</td>\n",
              "      <td>2018-04-13 17:25:00</td>\n",
              "      <td>NaN</td>\n",
              "    </tr>\n",
              "  </tbody>\n",
              "</table>\n",
              "<p>4 rows × 28 columns</p>\n",
              "</div>"
            ],
            "text/plain": [
              "     flightNumber                 plane dep_date dep_time dep_airport_name  \\\n",
              "2294      ANE2003   BOMBARDIER CRJ-1000      NaT        -        CASTELLÓN   \n",
              "3041      ANE2003   BOMBARDIER CRJ-1000      NaT        -        CASTELLÓN   \n",
              "3723      ANE2003   BOMBARDIER CRJ-1000      NaT        -        CASTELLÓN   \n",
              "5160      ANE2003   BOMBARDIER CRJ-1000      NaT        -        CASTELLÓN   \n",
              "\n",
              "     dep_airport_code dep_terminal dep_status  dep_weather_min  \\\n",
              "2294              CDT            -          -             <NA>   \n",
              "3041              CDT            -          -             <NA>   \n",
              "3723              CDT            -          -             <NA>   \n",
              "5160              CDT            -          -             <NA>   \n",
              "\n",
              "      dep_weather_max  ...                    arr_status  arr_weather_min  \\\n",
              "2294             <NA>  ...  Llegada prevista a las 17:25                8   \n",
              "3041             <NA>  ...  Llegada prevista a las 17:25                8   \n",
              "3723             <NA>  ...  Llegada prevista a las 17:25                8   \n",
              "5160             <NA>  ...  Llegada prevista a las 17:25                8   \n",
              "\n",
              "      arr_weather_max     arr_weather_desc arr_room arr_belt  \\\n",
              "2294               17  Chubascos dispersos        B        5   \n",
              "3041               17  Chubascos dispersos        B        5   \n",
              "3723               17  Chubascos dispersos        B        5   \n",
              "5160               17  Chubascos dispersos        B        5   \n",
              "\n",
              "               timestamp dep_date_time       arr_date_time  duracion_vuelo  \n",
              "2294 2018-04-13 12:23:37           NaT 2018-04-13 17:25:00             NaN  \n",
              "3041 2018-04-13 12:56:55           NaT 2018-04-13 17:25:00             NaN  \n",
              "3723 2018-04-13 13:30:53           NaT 2018-04-13 17:25:00             NaN  \n",
              "5160 2018-04-13 14:48:36           NaT 2018-04-13 17:25:00             NaN  \n",
              "\n",
              "[4 rows x 28 columns]"
            ]
          },
          "execution_count": 16,
          "metadata": {},
          "output_type": "execute_result"
        }
      ],
      "source": [
        "print(\"\\nVuelos Nacionales de Salida y Llegada - Duplicados en columnas clave:\")\n",
        "duplicados_parciales_vuelos_nacionales.sort_values(by=columnas_clave).head(4)\n",
        "# display(duplicados_parciales_vuelos_nacionales.sort_values(by=columnas_clave))"
      ]
    },
    {
      "cell_type": "markdown",
      "id": "W4zvlo4wk9P6",
      "metadata": {
        "id": "W4zvlo4wk9P6"
      },
      "source": [
        "##### Eliminación de duplicados conservando información útil\n",
        "Filtrado y deduplicación inteligente basado en un conjunto de columnas\n",
        "Se elimina del filtro de duplicados el timestamp"
      ]
    },
    {
      "cell_type": "code",
      "execution_count": 17,
      "id": "RrBWU95juKyc",
      "metadata": {
        "colab": {
          "base_uri": "https://localhost:8080/"
        },
        "id": "RrBWU95juKyc",
        "outputId": "606a34bd-82ae-4e10-af93-bb6932605b25"
      },
      "outputs": [
        {
          "name": "stdout",
          "output_type": "stream",
          "text": [
            "\n",
            "Estadística proceso de deduplicación del dataset:\n",
            "1. vuelos_salida original (Todas las líneas): (12918, 28)\n",
            "2. Filas después de deduplicar: df__vuelos_salida_deduplicados: (4265, 28)\n",
            "\n",
            "Estadística proceso de deduplicación del dataset:\n",
            "1. vuelos_llegada original (Todas las líneas): (859, 28)\n",
            "2. Filas después de deduplicar: df__vuelos_llegada_deduplicados: (209, 28)\n",
            "\n",
            "Estadística proceso de deduplicación del dataset:\n",
            "1. vuelos_nacionales original (Todas las líneas): (25299, 28)\n",
            "2. Filas después de deduplicar: df__vuelos_nacionales_deduplicados: (5850, 28)\n"
          ]
        }
      ],
      "source": [
        "# Filtrado y deduplicación inteligente – Eliminación de duplicados conservando información útil\n",
        "\n",
        "# Ordenamos por timestamp descendente para conservar el registro más reciente\n",
        "duplicados_parciales_vuelos_salida = vuelos_salida.sort_values(by='timestamp', ascending=False)\n",
        "duplicados_parciales_vuelos_llegada = vuelos_llegada.sort_values(by='timestamp', ascending=False)\n",
        "duplicados_parciales_vuelos_nacionales = vuelos_nacionales.sort_values(by='timestamp', ascending=False)\n",
        "\n",
        "# Eliminamos duplicados basados en las columnas únicas definidas (incluyendo fecha/hora)\n",
        "# 'keep='first'' conservará la primera fila de cada grupo de \"duplicados\"\n",
        "# En este caso, serán registros con la misma combinación de las columnas listadas.\n",
        "# Como ordenamos por timestamp descendente, 'first' será el registro más reciente\n",
        "# para esa combinación exacta de columnas únicas (incluyendo fecha/hora).\n",
        "# Si hay múltiples registros para el MISMO vuelo en la MISMA fecha/hora (lo cual no debería pasar),\n",
        "# esto conservará el más reciente según el timestamp de registro.\n",
        "\n",
        "# Vuelos Internacionales Salida\n",
        "df_vuelos_salida_deduplicados = duplicados_parciales_vuelos_salida.drop_duplicates(subset=columnas_clave, keep='first')\n",
        "print(\"\\nEstadística proceso de deduplicación del dataset:\")\n",
        "print(\"1. vuelos_salida original (Todas las líneas):\", vuelos_salida.shape)\n",
        "print(\"2. Filas después de deduplicar: df__vuelos_salida_deduplicados:\", df_vuelos_salida_deduplicados.shape)\n",
        "\n",
        "# Vuelos Internacionales Llegada\n",
        "df_vuelos_llegada_deduplicados = duplicados_parciales_vuelos_llegada.drop_duplicates(subset=columnas_clave, keep='first')\n",
        "print(\"\\nEstadística proceso de deduplicación del dataset:\")\n",
        "print(\"1. vuelos_llegada original (Todas las líneas):\", vuelos_llegada.shape)\n",
        "print(\"2. Filas después de deduplicar: df__vuelos_llegada_deduplicados:\", df_vuelos_llegada_deduplicados.shape)\n",
        "\n",
        "# Vuelos Nacionales\n",
        "df_vuelos_nacionales_deduplicados = duplicados_parciales_vuelos_nacionales.drop_duplicates(subset=columnas_clave, keep='first')\n",
        "print(\"\\nEstadística proceso de deduplicación del dataset:\")\n",
        "print(\"1. vuelos_nacionales original (Todas las líneas):\", vuelos_nacionales.shape)\n",
        "print(\"2. Filas después de deduplicar: df__vuelos_nacionales_deduplicados:\", df_vuelos_nacionales_deduplicados.shape)\n"
      ]
    },
    {
      "cell_type": "code",
      "execution_count": 18,
      "id": "BA-X5FZex0Wj",
      "metadata": {
        "colab": {
          "base_uri": "https://localhost:8080/",
          "height": 0
        },
        "id": "BA-X5FZex0Wj",
        "outputId": "045d1e6f-0e3e-442b-96da-27e5178ff87a"
      },
      "outputs": [
        {
          "name": "stdout",
          "output_type": "stream",
          "text": [
            "\n",
            "Vuelos Internacionales de Salida - Valores nulos por columna después de eliminar duplicados:\n"
          ]
        },
        {
          "data": {
            "application/vnd.microsoft.datawrangler.viewer.v0+json": {
              "columns": [
                {
                  "name": "index",
                  "rawType": "object",
                  "type": "string"
                },
                {
                  "name": "0",
                  "rawType": "int64",
                  "type": "integer"
                }
              ],
              "ref": "14834d39-9e13-4425-87cd-7fbb58011efe",
              "rows": [
                [
                  "flightNumber",
                  "0"
                ],
                [
                  "plane",
                  "0"
                ],
                [
                  "dep_date",
                  "0"
                ],
                [
                  "dep_time",
                  "0"
                ],
                [
                  "dep_airport_name",
                  "0"
                ],
                [
                  "dep_airport_code",
                  "0"
                ],
                [
                  "dep_terminal",
                  "0"
                ],
                [
                  "dep_status",
                  "0"
                ],
                [
                  "dep_weather_min",
                  "0"
                ],
                [
                  "dep_weather_max",
                  "0"
                ],
                [
                  "dep_weather_desc",
                  "0"
                ],
                [
                  "dep_counter",
                  "4264"
                ],
                [
                  "dep_door",
                  "2767"
                ],
                [
                  "arr_date",
                  "4265"
                ],
                [
                  "arr_time",
                  "0"
                ],
                [
                  "arr_airport_name",
                  "0"
                ],
                [
                  "arr_airport_code",
                  "0"
                ],
                [
                  "arr_terminal",
                  "0"
                ],
                [
                  "arr_status",
                  "0"
                ],
                [
                  "arr_weather_min",
                  "4265"
                ],
                [
                  "arr_weather_max",
                  "4265"
                ],
                [
                  "arr_weather_desc",
                  "0"
                ],
                [
                  "arr_room",
                  "0"
                ],
                [
                  "arr_belt",
                  "4265"
                ],
                [
                  "timestamp",
                  "0"
                ],
                [
                  "dep_date_time",
                  "0"
                ],
                [
                  "arr_date_time",
                  "4265"
                ],
                [
                  "duracion_vuelo",
                  "4265"
                ]
              ],
              "shape": {
                "columns": 1,
                "rows": 28
              }
            },
            "text/plain": [
              "flightNumber           0\n",
              "plane                  0\n",
              "dep_date               0\n",
              "dep_time               0\n",
              "dep_airport_name       0\n",
              "dep_airport_code       0\n",
              "dep_terminal           0\n",
              "dep_status             0\n",
              "dep_weather_min        0\n",
              "dep_weather_max        0\n",
              "dep_weather_desc       0\n",
              "dep_counter         4264\n",
              "dep_door            2767\n",
              "arr_date            4265\n",
              "arr_time               0\n",
              "arr_airport_name       0\n",
              "arr_airport_code       0\n",
              "arr_terminal           0\n",
              "arr_status             0\n",
              "arr_weather_min     4265\n",
              "arr_weather_max     4265\n",
              "arr_weather_desc       0\n",
              "arr_room               0\n",
              "arr_belt            4265\n",
              "timestamp              0\n",
              "dep_date_time          0\n",
              "arr_date_time       4265\n",
              "duracion_vuelo      4265\n",
              "dtype: int64"
            ]
          },
          "execution_count": 18,
          "metadata": {},
          "output_type": "execute_result"
        }
      ],
      "source": [
        "# Verificar valores nulos despues de la eliminación de duplicados\n",
        "\n",
        "# Vuelos Internacionales de Salida\n",
        "print(\"\\nVuelos Internacionales de Salida - Valores nulos por columna después de eliminar duplicados:\")\n",
        "df_vuelos_salida_deduplicados.isnull().sum()"
      ]
    },
    {
      "cell_type": "code",
      "execution_count": 19,
      "id": "JIBNjvhY2s8k",
      "metadata": {
        "colab": {
          "base_uri": "https://localhost:8080/",
          "height": 0
        },
        "id": "JIBNjvhY2s8k",
        "outputId": "f22cd789-7d57-4727-f91c-b901c0d5414f"
      },
      "outputs": [
        {
          "name": "stdout",
          "output_type": "stream",
          "text": [
            "\n",
            "Vuelos Internacionales de Legada - Valores nulos por columna después de eliminar duplicados:\n"
          ]
        },
        {
          "data": {
            "application/vnd.microsoft.datawrangler.viewer.v0+json": {
              "columns": [
                {
                  "name": "index",
                  "rawType": "object",
                  "type": "string"
                },
                {
                  "name": "0",
                  "rawType": "int64",
                  "type": "integer"
                }
              ],
              "ref": "8e5c9ea6-6e48-488f-8c67-3eb93fd4b32e",
              "rows": [
                [
                  "flightNumber",
                  "0"
                ],
                [
                  "plane",
                  "0"
                ],
                [
                  "dep_date",
                  "209"
                ],
                [
                  "dep_time",
                  "0"
                ],
                [
                  "dep_airport_name",
                  "0"
                ],
                [
                  "dep_airport_code",
                  "0"
                ],
                [
                  "dep_terminal",
                  "0"
                ],
                [
                  "dep_status",
                  "0"
                ],
                [
                  "dep_weather_min",
                  "209"
                ],
                [
                  "dep_weather_max",
                  "209"
                ],
                [
                  "dep_weather_desc",
                  "0"
                ],
                [
                  "dep_counter",
                  "209"
                ],
                [
                  "dep_door",
                  "209"
                ],
                [
                  "arr_date",
                  "0"
                ],
                [
                  "arr_time",
                  "0"
                ],
                [
                  "arr_airport_name",
                  "0"
                ],
                [
                  "arr_airport_code",
                  "0"
                ],
                [
                  "arr_terminal",
                  "0"
                ],
                [
                  "arr_status",
                  "0"
                ],
                [
                  "arr_weather_min",
                  "0"
                ],
                [
                  "arr_weather_max",
                  "0"
                ],
                [
                  "arr_weather_desc",
                  "0"
                ],
                [
                  "arr_room",
                  "0"
                ],
                [
                  "arr_belt",
                  "45"
                ],
                [
                  "timestamp",
                  "0"
                ],
                [
                  "dep_date_time",
                  "209"
                ],
                [
                  "arr_date_time",
                  "0"
                ],
                [
                  "duracion_vuelo",
                  "209"
                ]
              ],
              "shape": {
                "columns": 1,
                "rows": 28
              }
            },
            "text/plain": [
              "flightNumber          0\n",
              "plane                 0\n",
              "dep_date            209\n",
              "dep_time              0\n",
              "dep_airport_name      0\n",
              "dep_airport_code      0\n",
              "dep_terminal          0\n",
              "dep_status            0\n",
              "dep_weather_min     209\n",
              "dep_weather_max     209\n",
              "dep_weather_desc      0\n",
              "dep_counter         209\n",
              "dep_door            209\n",
              "arr_date              0\n",
              "arr_time              0\n",
              "arr_airport_name      0\n",
              "arr_airport_code      0\n",
              "arr_terminal          0\n",
              "arr_status            0\n",
              "arr_weather_min       0\n",
              "arr_weather_max       0\n",
              "arr_weather_desc      0\n",
              "arr_room              0\n",
              "arr_belt             45\n",
              "timestamp             0\n",
              "dep_date_time       209\n",
              "arr_date_time         0\n",
              "duracion_vuelo      209\n",
              "dtype: int64"
            ]
          },
          "execution_count": 19,
          "metadata": {},
          "output_type": "execute_result"
        }
      ],
      "source": [
        "# Verificar valores nulos despues de la eliminación de duplicados\n",
        "\n",
        "# Vuelos Internacionales de Legada\n",
        "print(\"\\nVuelos Internacionales de Legada - Valores nulos por columna después de eliminar duplicados:\")\n",
        "df_vuelos_llegada_deduplicados.isnull().sum()"
      ]
    },
    {
      "cell_type": "code",
      "execution_count": 20,
      "id": "pMqKvCUY2tf0",
      "metadata": {
        "colab": {
          "base_uri": "https://localhost:8080/",
          "height": 0
        },
        "id": "pMqKvCUY2tf0",
        "outputId": "5a2af46c-a96c-4c47-a79b-874880e61bb7"
      },
      "outputs": [
        {
          "name": "stdout",
          "output_type": "stream",
          "text": [
            "\n",
            "Vuelos Nacionales - Valores nulos por columna después de eliminar duplicados:\n"
          ]
        },
        {
          "data": {
            "application/vnd.microsoft.datawrangler.viewer.v0+json": {
              "columns": [
                {
                  "name": "index",
                  "rawType": "object",
                  "type": "string"
                },
                {
                  "name": "0",
                  "rawType": "int64",
                  "type": "integer"
                }
              ],
              "ref": "c8bab12c-327e-4bb9-a0d9-2e7042814b7d",
              "rows": [
                [
                  "flightNumber",
                  "0"
                ],
                [
                  "plane",
                  "0"
                ],
                [
                  "dep_date",
                  "0"
                ],
                [
                  "dep_time",
                  "0"
                ],
                [
                  "dep_airport_name",
                  "0"
                ],
                [
                  "dep_airport_code",
                  "0"
                ],
                [
                  "dep_terminal",
                  "0"
                ],
                [
                  "dep_status",
                  "0"
                ],
                [
                  "dep_weather_min",
                  "0"
                ],
                [
                  "dep_weather_max",
                  "0"
                ],
                [
                  "dep_weather_desc",
                  "0"
                ],
                [
                  "dep_counter",
                  "5844"
                ],
                [
                  "dep_door",
                  "3371"
                ],
                [
                  "arr_date",
                  "0"
                ],
                [
                  "arr_time",
                  "0"
                ],
                [
                  "arr_airport_name",
                  "0"
                ],
                [
                  "arr_airport_code",
                  "0"
                ],
                [
                  "arr_terminal",
                  "0"
                ],
                [
                  "arr_status",
                  "0"
                ],
                [
                  "arr_weather_min",
                  "0"
                ],
                [
                  "arr_weather_max",
                  "0"
                ],
                [
                  "arr_weather_desc",
                  "0"
                ],
                [
                  "arr_room",
                  "0"
                ],
                [
                  "arr_belt",
                  "992"
                ],
                [
                  "timestamp",
                  "0"
                ],
                [
                  "dep_date_time",
                  "0"
                ],
                [
                  "arr_date_time",
                  "0"
                ],
                [
                  "duracion_vuelo",
                  "0"
                ]
              ],
              "shape": {
                "columns": 1,
                "rows": 28
              }
            },
            "text/plain": [
              "flightNumber           0\n",
              "plane                  0\n",
              "dep_date               0\n",
              "dep_time               0\n",
              "dep_airport_name       0\n",
              "dep_airport_code       0\n",
              "dep_terminal           0\n",
              "dep_status             0\n",
              "dep_weather_min        0\n",
              "dep_weather_max        0\n",
              "dep_weather_desc       0\n",
              "dep_counter         5844\n",
              "dep_door            3371\n",
              "arr_date               0\n",
              "arr_time               0\n",
              "arr_airport_name       0\n",
              "arr_airport_code       0\n",
              "arr_terminal           0\n",
              "arr_status             0\n",
              "arr_weather_min        0\n",
              "arr_weather_max        0\n",
              "arr_weather_desc       0\n",
              "arr_room               0\n",
              "arr_belt             992\n",
              "timestamp              0\n",
              "dep_date_time          0\n",
              "arr_date_time          0\n",
              "duracion_vuelo         0\n",
              "dtype: int64"
            ]
          },
          "execution_count": 20,
          "metadata": {},
          "output_type": "execute_result"
        }
      ],
      "source": [
        "# Verificar valores nulos despues de la eliminación de duplicados\n",
        "\n",
        "# Vuelos Nacionales\n",
        "print(\"\\nVuelos Nacionales - Valores nulos por columna después de eliminar duplicados:\")\n",
        "df_vuelos_nacionales_deduplicados.isnull().sum()"
      ]
    },
    {
      "cell_type": "markdown",
      "id": "6x2X1Yu14Y3U",
      "metadata": {
        "id": "6x2X1Yu14Y3U"
      },
      "source": [
        "### **Tratar valores faltantes**\n",
        "Imputación estratégica de fechas faltantes:\n",
        "- Busca vuelos que poseen todos los campos de fechas de salida y llegada informados.\n",
        "- Una vez encontrado, usa estos registros de vuelos de referencia para actualizar los vuelos identicos que **no** poseen las fechas informadas. De esa manera se evita eliminar registros de vuelos validos."
      ]
    },
    {
      "cell_type": "code",
      "execution_count": 21,
      "id": "sfdQJE_74pdE",
      "metadata": {
        "colab": {
          "base_uri": "https://localhost:8080/"
        },
        "id": "sfdQJE_74pdE",
        "outputId": "61a1dcfc-856e-4b6a-800c-0aa61dbf03f0"
      },
      "outputs": [
        {
          "name": "stdout",
          "output_type": "stream",
          "text": [
            "\n",
            "Vuelos Internacionales - Llegada (Poseen fechas de llegada (arr_date_time) pero NO posee fechas de salida (dep_date_time))\n",
            " dep_date_time    209\n",
            "arr_date_time      0\n",
            "dtype: int64\n",
            "Vuelos Internacionales - Salida (NO posee fecha de salida (dep_date_time) pero posee fecha de llegada (arr_date_time))\n",
            " dep_date_time       0\n",
            "arr_date_time    4265\n",
            "dtype: int64\n",
            "\n",
            "Vuelos Nacionales - Llegada y Salida (Poseen fechas de entrada y salida)\n",
            " dep_date_time     0\n",
            "arr_date_time     0\n",
            "duracion_vuelo    0\n",
            "dtype: int64\n"
          ]
        }
      ],
      "source": [
        "# Recuperar fechas de referencia por vuelo y ruta\n",
        "\n",
        "# Definimos columnas clave para identificar un vuelo tipo\n",
        "columnas_referencia = [\n",
        "    'flightNumber', 'plane', 'dep_airport_name', 'dep_airport_code',\n",
        "    'dep_terminal', 'dep_weather_desc', 'arr_airport_name',\n",
        "    'arr_airport_code', 'arr_terminal', 'arr_weather_desc'\n",
        "]\n",
        "\n",
        "# Filtramos registros que sí tienen fecha/hora\n",
        "df_vuelos_salida_completos = df_vuelos_salida_deduplicados.dropna(subset=['dep_date_time', 'arr_date_time'])\n",
        "df_vuelos_llegada_completos = df_vuelos_llegada_deduplicados.dropna(subset=['dep_date_time', 'arr_date_time'])\n",
        "df_vuelos_nacionales_completos = df_vuelos_nacionales_deduplicados.dropna(subset=['dep_date_time', 'arr_date_time'])\n",
        "\n",
        "#-------------------------------------------------------------------------------\n",
        "# Vuelos Internacionales Salida\n",
        "#-------------------------------------------------------------------------------\n",
        "# Generamos un dataset de referencia con una entrada por combinación clave\n",
        "df_vuelos_salida_referencia = df_vuelos_salida_completos.drop_duplicates(subset=columnas_referencia, keep='first')\n",
        "columnas_actualizables = ['dep_date', 'arr_date', 'dep_date_time', 'arr_date_time']\n",
        "df_vuelos_salida_referencia = df_vuelos_salida_referencia[columnas_referencia + columnas_actualizables]\n",
        "# Merge con df_vuelos\n",
        "df_vuelos_salida_datetime_recuperados = df_vuelos_salida_deduplicados.merge(df_vuelos_salida_referencia, on=columnas_referencia, how='left', suffixes=('', '_ref'))\n",
        "# Completamos campos nulos con los de referencia\n",
        "for col in columnas_actualizables:\n",
        "    df_vuelos_salida_datetime_recuperados[col] = df_vuelos_salida_datetime_recuperados[col].fillna(df_vuelos_salida_datetime_recuperados[f'{col}_ref'])\n",
        "\n",
        "#-------------------------------------------------------------------------------\n",
        "# Vuelos Internacionales Legada\n",
        "#-------------------------------------------------------------------------------\n",
        "# Generamos un dataset de referencia con una entrada por combinación clave\n",
        "df_vuelos_llegada_referencia = df_vuelos_llegada_completos.drop_duplicates(subset=columnas_referencia, keep='first')\n",
        "columnas_actualizables = ['dep_date', 'arr_date', 'dep_date_time', 'arr_date_time']\n",
        "df_vuelos_llegada_referencia = df_vuelos_llegada_referencia[columnas_referencia + columnas_actualizables]\n",
        "# Merge con df_vuelos\n",
        "df_vuelos_llegada_datetime_recuperados = df_vuelos_llegada_deduplicados.merge(df_vuelos_llegada_referencia, on=columnas_referencia, how='left', suffixes=('', '_ref'))\n",
        "# Completamos campos nulos con los de referencia\n",
        "for col in columnas_actualizables:\n",
        "    df_vuelos_llegada_datetime_recuperados[col] = df_vuelos_llegada_datetime_recuperados[col].fillna(df_vuelos_llegada_datetime_recuperados[f'{col}_ref'])\n",
        "\n",
        "#-------------------------------------------------------------------------------\n",
        "# Vuelos Nacionales\n",
        "#-------------------------------------------------------------------------------\n",
        "# Generamos un dataset de referencia con una entrada por combinación clave\n",
        "df_vuelos_nacionales_referencia = df_vuelos_nacionales_completos.drop_duplicates(subset=columnas_referencia, keep='first')\n",
        "columnas_actualizables = ['dep_date', 'arr_date', 'dep_date_time', 'arr_date_time']\n",
        "df_vuelos_nacionales_referencia = df_vuelos_nacionales_referencia[columnas_referencia + columnas_actualizables]\n",
        "# Merge con df_vuelos\n",
        "df_vuelos_nacionales_datetime_recuperados = df_vuelos_nacionales_deduplicados.merge(df_vuelos_llegada_referencia, on=columnas_referencia, how='left', suffixes=('', '_ref'))\n",
        "# Completamos campos nulos con los de referencia\n",
        "for col in columnas_actualizables:\n",
        "    df_vuelos_nacionales_datetime_recuperados[col] = df_vuelos_nacionales_datetime_recuperados[col].fillna(df_vuelos_nacionales_datetime_recuperados[f'{col}_ref'])\n",
        "\n",
        "\n",
        "# Eliminamos columnas auxiliares\n",
        "df_vuelos_salida_datetime_recuperados.drop(columns=[col + '_ref' for col in columnas_actualizables], inplace=True)\n",
        "df_vuelos_llegada_datetime_recuperados.drop(columns=[col + '_ref' for col in columnas_actualizables], inplace=True)\n",
        "df_vuelos_nacionales_datetime_recuperados.drop(columns=[col + '_ref' for col in columnas_actualizables], inplace=True)\n",
        "\n",
        "# Comprobamos cuántos registros aún tienen nulos importantes\n",
        "print(\"\\nVuelos Internacionales - Llegada (Poseen fechas de llegada (arr_date_time) pero NO posee fechas de salida (dep_date_time))\\n\",df_vuelos_llegada_datetime_recuperados[['dep_date_time', 'arr_date_time']].isna().sum())\n",
        "print(\"Vuelos Internacionales - Salida (NO posee fecha de salida (dep_date_time) pero posee fecha de llegada (arr_date_time))\\n\", df_vuelos_salida_datetime_recuperados[['dep_date_time', 'arr_date_time']].isna().sum())\n",
        "print(\"\\nVuelos Nacionales - Llegada y Salida (Poseen fechas de entrada y salida)\\n\",df_vuelos_nacionales_datetime_recuperados[['dep_date_time', 'arr_date_time', 'duracion_vuelo']].isna().sum())\n",
        "\n",
        "\n"
      ]
    },
    {
      "cell_type": "code",
      "execution_count": 22,
      "id": "a1ac23BmDbeu",
      "metadata": {
        "colab": {
          "base_uri": "https://localhost:8080/"
        },
        "id": "a1ac23BmDbeu",
        "outputId": "0000a4cb-e528-4fad-a7ea-f0467bc4ad21"
      },
      "outputs": [
        {
          "name": "stdout",
          "output_type": "stream",
          "text": [
            "Vuelos Nacionales - total de filas en el dataset: (5850, 28)\n",
            "Vuelos Internacional Salida - total de filas en el dataset: (4265, 28)\n",
            "Vuelos Internacional Llegada - total de filas en el dataset: (209, 28)\n",
            "Suma total de vuelos (Iternacionales + Nacionales): 10324\n"
          ]
        }
      ],
      "source": [
        "print(\"Vuelos Nacionales - total de filas en el dataset:\", df_vuelos_nacionales_datetime_recuperados.shape)\n",
        "print(\"Vuelos Internacional Salida - total de filas en el dataset:\", df_vuelos_salida_datetime_recuperados.shape)\n",
        "print(\"Vuelos Internacional Llegada - total de filas en el dataset:\", df_vuelos_llegada_datetime_recuperados.shape)\n",
        "\n",
        "print(\"Suma total de vuelos (Iternacionales + Nacionales):\", len(df_vuelos_nacionales_datetime_recuperados) +\n",
        "      len(df_vuelos_salida_datetime_recuperados) + len(df_vuelos_llegada_datetime_recuperados))"
      ]
    },
    {
      "cell_type": "markdown",
      "id": "b-UAcKM-Bl5t",
      "metadata": {
        "id": "b-UAcKM-Bl5t"
      },
      "source": [
        "🧹 Limpieza completada: Preparación para el análisis\n",
        "\n"
      ]
    },
    {
      "cell_type": "code",
      "execution_count": 23,
      "id": "uOL-Msy_CnaD",
      "metadata": {
        "colab": {
          "base_uri": "https://localhost:8080/"
        },
        "id": "uOL-Msy_CnaD",
        "outputId": "b336077b-8adc-4c1b-9e45-05094e07e652"
      },
      "outputs": [
        {
          "name": "stdout",
          "output_type": "stream",
          "text": [
            "Limpieza completada. Los datasets (Vuelos Nacionales y Internacionales) estan limpios y preparados para el EDA\n"
          ]
        }
      ],
      "source": [
        "# Hacer una copia de los dataframes para evitar usar los originales\n",
        "\n",
        "df_vuelos_nacionales_limpio = df_vuelos_nacionales_datetime_recuperados.copy()\n",
        "df_vuelos_salida_limpio = df_vuelos_salida_datetime_recuperados.copy()\n",
        "df_vuelos_llegada_limpio = df_vuelos_llegada_datetime_recuperados.copy()\n",
        "\n",
        "print(\"Limpieza completada. Los datasets (Vuelos Nacionales y Internacionales) estan limpios y preparados para el EDA\")"
      ]
    },
    {
      "cell_type": "markdown",
      "id": "1d__PYlYB_XK",
      "metadata": {
        "id": "1d__PYlYB_XK"
      },
      "source": [
        "### 🔍 **EDA (Análisis Exploratorio de Datos)**\n",
        "\n",
        "Para medir la popularidad de los destinos turísticos, se realizará un conteo de la cantidad de vuelos que llegan a cada aeropuerto. También se generará una métrica temporal agrupando por fecha para analizar tendencias."
      ]
    },
    {
      "cell_type": "markdown",
      "id": "4iMqGNlpO3ph",
      "metadata": {
        "id": "4iMqGNlpO3ph"
      },
      "source": [
        "#### **Tablas Estadísticas**"
      ]
    },
    {
      "cell_type": "markdown",
      "id": "vir6miI0eHYN",
      "metadata": {
        "id": "vir6miI0eHYN"
      },
      "source": [
        "##### Agrupación de vuelos por aeropuerto de llegada (destino)\n",
        "Conteo general de todas las llegadas de vuelos a los aeropuretos españoles desde otras origenes (Nacionales e Internacionales).\n"
      ]
    },
    {
      "cell_type": "code",
      "execution_count": 24,
      "id": "8MVvI5yHz9i0",
      "metadata": {
        "colab": {
          "base_uri": "https://localhost:8080/",
          "height": 430
        },
        "id": "8MVvI5yHz9i0",
        "outputId": "e7fb17d5-3168-4fa4-fa20-60409f9d7e69"
      },
      "outputs": [
        {
          "name": "stdout",
          "output_type": "stream",
          "text": [
            "TOP 10 DESTINOS NACIONALES MÁS FRECUENTES\n",
            "-----------------------------------------\n"
          ]
        },
        {
          "data": {
            "text/html": [
              "<style type=\"text/css\">\n",
              "</style>\n",
              "<table id=\"T_93891\">\n",
              "  <thead>\n",
              "    <tr>\n",
              "      <th class=\"blank level0\" >&nbsp;</th>\n",
              "      <th id=\"T_93891_level0_col0\" class=\"col_heading level0 col0\" >arr_airport_name</th>\n",
              "      <th id=\"T_93891_level0_col1\" class=\"col_heading level0 col1\" >n_vuelos</th>\n",
              "    </tr>\n",
              "    <tr>\n",
              "      <th class=\"index_name level0\" >Posición</th>\n",
              "      <th class=\"blank col0\" >&nbsp;</th>\n",
              "      <th class=\"blank col1\" >&nbsp;</th>\n",
              "    </tr>\n",
              "  </thead>\n",
              "  <tbody>\n",
              "    <tr>\n",
              "      <th id=\"T_93891_level0_row0\" class=\"row_heading level0 row0\" >1</th>\n",
              "      <td id=\"T_93891_row0_col0\" class=\"data row0 col0\" >MADRID-BARAJAS ADOLFO SUÁREZ</td>\n",
              "      <td id=\"T_93891_row0_col1\" class=\"data row0 col1\" >1,011</td>\n",
              "    </tr>\n",
              "    <tr>\n",
              "      <th id=\"T_93891_level0_row1\" class=\"row_heading level0 row1\" >2</th>\n",
              "      <td id=\"T_93891_row1_col0\" class=\"data row1 col0\" >BARCELONA-EL PRAT</td>\n",
              "      <td id=\"T_93891_row1_col1\" class=\"data row1 col1\" >708</td>\n",
              "    </tr>\n",
              "    <tr>\n",
              "      <th id=\"T_93891_level0_row2\" class=\"row_heading level0 row2\" >3</th>\n",
              "      <td id=\"T_93891_row2_col0\" class=\"data row2 col0\" >TENERIFE NORTE</td>\n",
              "      <td id=\"T_93891_row2_col1\" class=\"data row2 col1\" >525</td>\n",
              "    </tr>\n",
              "    <tr>\n",
              "      <th id=\"T_93891_level0_row3\" class=\"row_heading level0 row3\" >4</th>\n",
              "      <td id=\"T_93891_row3_col0\" class=\"data row3 col0\" >GRAN CANARIA</td>\n",
              "      <td id=\"T_93891_row3_col1\" class=\"data row3 col1\" >394</td>\n",
              "    </tr>\n",
              "    <tr>\n",
              "      <th id=\"T_93891_level0_row4\" class=\"row_heading level0 row4\" >5</th>\n",
              "      <td id=\"T_93891_row4_col0\" class=\"data row4 col0\" >PALMA DE MALLORCA</td>\n",
              "      <td id=\"T_93891_row4_col1\" class=\"data row4 col1\" >303</td>\n",
              "    </tr>\n",
              "    <tr>\n",
              "      <th id=\"T_93891_level0_row5\" class=\"row_heading level0 row5\" >6</th>\n",
              "      <td id=\"T_93891_row5_col0\" class=\"data row5 col0\" >LA PALMA</td>\n",
              "      <td id=\"T_93891_row5_col1\" class=\"data row5 col1\" >267</td>\n",
              "    </tr>\n",
              "    <tr>\n",
              "      <th id=\"T_93891_level0_row6\" class=\"row_heading level0 row6\" >7</th>\n",
              "      <td id=\"T_93891_row6_col0\" class=\"data row6 col0\" >SEVILLA</td>\n",
              "      <td id=\"T_93891_row6_col1\" class=\"data row6 col1\" >247</td>\n",
              "    </tr>\n",
              "    <tr>\n",
              "      <th id=\"T_93891_level0_row7\" class=\"row_heading level0 row7\" >8</th>\n",
              "      <td id=\"T_93891_row7_col0\" class=\"data row7 col0\" >MALAGA-COSTA DEL SOL</td>\n",
              "      <td id=\"T_93891_row7_col1\" class=\"data row7 col1\" >174</td>\n",
              "    </tr>\n",
              "    <tr>\n",
              "      <th id=\"T_93891_level0_row8\" class=\"row_heading level0 row8\" >9</th>\n",
              "      <td id=\"T_93891_row8_col0\" class=\"data row8 col0\" >IBIZA</td>\n",
              "      <td id=\"T_93891_row8_col1\" class=\"data row8 col1\" >171</td>\n",
              "    </tr>\n",
              "    <tr>\n",
              "      <th id=\"T_93891_level0_row9\" class=\"row_heading level0 row9\" >10</th>\n",
              "      <td id=\"T_93891_row9_col0\" class=\"data row9 col0\" >BILBAO</td>\n",
              "      <td id=\"T_93891_row9_col1\" class=\"data row9 col1\" >170</td>\n",
              "    </tr>\n",
              "  </tbody>\n",
              "</table>\n"
            ],
            "text/plain": [
              "<pandas.io.formats.style.Styler at 0x2231f9d1dc0>"
            ]
          },
          "metadata": {},
          "output_type": "display_data"
        }
      ],
      "source": [
        "# Copia del DataFrame original para preservar los datos crudos\n",
        "# Esto evita modificar accidentalmente el dataset original\n",
        "\n",
        "# Concatenar Todos los vuelos para analizar la cantidad de vuelos que llegan en su total a los aeropuertos de España\n",
        "df_vuelos_destino = pd.concat([df_vuelos_nacionales_limpio, df_vuelos_salida_limpio, df_vuelos_llegada_limpio], ignore_index=True)\n",
        "\n",
        "# ---------------------------------------------------------------\n",
        "# 1. Preparación de la columna de fecha\n",
        "# ---------------------------------------------------------------\n",
        "# Convertir a datetime y extraer solo la fecha (sin hora)\n",
        "# dt.date asegura consistencia en el formato de fecha\n",
        "df_vuelos_destino['arr_date'] = pd.to_datetime(df_vuelos_destino['arr_date']) # arr_date_time\n",
        "df_vuelos_destino['arr_date'] = df_vuelos_destino['arr_date'].dt.date\n",
        "\n",
        "# ---------------------------------------------------------------\n",
        "# 2. Agrupación inicial por destino y fecha\n",
        "# ---------------------------------------------------------------\n",
        "# Contar vuelos por combinación única de aeropuerto y fecha\n",
        "# reset_index() convierte la agrupación en DataFrame\n",
        "popularidad_destino = df_vuelos_destino.groupby(['arr_airport_name', 'arr_date']) \\\n",
        "                                       .size().reset_index(name='n_vuelos')\n",
        "\n",
        "# Ordenar cronológicamente para mantener secuencia temporal\n",
        "popularidad_destino = popularidad_destino.sort_values(by='arr_date')\n",
        "\n",
        "# ------------------------------------------------------# ---------------------------------------------------------------\n",
        "# 3. Identificación de los 10 destinos principales (ÍNDICES 1-10)\n",
        "# ---------------------------------------------------------------\n",
        "\n",
        "# Sumarización y orden descendente\n",
        "total_por_destino = popularidad_destino.groupby('arr_airport_name')['n_vuelos'] \\\n",
        "                                       .sum().reset_index()\n",
        "\n",
        "# Crear columna de posición (1-10) y reiniciar índice (CORRECCIÓN)\n",
        "top10_destino = (\n",
        "    total_por_destino\n",
        "    .sort_values(by='n_vuelos', ascending=False)  # Ordena de mayor a menor\n",
        "    .head(10)\n",
        "    .reset_index(drop=True)  # Elimina el índice original\n",
        "    .assign(Posición=lambda x: x.index + 1)  # Crea posición 1-10\n",
        "    .set_index('Posición')  # Fija la posición como índice\n",
        ")\n",
        "\n",
        "# ---------------------------------------------------------------\n",
        "# 4. Filtrado del dataset principal para solo incluir top 10 (CORRECCIÓN)\n",
        "# ---------------------------------------------------------------\n",
        "popularidad_destino = popularidad_destino[\n",
        "    popularidad_destino['arr_airport_name'].isin(top10_destino['arr_airport_name'])\n",
        "]\n",
        "\n",
        "# ---------------------------------------------------------------\n",
        "# 5. Resultados y validación (CON POSICIÓN 1-10)\n",
        "# ---------------------------------------------------------------\n",
        "print(\"TOP 10 DESTINOS NACIONALES MÁS FRECUENTES\")\n",
        "print(\"-----------------------------------------\")\n",
        "display(top10_destino.style.format({'n_vuelos': '{:,}'}))\n",
        "\n"
      ]
    },
    {
      "cell_type": "markdown",
      "id": "kFcSvZm6N4R5",
      "metadata": {
        "id": "kFcSvZm6N4R5"
      },
      "source": [
        "📊 Tendencia diaria de vuelos por aeropuerto de llegada (arr_airport_name)"
      ]
    },
    {
      "cell_type": "code",
      "execution_count": 25,
      "id": "sgWYNXo9N53j",
      "metadata": {
        "colab": {
          "base_uri": "https://localhost:8080/",
          "height": 449
        },
        "id": "sgWYNXo9N53j",
        "outputId": "d1e970b0-d9fb-4203-f4fe-bc3672be5e03"
      },
      "outputs": [
        {
          "name": "stdout",
          "output_type": "stream",
          "text": [
            "\n",
            "MUESTRA DE DATOS DIARIOS (PRIMEROS 10 REGISTROS)\n",
            "--------------------------------------------------\n"
          ]
        },
        {
          "data": {
            "application/vnd.microsoft.datawrangler.viewer.v0+json": {
              "columns": [
                {
                  "name": "Posición",
                  "rawType": "int64",
                  "type": "integer"
                },
                {
                  "name": "arr_airport_name",
                  "rawType": "object",
                  "type": "string"
                },
                {
                  "name": "arr_date",
                  "rawType": "object",
                  "type": "unknown"
                },
                {
                  "name": "n_vuelos",
                  "rawType": "int64",
                  "type": "integer"
                }
              ],
              "ref": "31dbb816-40f6-41ff-964a-c5779e3906d8",
              "rows": [
                [
                  "1",
                  "MADRID-BARAJAS ADOLFO SUÁREZ",
                  "2018-04-15",
                  "395"
                ],
                [
                  "2",
                  "MADRID-BARAJAS ADOLFO SUÁREZ",
                  "2018-04-14",
                  "376"
                ],
                [
                  "3",
                  "BARCELONA-EL PRAT",
                  "2018-04-15",
                  "275"
                ],
                [
                  "4",
                  "BARCELONA-EL PRAT",
                  "2018-04-14",
                  "244"
                ],
                [
                  "5",
                  "TENERIFE NORTE",
                  "2018-04-15",
                  "192"
                ],
                [
                  "6",
                  "TENERIFE NORTE",
                  "2018-04-14",
                  "189"
                ],
                [
                  "7",
                  "MADRID-BARAJAS ADOLFO SUÁREZ",
                  "2018-04-13",
                  "177"
                ],
                [
                  "8",
                  "BARCELONA-EL PRAT",
                  "2018-04-13",
                  "158"
                ],
                [
                  "9",
                  "GRAN CANARIA",
                  "2018-04-14",
                  "140"
                ],
                [
                  "10",
                  "GRAN CANARIA",
                  "2018-04-13",
                  "137"
                ]
              ],
              "shape": {
                "columns": 3,
                "rows": 10
              }
            },
            "text/html": [
              "<div>\n",
              "<style scoped>\n",
              "    .dataframe tbody tr th:only-of-type {\n",
              "        vertical-align: middle;\n",
              "    }\n",
              "\n",
              "    .dataframe tbody tr th {\n",
              "        vertical-align: top;\n",
              "    }\n",
              "\n",
              "    .dataframe thead th {\n",
              "        text-align: right;\n",
              "    }\n",
              "</style>\n",
              "<table border=\"1\" class=\"dataframe\">\n",
              "  <thead>\n",
              "    <tr style=\"text-align: right;\">\n",
              "      <th></th>\n",
              "      <th>arr_airport_name</th>\n",
              "      <th>arr_date</th>\n",
              "      <th>n_vuelos</th>\n",
              "    </tr>\n",
              "    <tr>\n",
              "      <th>Posición</th>\n",
              "      <th></th>\n",
              "      <th></th>\n",
              "      <th></th>\n",
              "    </tr>\n",
              "  </thead>\n",
              "  <tbody>\n",
              "    <tr>\n",
              "      <th>1</th>\n",
              "      <td>MADRID-BARAJAS ADOLFO SUÁREZ</td>\n",
              "      <td>2018-04-15</td>\n",
              "      <td>395</td>\n",
              "    </tr>\n",
              "    <tr>\n",
              "      <th>2</th>\n",
              "      <td>MADRID-BARAJAS ADOLFO SUÁREZ</td>\n",
              "      <td>2018-04-14</td>\n",
              "      <td>376</td>\n",
              "    </tr>\n",
              "    <tr>\n",
              "      <th>3</th>\n",
              "      <td>BARCELONA-EL PRAT</td>\n",
              "      <td>2018-04-15</td>\n",
              "      <td>275</td>\n",
              "    </tr>\n",
              "    <tr>\n",
              "      <th>4</th>\n",
              "      <td>BARCELONA-EL PRAT</td>\n",
              "      <td>2018-04-14</td>\n",
              "      <td>244</td>\n",
              "    </tr>\n",
              "    <tr>\n",
              "      <th>5</th>\n",
              "      <td>TENERIFE NORTE</td>\n",
              "      <td>2018-04-15</td>\n",
              "      <td>192</td>\n",
              "    </tr>\n",
              "    <tr>\n",
              "      <th>6</th>\n",
              "      <td>TENERIFE NORTE</td>\n",
              "      <td>2018-04-14</td>\n",
              "      <td>189</td>\n",
              "    </tr>\n",
              "    <tr>\n",
              "      <th>7</th>\n",
              "      <td>MADRID-BARAJAS ADOLFO SUÁREZ</td>\n",
              "      <td>2018-04-13</td>\n",
              "      <td>177</td>\n",
              "    </tr>\n",
              "    <tr>\n",
              "      <th>8</th>\n",
              "      <td>BARCELONA-EL PRAT</td>\n",
              "      <td>2018-04-13</td>\n",
              "      <td>158</td>\n",
              "    </tr>\n",
              "    <tr>\n",
              "      <th>9</th>\n",
              "      <td>GRAN CANARIA</td>\n",
              "      <td>2018-04-14</td>\n",
              "      <td>140</td>\n",
              "    </tr>\n",
              "    <tr>\n",
              "      <th>10</th>\n",
              "      <td>GRAN CANARIA</td>\n",
              "      <td>2018-04-13</td>\n",
              "      <td>137</td>\n",
              "    </tr>\n",
              "  </tbody>\n",
              "</table>\n",
              "</div>"
            ],
            "text/plain": [
              "                      arr_airport_name    arr_date  n_vuelos\n",
              "Posición                                                    \n",
              "1         MADRID-BARAJAS ADOLFO SUÁREZ  2018-04-15       395\n",
              "2         MADRID-BARAJAS ADOLFO SUÁREZ  2018-04-14       376\n",
              "3                    BARCELONA-EL PRAT  2018-04-15       275\n",
              "4                    BARCELONA-EL PRAT  2018-04-14       244\n",
              "5                       TENERIFE NORTE  2018-04-15       192\n",
              "6                       TENERIFE NORTE  2018-04-14       189\n",
              "7         MADRID-BARAJAS ADOLFO SUÁREZ  2018-04-13       177\n",
              "8                    BARCELONA-EL PRAT  2018-04-13       158\n",
              "9                         GRAN CANARIA  2018-04-14       140\n",
              "10                        GRAN CANARIA  2018-04-13       137"
            ]
          },
          "metadata": {},
          "output_type": "display_data"
        }
      ],
      "source": [
        "print(\"\\nMUESTRA DE DATOS DIARIOS (PRIMEROS 10 REGISTROS)\")\n",
        "print(\"--------------------------------------------------\")\n",
        "display(\n",
        "    popularidad_destino\n",
        "    .sort_values(by=\"n_vuelos\", ascending=False)\n",
        "    .head(10)\n",
        "    .reset_index(drop=True)\n",
        "    .assign(Posición=lambda x: x.index + 1)\n",
        "    .set_index('Posición')\n",
        ")"
      ]
    },
    {
      "cell_type": "markdown",
      "id": "q_zrtwPulGym",
      "metadata": {
        "id": "q_zrtwPulGym"
      },
      "source": [
        "##### Agrupación y análisis de destinos internacionales más populares"
      ]
    },
    {
      "cell_type": "markdown",
      "id": "8GTC1R9SlHBZ",
      "metadata": {
        "id": "8GTC1R9SlHBZ"
      },
      "source": [
        "##### Tendencia diaria de vuelos más frecuentes desde España\n",
        "Agrupación de vuelos por destinos nacionales e internacionales más frecuentes desde España <br>\n",
        "\n",
        "- Responde: ¿Desde qué aeropuertos hay mayor volumen de salidas diarias?\n",
        "- Se agrupa por `dep_airport_name`, `arr_airport_name`, `dep_date`."
      ]
    },
    {
      "cell_type": "code",
      "execution_count": 26,
      "id": "CfltviuklHXP",
      "metadata": {
        "colab": {
          "base_uri": "https://localhost:8080/",
          "height": 1000
        },
        "id": "CfltviuklHXP",
        "outputId": "5e48bf38-c249-48aa-b242-2f0d1265aef5"
      },
      "outputs": [
        {
          "name": "stdout",
          "output_type": "stream",
          "text": [
            "TOP 10 RUTAS INTERNACIONALES MÁS FRECUENTES (ORIGEN-DESTINO)\n",
            "------------------------------------------------------------\n"
          ]
        },
        {
          "data": {
            "text/html": [
              "<style type=\"text/css\">\n",
              "</style>\n",
              "<table id=\"T_b57e7\">\n",
              "  <thead>\n",
              "    <tr>\n",
              "      <th class=\"blank level0\" >&nbsp;</th>\n",
              "      <th id=\"T_b57e7_level0_col0\" class=\"col_heading level0 col0\" >Aeropuerto Origen</th>\n",
              "      <th id=\"T_b57e7_level0_col1\" class=\"col_heading level0 col1\" >Aeropuerto Destino</th>\n",
              "      <th id=\"T_b57e7_level0_col2\" class=\"col_heading level0 col2\" >Total Vuelos</th>\n",
              "    </tr>\n",
              "    <tr>\n",
              "      <th class=\"index_name level0\" >Posición</th>\n",
              "      <th class=\"blank col0\" >&nbsp;</th>\n",
              "      <th class=\"blank col1\" >&nbsp;</th>\n",
              "      <th class=\"blank col2\" >&nbsp;</th>\n",
              "    </tr>\n",
              "  </thead>\n",
              "  <tbody>\n",
              "    <tr>\n",
              "      <th id=\"T_b57e7_level0_row0\" class=\"row_heading level0 row0\" >1</th>\n",
              "      <td id=\"T_b57e7_row0_col0\" class=\"data row0 col0\" >MENORCA</td>\n",
              "      <td id=\"T_b57e7_row0_col1\" class=\"data row0 col1\" >PALMA DE MALLORCA</td>\n",
              "      <td id=\"T_b57e7_row0_col2\" class=\"data row0 col2\" >40</td>\n",
              "    </tr>\n",
              "    <tr>\n",
              "      <th id=\"T_b57e7_level0_row1\" class=\"row_heading level0 row1\" >2</th>\n",
              "      <td id=\"T_b57e7_row1_col0\" class=\"data row1 col0\" >MALAGA-COSTA DEL SOL</td>\n",
              "      <td id=\"T_b57e7_row1_col1\" class=\"data row1 col1\" >LONDRES /GATWICK</td>\n",
              "      <td id=\"T_b57e7_row1_col2\" class=\"data row1 col2\" >30</td>\n",
              "    </tr>\n",
              "    <tr>\n",
              "      <th id=\"T_b57e7_level0_row2\" class=\"row_heading level0 row2\" >3</th>\n",
              "      <td id=\"T_b57e7_row2_col0\" class=\"data row2 col0\" >IBIZA</td>\n",
              "      <td id=\"T_b57e7_row2_col1\" class=\"data row2 col1\" >PALMA DE MALLORCA</td>\n",
              "      <td id=\"T_b57e7_row2_col2\" class=\"data row2 col2\" >28</td>\n",
              "    </tr>\n",
              "    <tr>\n",
              "      <th id=\"T_b57e7_level0_row3\" class=\"row_heading level0 row3\" >4</th>\n",
              "      <td id=\"T_b57e7_row3_col0\" class=\"data row3 col0\" >ALICANTE-ELCHE</td>\n",
              "      <td id=\"T_b57e7_row3_col1\" class=\"data row3 col1\" >LONDRES /GATWICK</td>\n",
              "      <td id=\"T_b57e7_row3_col2\" class=\"data row3 col2\" >23</td>\n",
              "    </tr>\n",
              "    <tr>\n",
              "      <th id=\"T_b57e7_level0_row4\" class=\"row_heading level0 row4\" >5</th>\n",
              "      <td id=\"T_b57e7_row4_col0\" class=\"data row4 col0\" >PALMA DE MALLORCA</td>\n",
              "      <td id=\"T_b57e7_row4_col1\" class=\"data row4 col1\" >DUSSELDORF</td>\n",
              "      <td id=\"T_b57e7_row4_col2\" class=\"data row4 col2\" >23</td>\n",
              "    </tr>\n",
              "    <tr>\n",
              "      <th id=\"T_b57e7_level0_row5\" class=\"row_heading level0 row5\" >6</th>\n",
              "      <td id=\"T_b57e7_row5_col0\" class=\"data row5 col0\" >MALAGA-COSTA DEL SOL</td>\n",
              "      <td id=\"T_b57e7_row5_col1\" class=\"data row5 col1\" >COPENHAGUE</td>\n",
              "      <td id=\"T_b57e7_row5_col2\" class=\"data row5 col2\" >20</td>\n",
              "    </tr>\n",
              "    <tr>\n",
              "      <th id=\"T_b57e7_level0_row6\" class=\"row_heading level0 row6\" >7</th>\n",
              "      <td id=\"T_b57e7_row6_col0\" class=\"data row6 col0\" >MADRID-BARAJAS ADOLFO SUÁREZ</td>\n",
              "      <td id=\"T_b57e7_row6_col1\" class=\"data row6 col1\" >LISBOA</td>\n",
              "      <td id=\"T_b57e7_row6_col2\" class=\"data row6 col2\" >19</td>\n",
              "    </tr>\n",
              "    <tr>\n",
              "      <th id=\"T_b57e7_level0_row7\" class=\"row_heading level0 row7\" >8</th>\n",
              "      <td id=\"T_b57e7_row7_col0\" class=\"data row7 col0\" >PALMA DE MALLORCA</td>\n",
              "      <td id=\"T_b57e7_row7_col1\" class=\"data row7 col1\" >FRANKFURT</td>\n",
              "      <td id=\"T_b57e7_row7_col2\" class=\"data row7 col2\" >19</td>\n",
              "    </tr>\n",
              "    <tr>\n",
              "      <th id=\"T_b57e7_level0_row8\" class=\"row_heading level0 row8\" >9</th>\n",
              "      <td id=\"T_b57e7_row8_col0\" class=\"data row8 col0\" >PALMA DE MALLORCA</td>\n",
              "      <td id=\"T_b57e7_row8_col1\" class=\"data row8 col1\" >LONDRES /GATWICK</td>\n",
              "      <td id=\"T_b57e7_row8_col2\" class=\"data row8 col2\" >18</td>\n",
              "    </tr>\n",
              "    <tr>\n",
              "      <th id=\"T_b57e7_level0_row9\" class=\"row_heading level0 row9\" >10</th>\n",
              "      <td id=\"T_b57e7_row9_col0\" class=\"data row9 col0\" >BARCELONA-EL PRAT</td>\n",
              "      <td id=\"T_b57e7_row9_col1\" class=\"data row9 col1\" >LONDRES /GATWICK</td>\n",
              "      <td id=\"T_b57e7_row9_col2\" class=\"data row9 col2\" >18</td>\n",
              "    </tr>\n",
              "  </tbody>\n",
              "</table>\n"
            ],
            "text/plain": [
              "<pandas.io.formats.style.Styler at 0x2231b2dd610>"
            ]
          },
          "metadata": {},
          "output_type": "display_data"
        },
        {
          "name": "stdout",
          "output_type": "stream",
          "text": [
            "\n",
            "TOP 10 DESTINOS INTERNACIONALES MÁS FRECUENTES\n",
            "-----------------------------------------------\n"
          ]
        },
        {
          "data": {
            "text/html": [
              "<style type=\"text/css\">\n",
              "</style>\n",
              "<table id=\"T_b28fc\">\n",
              "  <thead>\n",
              "    <tr>\n",
              "      <th class=\"blank level0\" >&nbsp;</th>\n",
              "      <th id=\"T_b28fc_level0_col0\" class=\"col_heading level0 col0\" >Aeropuerto Destino</th>\n",
              "      <th id=\"T_b28fc_level0_col1\" class=\"col_heading level0 col1\" >Total Vuelos</th>\n",
              "    </tr>\n",
              "    <tr>\n",
              "      <th class=\"index_name level0\" >Posición</th>\n",
              "      <th class=\"blank col0\" >&nbsp;</th>\n",
              "      <th class=\"blank col1\" >&nbsp;</th>\n",
              "    </tr>\n",
              "  </thead>\n",
              "  <tbody>\n",
              "    <tr>\n",
              "      <th id=\"T_b28fc_level0_row0\" class=\"row_heading level0 row0\" >1</th>\n",
              "      <td id=\"T_b28fc_row0_col0\" class=\"data row0 col0\" >LONDRES /GATWICK</td>\n",
              "      <td id=\"T_b28fc_row0_col1\" class=\"data row0 col1\" >182</td>\n",
              "    </tr>\n",
              "    <tr>\n",
              "      <th id=\"T_b28fc_level0_row1\" class=\"row_heading level0 row1\" >2</th>\n",
              "      <td id=\"T_b28fc_row1_col0\" class=\"data row1 col0\" >LONDRES /STANSTED</td>\n",
              "      <td id=\"T_b28fc_row1_col1\" class=\"data row1 col1\" >150</td>\n",
              "    </tr>\n",
              "    <tr>\n",
              "      <th id=\"T_b28fc_level0_row2\" class=\"row_heading level0 row2\" >3</th>\n",
              "      <td id=\"T_b28fc_row2_col0\" class=\"data row2 col0\" >AMSTERDAM /SCHIPHOL</td>\n",
              "      <td id=\"T_b28fc_row2_col1\" class=\"data row2 col1\" >134</td>\n",
              "    </tr>\n",
              "    <tr>\n",
              "      <th id=\"T_b28fc_level0_row3\" class=\"row_heading level0 row3\" >4</th>\n",
              "      <td id=\"T_b28fc_row3_col0\" class=\"data row3 col0\" >FRANKFURT</td>\n",
              "      <td id=\"T_b28fc_row3_col1\" class=\"data row3 col1\" >129</td>\n",
              "    </tr>\n",
              "    <tr>\n",
              "      <th id=\"T_b28fc_level0_row4\" class=\"row_heading level0 row4\" >5</th>\n",
              "      <td id=\"T_b28fc_row4_col0\" class=\"data row4 col0\" >MANCHESTER</td>\n",
              "      <td id=\"T_b28fc_row4_col1\" class=\"data row4 col1\" >116</td>\n",
              "    </tr>\n",
              "    <tr>\n",
              "      <th id=\"T_b28fc_level0_row5\" class=\"row_heading level0 row5\" >6</th>\n",
              "      <td id=\"T_b28fc_row5_col0\" class=\"data row5 col0\" >PARIS /CHARLES DE GAULLE</td>\n",
              "      <td id=\"T_b28fc_row5_col1\" class=\"data row5 col1\" >109</td>\n",
              "    </tr>\n",
              "    <tr>\n",
              "      <th id=\"T_b28fc_level0_row6\" class=\"row_heading level0 row6\" >7</th>\n",
              "      <td id=\"T_b28fc_row6_col0\" class=\"data row6 col0\" >LISBOA</td>\n",
              "      <td id=\"T_b28fc_row6_col1\" class=\"data row6 col1\" >102</td>\n",
              "    </tr>\n",
              "    <tr>\n",
              "      <th id=\"T_b28fc_level0_row7\" class=\"row_heading level0 row7\" >8</th>\n",
              "      <td id=\"T_b28fc_row7_col0\" class=\"data row7 col0\" >DUSSELDORF</td>\n",
              "      <td id=\"T_b28fc_row7_col1\" class=\"data row7 col1\" >95</td>\n",
              "    </tr>\n",
              "    <tr>\n",
              "      <th id=\"T_b28fc_level0_row8\" class=\"row_heading level0 row8\" >9</th>\n",
              "      <td id=\"T_b28fc_row8_col0\" class=\"data row8 col0\" >DUBLIN</td>\n",
              "      <td id=\"T_b28fc_row8_col1\" class=\"data row8 col1\" >94</td>\n",
              "    </tr>\n",
              "    <tr>\n",
              "      <th id=\"T_b28fc_level0_row9\" class=\"row_heading level0 row9\" >10</th>\n",
              "      <td id=\"T_b28fc_row9_col0\" class=\"data row9 col0\" >BRUSELAS</td>\n",
              "      <td id=\"T_b28fc_row9_col1\" class=\"data row9 col1\" >93</td>\n",
              "    </tr>\n",
              "  </tbody>\n",
              "</table>\n"
            ],
            "text/plain": [
              "<pandas.io.formats.style.Styler at 0x2231b2ced60>"
            ]
          },
          "metadata": {},
          "output_type": "display_data"
        },
        {
          "name": "stdout",
          "output_type": "stream",
          "text": [
            "\n",
            "MUESTRA DE DATOS DIARIOS (PRIMEROS 10 REGISTROS)\n",
            "--------------------------------------------------\n"
          ]
        },
        {
          "data": {
            "application/vnd.microsoft.datawrangler.viewer.v0+json": {
              "columns": [
                {
                  "name": "Posición",
                  "rawType": "int64",
                  "type": "integer"
                },
                {
                  "name": "Origen",
                  "rawType": "object",
                  "type": "string"
                },
                {
                  "name": "Destino",
                  "rawType": "object",
                  "type": "string"
                },
                {
                  "name": "dep_date",
                  "rawType": "object",
                  "type": "unknown"
                },
                {
                  "name": "Vuelos Diarios",
                  "rawType": "int64",
                  "type": "integer"
                }
              ],
              "ref": "fa6f7404-db21-4bfb-adc6-d7c45735afe5",
              "rows": [
                [
                  "1",
                  "MENORCA",
                  "PALMA DE MALLORCA",
                  "2018-04-15",
                  "21"
                ],
                [
                  "2",
                  "MALAGA-COSTA DEL SOL",
                  "LONDRES /GATWICK",
                  "2018-04-14",
                  "14"
                ],
                [
                  "3",
                  "GRANADA-JAÉN F.G.L.",
                  "ESTOCOLMO /ARLANDA",
                  "2018-04-15",
                  "12"
                ],
                [
                  "4",
                  "ALICANTE-ELCHE",
                  "LONDRES /GATWICK",
                  "2018-04-14",
                  "12"
                ],
                [
                  "5",
                  "IBIZA",
                  "PALMA DE MALLORCA",
                  "2018-04-14",
                  "11"
                ],
                [
                  "6",
                  "MALAGA-COSTA DEL SOL",
                  "LONDRES /GATWICK",
                  "2018-04-13",
                  "11"
                ],
                [
                  "7",
                  "MENORCA",
                  "PALMA DE MALLORCA",
                  "2018-04-14",
                  "11"
                ],
                [
                  "8",
                  "BARCELONA-EL PRAT",
                  "LONDRES /GATWICK",
                  "2018-04-14",
                  "9"
                ],
                [
                  "9",
                  "IBIZA",
                  "PALMA DE MALLORCA",
                  "2018-04-15",
                  "9"
                ],
                [
                  "10",
                  "PALMA DE MALLORCA",
                  "DUSSELDORF",
                  "2018-04-14",
                  "9"
                ]
              ],
              "shape": {
                "columns": 4,
                "rows": 10
              }
            },
            "text/html": [
              "<div>\n",
              "<style scoped>\n",
              "    .dataframe tbody tr th:only-of-type {\n",
              "        vertical-align: middle;\n",
              "    }\n",
              "\n",
              "    .dataframe tbody tr th {\n",
              "        vertical-align: top;\n",
              "    }\n",
              "\n",
              "    .dataframe thead th {\n",
              "        text-align: right;\n",
              "    }\n",
              "</style>\n",
              "<table border=\"1\" class=\"dataframe\">\n",
              "  <thead>\n",
              "    <tr style=\"text-align: right;\">\n",
              "      <th></th>\n",
              "      <th>Origen</th>\n",
              "      <th>Destino</th>\n",
              "      <th>dep_date</th>\n",
              "      <th>Vuelos Diarios</th>\n",
              "    </tr>\n",
              "    <tr>\n",
              "      <th>Posición</th>\n",
              "      <th></th>\n",
              "      <th></th>\n",
              "      <th></th>\n",
              "      <th></th>\n",
              "    </tr>\n",
              "  </thead>\n",
              "  <tbody>\n",
              "    <tr>\n",
              "      <th>1</th>\n",
              "      <td>MENORCA</td>\n",
              "      <td>PALMA DE MALLORCA</td>\n",
              "      <td>2018-04-15</td>\n",
              "      <td>21</td>\n",
              "    </tr>\n",
              "    <tr>\n",
              "      <th>2</th>\n",
              "      <td>MALAGA-COSTA DEL SOL</td>\n",
              "      <td>LONDRES /GATWICK</td>\n",
              "      <td>2018-04-14</td>\n",
              "      <td>14</td>\n",
              "    </tr>\n",
              "    <tr>\n",
              "      <th>3</th>\n",
              "      <td>GRANADA-JAÉN F.G.L.</td>\n",
              "      <td>ESTOCOLMO /ARLANDA</td>\n",
              "      <td>2018-04-15</td>\n",
              "      <td>12</td>\n",
              "    </tr>\n",
              "    <tr>\n",
              "      <th>4</th>\n",
              "      <td>ALICANTE-ELCHE</td>\n",
              "      <td>LONDRES /GATWICK</td>\n",
              "      <td>2018-04-14</td>\n",
              "      <td>12</td>\n",
              "    </tr>\n",
              "    <tr>\n",
              "      <th>5</th>\n",
              "      <td>IBIZA</td>\n",
              "      <td>PALMA DE MALLORCA</td>\n",
              "      <td>2018-04-14</td>\n",
              "      <td>11</td>\n",
              "    </tr>\n",
              "    <tr>\n",
              "      <th>6</th>\n",
              "      <td>MALAGA-COSTA DEL SOL</td>\n",
              "      <td>LONDRES /GATWICK</td>\n",
              "      <td>2018-04-13</td>\n",
              "      <td>11</td>\n",
              "    </tr>\n",
              "    <tr>\n",
              "      <th>7</th>\n",
              "      <td>MENORCA</td>\n",
              "      <td>PALMA DE MALLORCA</td>\n",
              "      <td>2018-04-14</td>\n",
              "      <td>11</td>\n",
              "    </tr>\n",
              "    <tr>\n",
              "      <th>8</th>\n",
              "      <td>BARCELONA-EL PRAT</td>\n",
              "      <td>LONDRES /GATWICK</td>\n",
              "      <td>2018-04-14</td>\n",
              "      <td>9</td>\n",
              "    </tr>\n",
              "    <tr>\n",
              "      <th>9</th>\n",
              "      <td>IBIZA</td>\n",
              "      <td>PALMA DE MALLORCA</td>\n",
              "      <td>2018-04-15</td>\n",
              "      <td>9</td>\n",
              "    </tr>\n",
              "    <tr>\n",
              "      <th>10</th>\n",
              "      <td>PALMA DE MALLORCA</td>\n",
              "      <td>DUSSELDORF</td>\n",
              "      <td>2018-04-14</td>\n",
              "      <td>9</td>\n",
              "    </tr>\n",
              "  </tbody>\n",
              "</table>\n",
              "</div>"
            ],
            "text/plain": [
              "                        Origen             Destino    dep_date  Vuelos Diarios\n",
              "Posición                                                                      \n",
              "1                      MENORCA   PALMA DE MALLORCA  2018-04-15              21\n",
              "2         MALAGA-COSTA DEL SOL    LONDRES /GATWICK  2018-04-14              14\n",
              "3          GRANADA-JAÉN F.G.L.  ESTOCOLMO /ARLANDA  2018-04-15              12\n",
              "4               ALICANTE-ELCHE    LONDRES /GATWICK  2018-04-14              12\n",
              "5                        IBIZA   PALMA DE MALLORCA  2018-04-14              11\n",
              "6         MALAGA-COSTA DEL SOL    LONDRES /GATWICK  2018-04-13              11\n",
              "7                      MENORCA   PALMA DE MALLORCA  2018-04-14              11\n",
              "8            BARCELONA-EL PRAT    LONDRES /GATWICK  2018-04-14               9\n",
              "9                        IBIZA   PALMA DE MALLORCA  2018-04-15               9\n",
              "10           PALMA DE MALLORCA          DUSSELDORF  2018-04-14               9"
            ]
          },
          "metadata": {},
          "output_type": "display_data"
        }
      ],
      "source": [
        "# Concatenar Todos los vuelos para analizar la cantidad de vuelos que llegan en su total a los aeropuertos de España\n",
        "df_vuelos_destino_internacional = df_vuelos_salida_limpio\n",
        "\n",
        "# ---------------------------------------------------------------\n",
        "# 1. Preparación de la columna de fecha\n",
        "# ---------------------------------------------------------------\n",
        "# Convertir a datetime y extraer solo la fecha (sin hora)\n",
        "# dt.date asegura consistencia en el formato de fecha\n",
        "df_vuelos_destino_internacional['dep_date'] = pd.to_datetime(df_vuelos_destino_internacional['dep_date']) # arr_date_time\n",
        "df_vuelos_destino_internacional['dep_date'] = df_vuelos_destino_internacional['dep_date'].dt.date\n",
        "\n",
        "# ---------------------------------------------------------------\n",
        "# 2. Agrupación inicial por destino y fecha\n",
        "# ---------------------------------------------------------------\n",
        "# Contar vuelos por combinación única de aeropuerto y fecha\n",
        "# reset_index() convierte la agrupación en DataFrame\n",
        "popularidad_destino_internacional = df_vuelos_destino_internacional.groupby(['dep_airport_name', 'arr_airport_name', 'dep_date']) \\\n",
        "                                       .size().reset_index(name='n_vuelos')\n",
        "\n",
        "# Ordenar cronológicamente para mantener secuencia temporal\n",
        "popularidad_destino_internacional = popularidad_destino_internacional.sort_values(by='dep_date')\n",
        "\n",
        "# ---------------------------------------------------------------\n",
        "# 3. Identificación de los 10 destinos principales (ÍNDICES 1-10)\n",
        "# ---------------------------------------------------------------\n",
        "# [1] Tabla de rutas completas (origen-destino)\n",
        "total_rutas_internacionales = popularidad_destino_internacional.groupby(\n",
        "    ['dep_airport_name', 'arr_airport_name']\n",
        ")['n_vuelos'].sum().reset_index()\n",
        "\n",
        "# Crear top 10 de rutas con posición\n",
        "top10_rutas_internacionales = (\n",
        "    total_rutas_internacionales\n",
        "    .sort_values(by='n_vuelos', ascending=False)\n",
        "    .head(10)\n",
        "    .reset_index(drop=True)\n",
        "    .assign(Posición=lambda x: x.index + 1)\n",
        "    .set_index('Posición')\n",
        "    .rename(columns={\n",
        "        'dep_airport_name': 'Aeropuerto Origen',\n",
        "        'arr_airport_name': 'Aeropuerto Destino',\n",
        "        'n_vuelos': 'Total Vuelos'\n",
        "    })\n",
        ")\n",
        "\n",
        "# [2] Tabla de destinos principales (solo destinos)\n",
        "total_por_destino_internacional = popularidad_destino_internacional.groupby('arr_airport_name')['n_vuelos'].sum().reset_index()\n",
        "\n",
        "top10_destino_internacional = (\n",
        "    total_por_destino_internacional\n",
        "    .sort_values(by='n_vuelos', ascending=False)\n",
        "    .head(10)\n",
        "    .reset_index(drop=True)\n",
        "    .assign(Posición=lambda x: x.index + 1)\n",
        "    .set_index('Posición')\n",
        "    .rename(columns={\n",
        "        'arr_airport_name': 'Aeropuerto Destino',\n",
        "        'n_vuelos': 'Total Vuelos'\n",
        "    })\n",
        ")\n",
        "\n",
        "# ---------------------------------------------------------------\n",
        "# 5. Resultados y validación (CON POSICIÓN 1-10)\n",
        "# ---------------------------------------------------------------\n",
        "print(\"TOP 10 RUTAS INTERNACIONALES MÁS FRECUENTES (ORIGEN-DESTINO)\")\n",
        "print(\"------------------------------------------------------------\")\n",
        "display(top10_rutas_internacionales.style.format({'Total Vuelos': '{:,}'}))\n",
        "\n",
        "print(\"\\nTOP 10 DESTINOS INTERNACIONALES MÁS FRECUENTES\")\n",
        "print(\"-----------------------------------------------\")\n",
        "display(top10_destino_internacional.style.format({'Total Vuelos': '{:,}'}))\n",
        "\n",
        "print(\"\\nMUESTRA DE DATOS DIARIOS (PRIMEROS 10 REGISTROS)\")\n",
        "print(\"--------------------------------------------------\")\n",
        "display(\n",
        "    popularidad_destino_internacional\n",
        "    .sort_values(by=\"n_vuelos\", ascending=False)\n",
        "    .head(10)\n",
        "    .reset_index(drop=True)\n",
        "    .assign(Posición=lambda x: x.index + 1)\n",
        "    .set_index('Posición')\n",
        "    .rename(columns={\n",
        "        'dep_airport_name': 'Origen',\n",
        "        'arr_airport_name': 'Destino',\n",
        "        'n_vuelos': 'Vuelos Diarios'\n",
        "    })\n",
        ")"
      ]
    },
    {
      "cell_type": "markdown",
      "id": "ATgzV1TNO3ys",
      "metadata": {
        "id": "ATgzV1TNO3ys"
      },
      "source": [
        "### 📊 Visualizaciones"
      ]
    },
    {
      "cell_type": "markdown",
      "id": "GGq7GdJHXwn_",
      "metadata": {
        "id": "GGq7GdJHXwn_"
      },
      "source": [
        "#### 📈 **Evolución temporal del tráfico aéreo por destino**"
      ]
    },
    {
      "cell_type": "markdown",
      "id": "LvCiZH5CQW5-",
      "metadata": {
        "id": "LvCiZH5CQW5-"
      },
      "source": [
        "##### **Top 10 destinos más frecuentes en abril de 2018**\n",
        "\n",
        "Destinos nacionales elegidos por los españoles en abril de 2018.\n",
        "Como solo hay datos completos de salida, lo mejor es enfocarte en `df_vuelos_salida_limpio`. Esto se debe a que todos los vuelos que tienen origen en aeropuertos españoles poseen fecha de salida (dep_date)."
      ]
    },
    {
      "cell_type": "code",
      "execution_count": 27,
      "id": "j_Ubaj9KQhP5",
      "metadata": {
        "colab": {
          "base_uri": "https://localhost:8080/",
          "height": 521
        },
        "id": "j_Ubaj9KQhP5",
        "outputId": "03898c28-f598-4384-9c01-c8afdea42b44"
      },
      "outputs": [
        {
          "data": {
            "image/png": "[encoded data removed]",
            "text/plain": [
              "<Figure size 1000x600 with 1 Axes>"
            ]
          },
          "metadata": {},
          "output_type": "display_data"
        }
      ],
      "source": [
        "# Agrupar por aeropuerto de destino y contar vuelos\n",
        "\n",
        "top_n = 10 # Indique en numero de aeropuertos que entraran en el rango\n",
        "\n",
        "# Usamos la misma tabla agrupada\n",
        "# Agrupar por aeropuerto de destino y contar vuelos\n",
        "top_destinos = df_vuelos_nacionales_limpio.groupby(['arr_airport_name']).size().reset_index(name='count').sort_values('count', ascending=False)\n",
        "\n",
        "# Filtrar los top N destinos\n",
        "# We need the list of top N airport names first\n",
        "top_airport_names = df_vuelos_nacionales_limpio['arr_airport_name'].value_counts().nlargest(top_n).index.tolist()\n",
        "\n",
        "# Then filter the grouped DataFrame based on this list\n",
        "df_top = top_destinos[top_destinos['arr_airport_name'].isin(top_airport_names)]\n",
        "\n",
        "\n",
        "plt.figure(figsize=(10, 6))\n",
        "\n",
        "# Crear gráfico de barras\n",
        "ax = sns.barplot(data=df_top, x='count', y='arr_airport_name', palette='Blues_d')\n",
        "\n",
        "\n",
        "# Graficar - Remove the second barplot call as it was causing the error\n",
        "plt.title(f\"Top {top_n} destinos más frecuentes en España por número de vuelos (Abril/2018)\")\n",
        "\n",
        "\n",
        "# Añadir valores al final de cada barra\n",
        "for p in ax.patches:\n",
        "    width = p.get_width()\n",
        "    ax.text(width + 5,  # Posición X: ancho de la barra + offset\n",
        "            p.get_y() + p.get_height()/2,  # Posición Y: centro de la barra\n",
        "            f'{int(width)}',  # Texto\n",
        "            ha='left',\n",
        "            va='center',\n",
        "            fontsize=12,\n",
        "            color='#2e2e2e')\n",
        "\n",
        "# Acceder a la figura completa\n",
        "fig = plt.gcf()\n",
        "\n",
        "# Ajustes de estilo del gráfico\n",
        "ax = plt.gca()\n",
        "ax.spines['top'].set_visible(False)\n",
        "ax.spines['right'].set_visible(False)\n",
        "ax.spines['bottom'].set_visible(False) # Ocultar eje X completamente\n",
        "ax.spines['left'].set_color('#808080')\n",
        "ax.tick_params(axis='y', labelsize=12, length=0)  # Labels más grandes en destino\n",
        "ax.tick_params(axis='x', labelsize=14)\n",
        "ax.xaxis.set_visible(False)  # Oculta línea del eje y labels\n",
        "\n",
        "# Eliminar etiquetas de ejes\n",
        "plt.xlabel('')\n",
        "plt.ylabel('')\n",
        "plt.show()\n"
      ]
    },
    {
      "cell_type": "markdown",
      "id": "CgyjuIp9Be_y",
      "metadata": {
        "id": "CgyjuIp9Be_y"
      },
      "source": [
        "##### Top 10 destinos internacionales más frecuentes en abril de 2018\n",
        "\n",
        "Destinos internacionales elegidos por los españoles en abril de 2018."
      ]
    },
    {
      "cell_type": "code",
      "execution_count": 28,
      "id": "sahi73PlFNKv",
      "metadata": {
        "colab": {
          "base_uri": "https://localhost:8080/",
          "height": 521
        },
        "id": "sahi73PlFNKv",
        "outputId": "910ed230-08a7-4474-9d2b-8214027cadec"
      },
      "outputs": [
        {
          "data": {
            "image/png": "[encoded data removed]",
            "text/plain": [
              "<Figure size 1000x600 with 1 Axes>"
            ]
          },
          "metadata": {},
          "output_type": "display_data"
        }
      ],
      "source": [
        "# Agrupar por aeropuerto de destino y contar vuelos\n",
        "\n",
        "top_n = 10 # Indique en numero de aeropuertos que entraran en el rango\n",
        "\n",
        "# Usamos la misma tabla agrupada\n",
        "# Agrupar por aeropuerto de destino y contar vuelos\n",
        "top_destinos = df_vuelos_salida_limpio.groupby(['arr_airport_name']).size().reset_index(name='count').sort_values('count', ascending=False)\n",
        "\n",
        "# Filtrar los top N destinos\n",
        "# We need the list of top N airport names first\n",
        "top_airport_names = df_vuelos_salida_limpio['arr_airport_name'].value_counts().nlargest(top_n).index.tolist()\n",
        "\n",
        "# Then filter the grouped DataFrame based on this list\n",
        "df_top = top_destinos[top_destinos['arr_airport_name'].isin(top_airport_names)]\n",
        "\n",
        "\n",
        "plt.figure(figsize=(10, 6))\n",
        "\n",
        "# Crear gráfico de barras\n",
        "ax = sns.barplot(data=df_top, x='count', y='arr_airport_name', palette='Blues_d')\n",
        "\n",
        "\n",
        "# Graficar - Remove the second barplot call as it was causing the error\n",
        "plt.title(f\"Top {top_n} destinos internacionales desde España por número de vuelos (Abril/2018)\")\n",
        "\n",
        "\n",
        "# Añadir valores al final de cada barra\n",
        "for p in ax.patches:\n",
        "    width = p.get_width()\n",
        "    ax.text(width + 5,  # Posición X: ancho de la barra + offset\n",
        "            p.get_y() + p.get_height()/2,  # Posición Y: centro de la barra\n",
        "            f'{int(width)}',  # Texto\n",
        "            ha='left',\n",
        "            va='center',\n",
        "            fontsize=12,\n",
        "            color='#2e2e2e')\n",
        "\n",
        "# Acceder a la figura completa\n",
        "fig = plt.gcf()\n",
        "\n",
        "# Ajustes de estilo del gráfico\n",
        "ax = plt.gca()\n",
        "ax.spines['top'].set_visible(False)\n",
        "ax.spines['right'].set_visible(False)\n",
        "ax.spines['bottom'].set_visible(False) # Ocultar eje X completamente\n",
        "ax.spines['left'].set_color('#808080')\n",
        "ax.tick_params(axis='y', labelsize=12, length=0)  # Labels más grandes en destino\n",
        "ax.tick_params(axis='x', labelsize=14)\n",
        "ax.xaxis.set_visible(False)  # Oculta línea del eje y labels\n",
        "\n",
        "# Eliminar etiquetas de ejes\n",
        "plt.xlabel('')\n",
        "plt.ylabel('')\n",
        "plt.show()"
      ]
    },
    {
      "cell_type": "markdown",
      "id": "4tOX5Nz7R1qI",
      "metadata": {
        "id": "4tOX5Nz7R1qI"
      },
      "source": [
        "##### Tendencia por hora del día (vuelos que llegan)\n",
        "- Responde: ¿A qué horas llegan más vuelos?\n",
        "- Se extrae la hora desde arr_date_time y se cuenta el número total por hora."
      ]
    },
    {
      "cell_type": "code",
      "execution_count": 29,
      "id": "fPdiJJgqR17Y",
      "metadata": {
        "colab": {
          "base_uri": "https://localhost:8080/",
          "height": 579
        },
        "id": "fPdiJJgqR17Y",
        "outputId": "a8245779-56ad-45a3-a9c0-ca1c14834de0"
      },
      "outputs": [
        {
          "data": {
            "image/png": "[encoded data removed]",
            "text/plain": [
              "<Figure size 1400x600 with 1 Axes>"
            ]
          },
          "metadata": {},
          "output_type": "display_data"
        }
      ],
      "source": [
        "# Tendencia por hora del día (llegada) en Abril/2018: Vuelos nacionales + vuelos internacionales\n",
        "df_hora = pd.concat([df_vuelos_nacionales_limpio, df_vuelos_llegada_limpio])\n",
        "df_hora['hora_llegada'] = df_hora['arr_date_time'].dt.hour\n",
        "\n",
        "df_hora_count = df_hora.groupby('hora_llegada').size().reset_index(name='n_vuelos')\n",
        "\n",
        "plt.figure(figsize=(14, 6))\n",
        "sns.lineplot(data=df_hora_count, x='hora_llegada', y='n_vuelos', marker='o')\n",
        "plt.title('Tendencia de vuelos por hora del día (llegada en Abril/2018)')\n",
        "plt.xlabel('Hora del día')\n",
        "plt.ylabel('Número de vuelos')\n",
        "plt.grid(True)\n",
        "plt.tight_layout()\n",
        "plt.show()"
      ]
    },
    {
      "cell_type": "markdown",
      "id": "0zXOn1kmUigH",
      "metadata": {
        "id": "0zXOn1kmUigH"
      },
      "source": [
        "##### **Tendencia por día de la semana (vuelos que llegan)**\n",
        "- Responde: ¿Qué días de la semana hay más vuelos llegando?\n",
        "- Se usa arr_date_time para obtener el nombre del día de la semana."
      ]
    },
    {
      "cell_type": "code",
      "execution_count": 30,
      "id": "Y14jgKIXUony",
      "metadata": {
        "colab": {
          "base_uri": "https://localhost:8080/",
          "height": 700
        },
        "id": "Y14jgKIXUony",
        "outputId": "90ab1a00-18c1-4c5e-f663-681aaec60849"
      },
      "outputs": [
        {
          "data": {
            "image/png": "[encoded data removed]",
            "text/plain": [
              "<Figure size 1200x700 with 1 Axes>"
            ]
          },
          "metadata": {},
          "output_type": "display_data"
        }
      ],
      "source": [
        "# Tendencia por día de la semana (llegada) - Versión mejorada\n",
        "plt.figure(figsize=(12, 7))\n",
        "\n",
        "# Diccionario de traducción y orden\n",
        "dias_espanol = {\n",
        "    'Monday': 'Lunes',\n",
        "    'Tuesday': 'Martes',\n",
        "    'Wednesday': 'Miércoles',\n",
        "    'Thursday': 'Jueves',\n",
        "    'Friday': 'Viernes',\n",
        "    'Saturday': 'Sábado',\n",
        "    'Sunday': 'Domingo'\n",
        "}\n",
        "\n",
        "orden_dias_es = ['Lunes', 'Martes', 'Miércoles', 'Jueves', 'Viernes', 'Sábado', 'Domingo']\n",
        "\n",
        "# Procesamiento de datos (Vuelos Nacionales y Vuelos Internacionales (solo llegadas))\n",
        "df_semana = pd.concat([df_vuelos_nacionales_limpio, df_vuelos_llegada_limpio])\n",
        "df_semana['dia_semana'] = df_semana['arr_date_time'].dt.day_name().map(dias_espanol)\n",
        "conteo_dias = df_semana['dia_semana'].value_counts().reindex(orden_dias_es).reset_index()\n",
        "conteo_dias.columns = ['dia_semana', 'n_vuelos']\n",
        "\n",
        "# Creación del gráfico\n",
        "ax = sns.barplot(\n",
        "    data=conteo_dias,\n",
        "    x='dia_semana',\n",
        "    y='n_vuelos',\n",
        "    palette='viridis',\n",
        "    edgecolor='black',\n",
        "    linewidth=1\n",
        ")\n",
        "\n",
        "# Personalización avanzada\n",
        "plt.title('Distribución de Vuelos por Día de la Semana (Llegadas)',\n",
        "         fontsize=16,\n",
        "         fontweight='bold',\n",
        "         pad=20)\n",
        "\n",
        "plt.xlabel('Día de la semana', fontsize=12, labelpad=15)\n",
        "plt.ylabel('Número de Vuelos', fontsize=12, labelpad=15)\n",
        "\n",
        "# Añadir valores en las barras\n",
        "for p in ax.patches:\n",
        "    ax.annotate(f\"{int(p.get_height()):,}\",\n",
        "                (p.get_x() + p.get_width() / 2., p.get_height()),\n",
        "                ha='center', va='center',\n",
        "                xytext=(0, 9),\n",
        "                textcoords='offset points',\n",
        "                fontsize=10,\n",
        "                color='black')\n",
        "\n",
        "# Mejorar grid y ejes\n",
        "ax.yaxis.grid(True, linestyle='--', alpha=0.6)\n",
        "ax.spines['top'].set_visible(False)\n",
        "ax.spines['right'].set_visible(False)\n",
        "ax.spines['left'].set_alpha(0.4)\n",
        "\n",
        "# Rotación de etiquetas y formato final\n",
        "# plt.xticks(fontsize=11, rotation=30, ha='right')\n",
        "plt.xticks(fontsize=11, ha='right')\n",
        "plt.tight_layout()\n",
        "\n",
        "# Añadir marca de agua institucional\n",
        "plt.text(0.95, 0.05, 'Fuente: Datos de vuelos España',\n",
        "        transform=ax.transAxes,\n",
        "        ha='right', va='bottom',\n",
        "        color='gray', alpha=0.5,\n",
        "        fontsize=8)\n",
        "\n",
        "plt.show()"
      ]
    },
    {
      "cell_type": "markdown",
      "id": "PIzb_SvAVulv",
      "metadata": {
        "id": "PIzb_SvAVulv"
      },
      "source": [
        "##### **Gráfico de Línea: Tendencia por día de la semana (vuelos que llegan)**"
      ]
    },
    {
      "cell_type": "code",
      "execution_count": 31,
      "id": "L-UJCHqfVq1y",
      "metadata": {
        "id": "L-UJCHqfVq1y"
      },
      "outputs": [],
      "source": [
        "# Versión corregida del procesamiento de datos\n",
        "# ---------------------------------------------------------------\n",
        "dias_espanol = ['Lunes', 'Martes', 'Miércoles', 'Jueves', 'Viernes', 'Sábado', 'Domingo']\n",
        "\n",
        "# Procesamiento de datos (Vuelos Nacionales y Vuelos Internacionales (solo llegadas))\n",
        "# Crear DataFrame con TODOS los días, incluso con 0 vuelos\n",
        "df_semana = pd.concat([df_vuelos_nacionales_limpio, df_vuelos_llegada_limpio])\n",
        "df_semana['dia_semana'] = (\n",
        "    df_semana['arr_date_time']\n",
        "    .dt.day_name()\n",
        "    .map({\n",
        "        'Monday': 'Lunes',\n",
        "        'Tuesday': 'Martes',\n",
        "        'Wednesday': 'Miércoles',\n",
        "        'Thursday': 'Jueves',\n",
        "        'Friday': 'Viernes',\n",
        "        'Saturday': 'Sábado',\n",
        "        'Sunday': 'Domingo'\n",
        "    })\n",
        ")\n",
        "\n",
        "# Forzar la inclusión de todos los días usando Categorical\n",
        "df_semana['dia_semana'] = pd.Categorical(\n",
        "    df_semana['dia_semana'],\n",
        "    categories=dias_espanol,\n",
        "    ordered=True\n",
        ")\n",
        "\n",
        "conteo_dias = (\n",
        "    df_semana.groupby('dia_semana', observed=False)\n",
        "    .size()\n",
        "    .reindex(dias_espanol, fill_value=0)\n",
        "    .reset_index()\n",
        ")\n",
        "conteo_dias.columns = ['dia_semana', 'n_vuelos']\n",
        "\n"
      ]
    },
    {
      "cell_type": "code",
      "execution_count": 32,
      "id": "zsLwH6r2WctQ",
      "metadata": {
        "colab": {
          "base_uri": "https://localhost:8080/",
          "height": 773
        },
        "id": "zsLwH6r2WctQ",
        "outputId": "a0c6e1fa-ac63-4ffd-a705-8802c231752e"
      },
      "outputs": [
        {
          "data": {
            "image/png": "[encoded data removed]",
            "text/plain": [
              "<Figure size 1400x800 with 1 Axes>"
            ]
          },
          "metadata": {},
          "output_type": "display_data"
        }
      ],
      "source": [
        "# Gráfica de Línea\n",
        "\n",
        "# 1. Configurar figura primero\n",
        "plt.figure(figsize=(14, 8))\n",
        "\n",
        "\n",
        "# 2. Crear gráfico base\n",
        "ax = sns.lineplot(\n",
        "    data=conteo_dias,\n",
        "    x='dia_semana',\n",
        "    y='n_vuelos',\n",
        "    marker='o',\n",
        "    markersize=12,\n",
        "    linewidth=3,\n",
        "    color='#1f77b4', # color='#2e2e2e'\n",
        "    label='Vuelos reales'\n",
        ")\n",
        "\n",
        "# Convertir días de la semana a valores numéricos para la regresión\n",
        "dias_numericos = range(len(conteo_dias))\n",
        "n_vuelos = conteo_dias['n_vuelos'].values\n",
        "\n",
        "# Calcular regresión lineal\n",
        "slope, intercept, r_value, p_value, std_err = linregress(dias_numericos, n_vuelos)\n",
        "linea_tendencia = intercept + slope * np.array(dias_numericos)\n",
        "\n",
        "\n",
        "# 3. Calcular y añadir tendencia\n",
        "x = range(len(conteo_dias))\n",
        "\n",
        "\n",
        "# Línea de tendencia mejorada\n",
        "ax.plot(dias_numericos,\n",
        "        linea_tendencia,\n",
        "        'r--',\n",
        "        linewidth=2.5,\n",
        "        label=f'Tendencia: {\"▲\" if slope > 0 else \"▼\"} {abs(slope):.1f} vuelos/día\\n(R² = {r_value**2:.2f})')\n",
        "\n",
        "# 4. Personalizar título y ejes\n",
        "plt.title(\n",
        "    \"Distribución Semanal de Vuelos de Llegada\\nAnálisis de Tendencia Diaria\",\n",
        "    fontsize=16,\n",
        "    pad=60,\n",
        "    fontweight='bold',\n",
        "    fontfamily='DejaVu Sans',\n",
        "    color='#1a1a1a'\n",
        ")\n",
        "\n",
        "\n",
        "# 5. Ajustes finales\n",
        "# plt.xticks(ticks=x, labels=conteo_dias['dia_semana'], rotation=30, ha='right')\n",
        "plt.xticks(ticks=x, labels=conteo_dias['dia_semana'], ha='right')\n",
        "# plt.ylabel('Número de Vuelos', fontsize=12)\n",
        "# plt.xlabel('Día de la Semana', fontsize=12)\n",
        "# Solo líneas horizontales en el grid\n",
        "#plt.grid(axis='y', linestyle='--', alpha=0.3)\n",
        "# Cuadrícula sutil para contexto\n",
        "ax.grid(axis='both', linestyle=':', alpha=0.3)\n",
        "\n",
        "# Solo líneas verticales en el grid\n",
        "# plt.grid(axis='x', linestyle='--', alpha=0.5)\n",
        "#plt.legend(title='Leyenda:', frameon=False, bbox_to_anchor=(1, 0.8))\n",
        "\n",
        "plt.legend(title='Indicadores:',\n",
        "          frameon=True,\n",
        "          facecolor='white',\n",
        "          loc='upper left',          # Punto de anclaje de la leyenda\n",
        "          bbox_to_anchor=(1.02, 1),  # Posición relativa (derecha del gráfico)\n",
        "          borderaxespad=0.5,         # Espacio entre leyenda y eje\n",
        "          shadow=True                # Sombra para mejor legibilidad\n",
        "        )\n",
        "\n",
        "# Eliminar TODAS las etiquetas y marcas de los ejes\n",
        "#ax.set_xticks([])\n",
        "ax.set_yticks([])\n",
        "\n",
        "# Quitar etiqueta del eje X\n",
        "plt.xlabel('')\n",
        "# Quitar etiqueta por defecto del eje Y\n",
        "plt.ylabel('')\n",
        "\n",
        "\n",
        "\n",
        "# 4. Añadir valores en los puntos (versión corregida)\n",
        "for index, row in conteo_dias.iterrows():\n",
        "    ax.text(\n",
        "        index,  # Usar el índice categórico real\n",
        "        row['n_vuelos'] + 98,  # Offset vertical de 5 unidades\n",
        "        f\"{row['n_vuelos']:,}\",  # Formato con separadores de miles\n",
        "        ha='center',\n",
        "        va='bottom',\n",
        "        fontsize=10,\n",
        "        color='#2e2e2e',\n",
        "        fontweight='bold'\n",
        "    )\n",
        "\n",
        "\n",
        "\n",
        "# Marco del gráfico\n",
        "sns.despine(left=True, bottom=True)\n",
        "# sns.despine()\n",
        "plt.tight_layout()\n",
        "plt.show()"
      ]
    },
    {
      "cell_type": "markdown",
      "id": "8YKX1ujDK3BG",
      "metadata": {
        "id": "8YKX1ujDK3BG"
      },
      "source": [
        "##### **Evolución diaria de vuelos por aeropuerto de llegada (Matriz de calor)**"
      ]
    },
    {
      "cell_type": "code",
      "execution_count": 33,
      "id": "PNxp6fgXZKxh",
      "metadata": {
        "colab": {
          "base_uri": "https://localhost:8080/",
          "height": 494
        },
        "id": "PNxp6fgXZKxh",
        "outputId": "66d6be54-ef0d-4e2f-b2c9-72b2015576fd"
      },
      "outputs": [
        {
          "data": {
            "image/png": "[encoded data removed]",
            "text/plain": [
              "<Figure size 1800x600 with 2 Axes>"
            ]
          },
          "metadata": {},
          "output_type": "display_data"
        }
      ],
      "source": [
        "# Se visualiza todos los destinos a la vez, viendo patrones y picos visuales. Permite detectar anomalías o patrones de forma clara\n",
        "\n",
        "# Creamos una tabla tipo pivot con fechas como columnas y aeropuertos como filas\n",
        "destinos_nacionales_internacionales = pd.concat([popularidad_destino, popularidad_destino_internacional])\n",
        "heatmap_data = popularidad_destino.pivot_table(\n",
        "    index='arr_airport_name',\n",
        "    columns='arr_date',\n",
        "    values='n_vuelos',\n",
        "    fill_value=0\n",
        ")\n",
        "\n",
        "plt.figure(figsize=(18, 6))\n",
        "sns.heatmap(heatmap_data, cmap=\"YlGnBu\", linewidths=0.5, linecolor='gray')\n",
        "\n",
        "plt.title(\"Matriz de calor: evolución diaria de vuelos por aeropuerto de llegada\", fontsize=20, fontweight='bold')\n",
        "plt.xlabel(\"\")\n",
        "plt.ylabel(\"\")\n",
        "#plt.xticks(rotation=45, ha='right', fontsize=10)\n",
        "plt.yticks(fontsize=12)\n",
        "plt.tight_layout()\n",
        "plt.show()"
      ]
    },
    {
      "cell_type": "markdown",
      "id": "IKgfWN2VRRGZ",
      "metadata": {
        "id": "IKgfWN2VRRGZ"
      },
      "source": [
        "##### Mapa Sankey básico: Origen (España) → Destino (internacional)"
      ]
    },
    {
      "cell_type": "markdown",
      "id": "HqGmy2PkVZNP",
      "metadata": {
        "id": "HqGmy2PkVZNP"
      },
      "source": [
        "📝 Notas:\n",
        "- Este gráfico muestra cuántos vuelos realiza cada compañía aérea (company) hacia cada aeropuerto de destino (arr_airport_name).\n",
        "\n",
        "✈️ Sankey: Aeropuerto de salida → Aeropuerto de llegada"
      ]
    },
    {
      "cell_type": "code",
      "execution_count": 34,
      "id": "1s-h7wfdX5kD",
      "metadata": {
        "colab": {
          "base_uri": "https://localhost:8080/",
          "height": 542
        },
        "id": "1s-h7wfdX5kD",
        "outputId": "14dd8184-26b5-4169-a049-f3054fd565b3"
      },
      "outputs": [
        {
          "data": {
            "application/vnd.plotly.v1+json": {
              "config": {
                "plotlyServerURL": "https://plot.ly"
              },
              "data": [
                {
                  "link": {
                    "label": [
                      "España → AMSTERDAM /SCHIPHOL: 134 vuelos",
                      "España → BRUSELAS: 93 vuelos",
                      "España → COPENHAGUE: 69 vuelos",
                      "España → DUBLIN: 94 vuelos",
                      "España → DUSSELDORF: 95 vuelos",
                      "España → EAST MIDLANDS: 68 vuelos",
                      "España → FRANKFURT: 129 vuelos",
                      "España → LISBOA: 102 vuelos",
                      "España → LONDRES /GATWICK: 182 vuelos",
                      "España → LONDRES /STANSTED: 150 vuelos",
                      "España → MANCHESTER: 116 vuelos",
                      "España → MUNICH: 92 vuelos",
                      "España → PARIS /CHARLES DE GAULLE: 109 vuelos",
                      "España → PARIS /ORLY: 87 vuelos",
                      "España → ZURICH: 78 vuelos"
                    ],
                    "source": {
                      "bdata": "AAAAAAAAAAAAAAAAAAAA",
                      "dtype": "i1"
                    },
                    "target": {
                      "bdata": "AQIDBAUGBwgJCgsMDQ4P",
                      "dtype": "i1"
                    },
                    "value": {
                      "bdata": "hgBdAEUAXgBfAEQAgQBmALYAlgB0AFwAbQBXAE4A",
                      "dtype": "i2"
                    }
                  },
                  "node": {
                    "label": [
                      "España",
                      "AMSTERDAM /SCHIPHOL",
                      "BRUSELAS",
                      "COPENHAGUE",
                      "DUBLIN",
                      "DUSSELDORF",
                      "EAST MIDLANDS",
                      "FRANKFURT",
                      "LISBOA",
                      "LONDRES /GATWICK",
                      "LONDRES /STANSTED",
                      "MANCHESTER",
                      "MUNICH",
                      "PARIS /CHARLES DE GAULLE",
                      "PARIS /ORLY",
                      "ZURICH"
                    ],
                    "line": {
                      "color": "black",
                      "width": 0.5
                    },
                    "pad": 15,
                    "thickness": 20
                  },
                  "type": "sankey"
                }
              ],
              "layout": {
                "font": {
                  "size": 12
                },
                "template": {
                  "data": {
                    "bar": [
                      {
                        "error_x": {
                          "color": "#2a3f5f"
                        },
                        "error_y": {
                          "color": "#2a3f5f"
                        },
                        "marker": {
                          "line": {
                            "color": "#E5ECF6",
                            "width": 0.5
                          },
                          "pattern": {
                            "fillmode": "overlay",
                            "size": 10,
                            "solidity": 0.2
                          }
                        },
                        "type": "bar"
                      }
                    ],
                    "barpolar": [
                      {
                        "marker": {
                          "line": {
                            "color": "#E5ECF6",
                            "width": 0.5
                          },
                          "pattern": {
                            "fillmode": "overlay",
                            "size": 10,
                            "solidity": 0.2
                          }
                        },
                        "type": "barpolar"
                      }
                    ],
                    "carpet": [
                      {
                        "aaxis": {
                          "endlinecolor": "#2a3f5f",
                          "gridcolor": "white",
                          "linecolor": "white",
                          "minorgridcolor": "white",
                          "startlinecolor": "#2a3f5f"
                        },
                        "baxis": {
                          "endlinecolor": "#2a3f5f",
                          "gridcolor": "white",
                          "linecolor": "white",
                          "minorgridcolor": "white",
                          "startlinecolor": "#2a3f5f"
                        },
                        "type": "carpet"
                      }
                    ],
                    "choropleth": [
                      {
                        "colorbar": {
                          "outlinewidth": 0,
                          "ticks": ""
                        },
                        "type": "choropleth"
                      }
                    ],
                    "contour": [
                      {
                        "colorbar": {
                          "outlinewidth": 0,
                          "ticks": ""
                        },
                        "colorscale": [
                          [
                            0,
                            "#0d0887"
                          ],
                          [
                            0.1111111111111111,
                            "#46039f"
                          ],
                          [
                            0.2222222222222222,
                            "#7201a8"
                          ],
                          [
                            0.3333333333333333,
                            "#9c179e"
                          ],
                          [
                            0.4444444444444444,
                            "#bd3786"
                          ],
                          [
                            0.5555555555555556,
                            "#d8576b"
                          ],
                          [
                            0.6666666666666666,
                            "#ed7953"
                          ],
                          [
                            0.7777777777777778,
                            "#fb9f3a"
                          ],
                          [
                            0.8888888888888888,
                            "#fdca26"
                          ],
                          [
                            1,
                            "#f0f921"
                          ]
                        ],
                        "type": "contour"
                      }
                    ],
                    "contourcarpet": [
                      {
                        "colorbar": {
                          "outlinewidth": 0,
                          "ticks": ""
                        },
                        "type": "contourcarpet"
                      }
                    ],
                    "heatmap": [
                      {
                        "colorbar": {
                          "outlinewidth": 0,
                          "ticks": ""
                        },
                        "colorscale": [
                          [
                            0,
                            "#0d0887"
                          ],
                          [
                            0.1111111111111111,
                            "#46039f"
                          ],
                          [
                            0.2222222222222222,
                            "#7201a8"
                          ],
                          [
                            0.3333333333333333,
                            "#9c179e"
                          ],
                          [
                            0.4444444444444444,
                            "#bd3786"
                          ],
                          [
                            0.5555555555555556,
                            "#d8576b"
                          ],
                          [
                            0.6666666666666666,
                            "#ed7953"
                          ],
                          [
                            0.7777777777777778,
                            "#fb9f3a"
                          ],
                          [
                            0.8888888888888888,
                            "#fdca26"
                          ],
                          [
                            1,
                            "#f0f921"
                          ]
                        ],
                        "type": "heatmap"
                      }
                    ],
                    "histogram": [
                      {
                        "marker": {
                          "pattern": {
                            "fillmode": "overlay",
                            "size": 10,
                            "solidity": 0.2
                          }
                        },
                        "type": "histogram"
                      }
                    ],
                    "histogram2d": [
                      {
                        "colorbar": {
                          "outlinewidth": 0,
                          "ticks": ""
                        },
                        "colorscale": [
                          [
                            0,
                            "#0d0887"
                          ],
                          [
                            0.1111111111111111,
                            "#46039f"
                          ],
                          [
                            0.2222222222222222,
                            "#7201a8"
                          ],
                          [
                            0.3333333333333333,
                            "#9c179e"
                          ],
                          [
                            0.4444444444444444,
                            "#bd3786"
                          ],
                          [
                            0.5555555555555556,
                            "#d8576b"
                          ],
                          [
                            0.6666666666666666,
                            "#ed7953"
                          ],
                          [
                            0.7777777777777778,
                            "#fb9f3a"
                          ],
                          [
                            0.8888888888888888,
                            "#fdca26"
                          ],
                          [
                            1,
                            "#f0f921"
                          ]
                        ],
                        "type": "histogram2d"
                      }
                    ],
                    "histogram2dcontour": [
                      {
                        "colorbar": {
                          "outlinewidth": 0,
                          "ticks": ""
                        },
                        "colorscale": [
                          [
                            0,
                            "#0d0887"
                          ],
                          [
                            0.1111111111111111,
                            "#46039f"
                          ],
                          [
                            0.2222222222222222,
                            "#7201a8"
                          ],
                          [
                            0.3333333333333333,
                            "#9c179e"
                          ],
                          [
                            0.4444444444444444,
                            "#bd3786"
                          ],
                          [
                            0.5555555555555556,
                            "#d8576b"
                          ],
                          [
                            0.6666666666666666,
                            "#ed7953"
                          ],
                          [
                            0.7777777777777778,
                            "#fb9f3a"
                          ],
                          [
                            0.8888888888888888,
                            "#fdca26"
                          ],
                          [
                            1,
                            "#f0f921"
                          ]
                        ],
                        "type": "histogram2dcontour"
                      }
                    ],
                    "mesh3d": [
                      {
                        "colorbar": {
                          "outlinewidth": 0,
                          "ticks": ""
                        },
                        "type": "mesh3d"
                      }
                    ],
                    "parcoords": [
                      {
                        "line": {
                          "colorbar": {
                            "outlinewidth": 0,
                            "ticks": ""
                          }
                        },
                        "type": "parcoords"
                      }
                    ],
                    "pie": [
                      {
                        "automargin": true,
                        "type": "pie"
                      }
                    ],
                    "scatter": [
                      {
                        "fillpattern": {
                          "fillmode": "overlay",
                          "size": 10,
                          "solidity": 0.2
                        },
                        "type": "scatter"
                      }
                    ],
                    "scatter3d": [
                      {
                        "line": {
                          "colorbar": {
                            "outlinewidth": 0,
                            "ticks": ""
                          }
                        },
                        "marker": {
                          "colorbar": {
                            "outlinewidth": 0,
                            "ticks": ""
                          }
                        },
                        "type": "scatter3d"
                      }
                    ],
                    "scattercarpet": [
                      {
                        "marker": {
                          "colorbar": {
                            "outlinewidth": 0,
                            "ticks": ""
                          }
                        },
                        "type": "scattercarpet"
                      }
                    ],
                    "scattergeo": [
                      {
                        "marker": {
                          "colorbar": {
                            "outlinewidth": 0,
                            "ticks": ""
                          }
                        },
                        "type": "scattergeo"
                      }
                    ],
                    "scattergl": [
                      {
                        "marker": {
                          "colorbar": {
                            "outlinewidth": 0,
                            "ticks": ""
                          }
                        },
                        "type": "scattergl"
                      }
                    ],
                    "scattermap": [
                      {
                        "marker": {
                          "colorbar": {
                            "outlinewidth": 0,
                            "ticks": ""
                          }
                        },
                        "type": "scattermap"
                      }
                    ],
                    "scattermapbox": [
                      {
                        "marker": {
                          "colorbar": {
                            "outlinewidth": 0,
                            "ticks": ""
                          }
                        },
                        "type": "scattermapbox"
                      }
                    ],
                    "scatterpolar": [
                      {
                        "marker": {
                          "colorbar": {
                            "outlinewidth": 0,
                            "ticks": ""
                          }
                        },
                        "type": "scatterpolar"
                      }
                    ],
                    "scatterpolargl": [
                      {
                        "marker": {
                          "colorbar": {
                            "outlinewidth": 0,
                            "ticks": ""
                          }
                        },
                        "type": "scatterpolargl"
                      }
                    ],
                    "scatterternary": [
                      {
                        "marker": {
                          "colorbar": {
                            "outlinewidth": 0,
                            "ticks": ""
                          }
                        },
                        "type": "scatterternary"
                      }
                    ],
                    "surface": [
                      {
                        "colorbar": {
                          "outlinewidth": 0,
                          "ticks": ""
                        },
                        "colorscale": [
                          [
                            0,
                            "#0d0887"
                          ],
                          [
                            0.1111111111111111,
                            "#46039f"
                          ],
                          [
                            0.2222222222222222,
                            "#7201a8"
                          ],
                          [
                            0.3333333333333333,
                            "#9c179e"
                          ],
                          [
                            0.4444444444444444,
                            "#bd3786"
                          ],
                          [
                            0.5555555555555556,
                            "#d8576b"
                          ],
                          [
                            0.6666666666666666,
                            "#ed7953"
                          ],
                          [
                            0.7777777777777778,
                            "#fb9f3a"
                          ],
                          [
                            0.8888888888888888,
                            "#fdca26"
                          ],
                          [
                            1,
                            "#f0f921"
                          ]
                        ],
                        "type": "surface"
                      }
                    ],
                    "table": [
                      {
                        "cells": {
                          "fill": {
                            "color": "#EBF0F8"
                          },
                          "line": {
                            "color": "white"
                          }
                        },
                        "header": {
                          "fill": {
                            "color": "#C8D4E3"
                          },
                          "line": {
                            "color": "white"
                          }
                        },
                        "type": "table"
                      }
                    ]
                  },
                  "layout": {
                    "annotationdefaults": {
                      "arrowcolor": "#2a3f5f",
                      "arrowhead": 0,
                      "arrowwidth": 1
                    },
                    "autotypenumbers": "strict",
                    "coloraxis": {
                      "colorbar": {
                        "outlinewidth": 0,
                        "ticks": ""
                      }
                    },
                    "colorscale": {
                      "diverging": [
                        [
                          0,
                          "#8e0152"
                        ],
                        [
                          0.1,
                          "#c51b7d"
                        ],
                        [
                          0.2,
                          "#de77ae"
                        ],
                        [
                          0.3,
                          "#f1b6da"
                        ],
                        [
                          0.4,
                          "#fde0ef"
                        ],
                        [
                          0.5,
                          "#f7f7f7"
                        ],
                        [
                          0.6,
                          "#e6f5d0"
                        ],
                        [
                          0.7,
                          "#b8e186"
                        ],
                        [
                          0.8,
                          "#7fbc41"
                        ],
                        [
                          0.9,
                          "#4d9221"
                        ],
                        [
                          1,
                          "#276419"
                        ]
                      ],
                      "sequential": [
                        [
                          0,
                          "#0d0887"
                        ],
                        [
                          0.1111111111111111,
                          "#46039f"
                        ],
                        [
                          0.2222222222222222,
                          "#7201a8"
                        ],
                        [
                          0.3333333333333333,
                          "#9c179e"
                        ],
                        [
                          0.4444444444444444,
                          "#bd3786"
                        ],
                        [
                          0.5555555555555556,
                          "#d8576b"
                        ],
                        [
                          0.6666666666666666,
                          "#ed7953"
                        ],
                        [
                          0.7777777777777778,
                          "#fb9f3a"
                        ],
                        [
                          0.8888888888888888,
                          "#fdca26"
                        ],
                        [
                          1,
                          "#f0f921"
                        ]
                      ],
                      "sequentialminus": [
                        [
                          0,
                          "#0d0887"
                        ],
                        [
                          0.1111111111111111,
                          "#46039f"
                        ],
                        [
                          0.2222222222222222,
                          "#7201a8"
                        ],
                        [
                          0.3333333333333333,
                          "#9c179e"
                        ],
                        [
                          0.4444444444444444,
                          "#bd3786"
                        ],
                        [
                          0.5555555555555556,
                          "#d8576b"
                        ],
                        [
                          0.6666666666666666,
                          "#ed7953"
                        ],
                        [
                          0.7777777777777778,
                          "#fb9f3a"
                        ],
                        [
                          0.8888888888888888,
                          "#fdca26"
                        ],
                        [
                          1,
                          "#f0f921"
                        ]
                      ]
                    },
                    "colorway": [
                      "#636efa",
                      "#EF553B",
                      "#00cc96",
                      "#ab63fa",
                      "#FFA15A",
                      "#19d3f3",
                      "#FF6692",
                      "#B6E880",
                      "#FF97FF",
                      "#FECB52"
                    ],
                    "font": {
                      "color": "#2a3f5f"
                    },
                    "geo": {
                      "bgcolor": "white",
                      "lakecolor": "white",
                      "landcolor": "#E5ECF6",
                      "showlakes": true,
                      "showland": true,
                      "subunitcolor": "white"
                    },
                    "hoverlabel": {
                      "align": "left"
                    },
                    "hovermode": "closest",
                    "mapbox": {
                      "style": "light"
                    },
                    "paper_bgcolor": "white",
                    "plot_bgcolor": "#E5ECF6",
                    "polar": {
                      "angularaxis": {
                        "gridcolor": "white",
                        "linecolor": "white",
                        "ticks": ""
                      },
                      "bgcolor": "#E5ECF6",
                      "radialaxis": {
                        "gridcolor": "white",
                        "linecolor": "white",
                        "ticks": ""
                      }
                    },
                    "scene": {
                      "xaxis": {
                        "backgroundcolor": "#E5ECF6",
                        "gridcolor": "white",
                        "gridwidth": 2,
                        "linecolor": "white",
                        "showbackground": true,
                        "ticks": "",
                        "zerolinecolor": "white"
                      },
                      "yaxis": {
                        "backgroundcolor": "#E5ECF6",
                        "gridcolor": "white",
                        "gridwidth": 2,
                        "linecolor": "white",
                        "showbackground": true,
                        "ticks": "",
                        "zerolinecolor": "white"
                      },
                      "zaxis": {
                        "backgroundcolor": "#E5ECF6",
                        "gridcolor": "white",
                        "gridwidth": 2,
                        "linecolor": "white",
                        "showbackground": true,
                        "ticks": "",
                        "zerolinecolor": "white"
                      }
                    },
                    "shapedefaults": {
                      "line": {
                        "color": "#2a3f5f"
                      }
                    },
                    "ternary": {
                      "aaxis": {
                        "gridcolor": "white",
                        "linecolor": "white",
                        "ticks": ""
                      },
                      "baxis": {
                        "gridcolor": "white",
                        "linecolor": "white",
                        "ticks": ""
                      },
                      "bgcolor": "#E5ECF6",
                      "caxis": {
                        "gridcolor": "white",
                        "linecolor": "white",
                        "ticks": ""
                      }
                    },
                    "title": {
                      "x": 0.05
                    },
                    "xaxis": {
                      "automargin": true,
                      "gridcolor": "white",
                      "linecolor": "white",
                      "ticks": "",
                      "title": {
                        "standoff": 15
                      },
                      "zerolinecolor": "white",
                      "zerolinewidth": 2
                    },
                    "yaxis": {
                      "automargin": true,
                      "gridcolor": "white",
                      "linecolor": "white",
                      "ticks": "",
                      "title": {
                        "standoff": 15
                      },
                      "zerolinecolor": "white",
                      "zerolinewidth": 2
                    }
                  }
                },
                "title": {
                  "text": "Flujo de vuelos desde España a los 15 aeropuertos internacionales con más vuelos"
                }
              }
            }
          },
          "metadata": {},
          "output_type": "display_data"
        }
      ],
      "source": [
        "# Top destinos\n",
        "top_n = 15\n",
        "df_exterior = df_vuelos_salida_limpio[~df_vuelos_salida_limpio['arr_airport_name'].isin(\n",
        "    df_vuelos_salida_limpio['dep_airport_name'].unique())]\n",
        "\n",
        "df_top = df_exterior[df_exterior['arr_airport_name'].isin(\n",
        "    df_exterior['arr_airport_name'].value_counts().nlargest(top_n).index)]\n",
        "\n",
        "# Agrupamos\n",
        "df_top['origen'] = 'España'\n",
        "df_grouped = df_top.groupby(['origen', 'arr_airport_name']).size().reset_index(name='count')\n",
        "\n",
        "# Nodos\n",
        "labels = list(pd.concat([df_grouped['origen'], df_grouped['arr_airport_name']]).unique())\n",
        "label_indices = {label: idx for idx, label in enumerate(labels)}\n",
        "\n",
        "# Links\n",
        "source_indices = df_grouped['origen'].map(label_indices)\n",
        "target_indices = df_grouped['arr_airport_name'].map(label_indices)\n",
        "values = df_grouped['count']\n",
        "\n",
        "# Sankey básico\n",
        "fig = go.Figure(data=[go.Sankey(\n",
        "    node=dict(\n",
        "        pad=15,\n",
        "        thickness=20,\n",
        "        line=dict(color=\"black\", width=0.5),\n",
        "        label=labels\n",
        "    ),\n",
        "    link=dict(\n",
        "        source=source_indices,\n",
        "        target=target_indices,\n",
        "        value=values,\n",
        "        label=[f\"{src} → {tgt}: {val} vuelos\"\n",
        "               for src, tgt, val in zip(df_grouped['origen'], df_grouped['arr_airport_name'], values)]\n",
        "    )\n",
        ")])\n",
        "\n",
        "# Título\n",
        "fig.update_layout(title_text=f\"Flujo de vuelos desde España a los {top_n} aeropuertos internacionales con más vuelos\",\n",
        "                  font_size=12)\n",
        "\n",
        "# Mostrar\n",
        "fig.show()\n"
      ]
    },
    {
      "cell_type": "markdown",
      "id": "y0g9ZLcCYUfW",
      "metadata": {
        "id": "y0g9ZLcCYUfW"
      },
      "source": [
        "Tabla Resumen"
      ]
    },
    {
      "cell_type": "markdown",
      "id": "VYLbyeAlYJBa",
      "metadata": {
        "id": "VYLbyeAlYJBa"
      },
      "source": [
        "🧾 Resultado para el informe:\n",
        "Puedes describir la gráfica diciendo algo como:\n",
        "\n",
        "En la Gráfica representa el flujo de vuelos desde España hacia los 5 aeropuertos internacionales más frecuentes mediante un diagrama de Sankey. Cada enlace muestra la cantidad de vuelos entre el país de origen y cada destino."
      ]
    },
    {
      "cell_type": "markdown",
      "id": "ZDZRvcXbfA7W",
      "metadata": {
        "id": "ZDZRvcXbfA7W"
      },
      "source": []
    },
    {
      "cell_type": "code",
      "execution_count": 35,
      "id": "1ArsRzuXhR3K",
      "metadata": {
        "colab": {
          "base_uri": "https://localhost:8080/",
          "height": 542
        },
        "id": "1ArsRzuXhR3K",
        "outputId": "c2073ce5-a2b7-4fd6-d5e3-b026f38a6858"
      },
      "outputs": [
        {
          "data": {
            "application/vnd.plotly.v1+json": {
              "config": {
                "plotlyServerURL": "https://plot.ly"
              },
              "data": [
                {
                  "link": {
                    "label": [
                      "ALICANTE-ELCHE → AMSTERDAM /SCHIPHOL: 16 vuelos",
                      "ALICANTE-ELCHE → FRANKFURT: 5 vuelos",
                      "ALICANTE-ELCHE → LONDRES /GATWICK: 23 vuelos",
                      "ALICANTE-ELCHE → LONDRES /STANSTED: 12 vuelos",
                      "ALICANTE-ELCHE → MANCHESTER: 15 vuelos",
                      "BARCELONA-EL PRAT → AMSTERDAM /SCHIPHOL: 17 vuelos",
                      "BARCELONA-EL PRAT → FRANKFURT: 10 vuelos",
                      "BARCELONA-EL PRAT → LONDRES /GATWICK: 18 vuelos",
                      "BARCELONA-EL PRAT → LONDRES /STANSTED: 6 vuelos",
                      "BARCELONA-EL PRAT → MANCHESTER: 4 vuelos",
                      "MADRID-BARAJAS ADOLFO SUÁREZ → AMSTERDAM /SCHIPHOL: 10 vuelos",
                      "MADRID-BARAJAS ADOLFO SUÁREZ → FRANKFURT: 11 vuelos",
                      "MADRID-BARAJAS ADOLFO SUÁREZ → LONDRES /GATWICK: 5 vuelos",
                      "MADRID-BARAJAS ADOLFO SUÁREZ → LONDRES /STANSTED: 11 vuelos",
                      "MADRID-BARAJAS ADOLFO SUÁREZ → MANCHESTER: 3 vuelos",
                      "MALAGA-COSTA DEL SOL → AMSTERDAM /SCHIPHOL: 17 vuelos",
                      "MALAGA-COSTA DEL SOL → FRANKFURT: 5 vuelos",
                      "MALAGA-COSTA DEL SOL → LONDRES /GATWICK: 30 vuelos",
                      "MALAGA-COSTA DEL SOL → LONDRES /STANSTED: 12 vuelos",
                      "MALAGA-COSTA DEL SOL → MANCHESTER: 13 vuelos",
                      "PALMA DE MALLORCA → AMSTERDAM /SCHIPHOL: 6 vuelos",
                      "PALMA DE MALLORCA → FRANKFURT: 19 vuelos",
                      "PALMA DE MALLORCA → LONDRES /GATWICK: 18 vuelos",
                      "PALMA DE MALLORCA → LONDRES /STANSTED: 12 vuelos",
                      "PALMA DE MALLORCA → MANCHESTER: 16 vuelos"
                    ],
                    "source": {
                      "bdata": "AAAAAAABAQEBAQICAgICAwMDAwMEBAQEBA==",
                      "dtype": "i1"
                    },
                    "target": {
                      "bdata": "BQYHCAkFBgcICQUGBwgJBQYHCAkFBgcICQ==",
                      "dtype": "i1"
                    },
                    "value": {
                      "bdata": "EAUXDA8RChIGBAoLBQsDEQUeDA0GExIMEA==",
                      "dtype": "i1"
                    }
                  },
                  "node": {
                    "label": [
                      "ALICANTE-ELCHE",
                      "BARCELONA-EL PRAT",
                      "MADRID-BARAJAS ADOLFO SUÁREZ",
                      "MALAGA-COSTA DEL SOL",
                      "PALMA DE MALLORCA",
                      "AMSTERDAM /SCHIPHOL",
                      "FRANKFURT",
                      "LONDRES /GATWICK",
                      "LONDRES /STANSTED",
                      "MANCHESTER"
                    ],
                    "line": {
                      "color": "black",
                      "width": 0.5
                    },
                    "pad": 15,
                    "thickness": 20
                  },
                  "type": "sankey"
                }
              ],
              "layout": {
                "font": {
                  "size": 12
                },
                "template": {
                  "data": {
                    "bar": [
                      {
                        "error_x": {
                          "color": "#2a3f5f"
                        },
                        "error_y": {
                          "color": "#2a3f5f"
                        },
                        "marker": {
                          "line": {
                            "color": "#E5ECF6",
                            "width": 0.5
                          },
                          "pattern": {
                            "fillmode": "overlay",
                            "size": 10,
                            "solidity": 0.2
                          }
                        },
                        "type": "bar"
                      }
                    ],
                    "barpolar": [
                      {
                        "marker": {
                          "line": {
                            "color": "#E5ECF6",
                            "width": 0.5
                          },
                          "pattern": {
                            "fillmode": "overlay",
                            "size": 10,
                            "solidity": 0.2
                          }
                        },
                        "type": "barpolar"
                      }
                    ],
                    "carpet": [
                      {
                        "aaxis": {
                          "endlinecolor": "#2a3f5f",
                          "gridcolor": "white",
                          "linecolor": "white",
                          "minorgridcolor": "white",
                          "startlinecolor": "#2a3f5f"
                        },
                        "baxis": {
                          "endlinecolor": "#2a3f5f",
                          "gridcolor": "white",
                          "linecolor": "white",
                          "minorgridcolor": "white",
                          "startlinecolor": "#2a3f5f"
                        },
                        "type": "carpet"
                      }
                    ],
                    "choropleth": [
                      {
                        "colorbar": {
                          "outlinewidth": 0,
                          "ticks": ""
                        },
                        "type": "choropleth"
                      }
                    ],
                    "contour": [
                      {
                        "colorbar": {
                          "outlinewidth": 0,
                          "ticks": ""
                        },
                        "colorscale": [
                          [
                            0,
                            "#0d0887"
                          ],
                          [
                            0.1111111111111111,
                            "#46039f"
                          ],
                          [
                            0.2222222222222222,
                            "#7201a8"
                          ],
                          [
                            0.3333333333333333,
                            "#9c179e"
                          ],
                          [
                            0.4444444444444444,
                            "#bd3786"
                          ],
                          [
                            0.5555555555555556,
                            "#d8576b"
                          ],
                          [
                            0.6666666666666666,
                            "#ed7953"
                          ],
                          [
                            0.7777777777777778,
                            "#fb9f3a"
                          ],
                          [
                            0.8888888888888888,
                            "#fdca26"
                          ],
                          [
                            1,
                            "#f0f921"
                          ]
                        ],
                        "type": "contour"
                      }
                    ],
                    "contourcarpet": [
                      {
                        "colorbar": {
                          "outlinewidth": 0,
                          "ticks": ""
                        },
                        "type": "contourcarpet"
                      }
                    ],
                    "heatmap": [
                      {
                        "colorbar": {
                          "outlinewidth": 0,
                          "ticks": ""
                        },
                        "colorscale": [
                          [
                            0,
                            "#0d0887"
                          ],
                          [
                            0.1111111111111111,
                            "#46039f"
                          ],
                          [
                            0.2222222222222222,
                            "#7201a8"
                          ],
                          [
                            0.3333333333333333,
                            "#9c179e"
                          ],
                          [
                            0.4444444444444444,
                            "#bd3786"
                          ],
                          [
                            0.5555555555555556,
                            "#d8576b"
                          ],
                          [
                            0.6666666666666666,
                            "#ed7953"
                          ],
                          [
                            0.7777777777777778,
                            "#fb9f3a"
                          ],
                          [
                            0.8888888888888888,
                            "#fdca26"
                          ],
                          [
                            1,
                            "#f0f921"
                          ]
                        ],
                        "type": "heatmap"
                      }
                    ],
                    "histogram": [
                      {
                        "marker": {
                          "pattern": {
                            "fillmode": "overlay",
                            "size": 10,
                            "solidity": 0.2
                          }
                        },
                        "type": "histogram"
                      }
                    ],
                    "histogram2d": [
                      {
                        "colorbar": {
                          "outlinewidth": 0,
                          "ticks": ""
                        },
                        "colorscale": [
                          [
                            0,
                            "#0d0887"
                          ],
                          [
                            0.1111111111111111,
                            "#46039f"
                          ],
                          [
                            0.2222222222222222,
                            "#7201a8"
                          ],
                          [
                            0.3333333333333333,
                            "#9c179e"
                          ],
                          [
                            0.4444444444444444,
                            "#bd3786"
                          ],
                          [
                            0.5555555555555556,
                            "#d8576b"
                          ],
                          [
                            0.6666666666666666,
                            "#ed7953"
                          ],
                          [
                            0.7777777777777778,
                            "#fb9f3a"
                          ],
                          [
                            0.8888888888888888,
                            "#fdca26"
                          ],
                          [
                            1,
                            "#f0f921"
                          ]
                        ],
                        "type": "histogram2d"
                      }
                    ],
                    "histogram2dcontour": [
                      {
                        "colorbar": {
                          "outlinewidth": 0,
                          "ticks": ""
                        },
                        "colorscale": [
                          [
                            0,
                            "#0d0887"
                          ],
                          [
                            0.1111111111111111,
                            "#46039f"
                          ],
                          [
                            0.2222222222222222,
                            "#7201a8"
                          ],
                          [
                            0.3333333333333333,
                            "#9c179e"
                          ],
                          [
                            0.4444444444444444,
                            "#bd3786"
                          ],
                          [
                            0.5555555555555556,
                            "#d8576b"
                          ],
                          [
                            0.6666666666666666,
                            "#ed7953"
                          ],
                          [
                            0.7777777777777778,
                            "#fb9f3a"
                          ],
                          [
                            0.8888888888888888,
                            "#fdca26"
                          ],
                          [
                            1,
                            "#f0f921"
                          ]
                        ],
                        "type": "histogram2dcontour"
                      }
                    ],
                    "mesh3d": [
                      {
                        "colorbar": {
                          "outlinewidth": 0,
                          "ticks": ""
                        },
                        "type": "mesh3d"
                      }
                    ],
                    "parcoords": [
                      {
                        "line": {
                          "colorbar": {
                            "outlinewidth": 0,
                            "ticks": ""
                          }
                        },
                        "type": "parcoords"
                      }
                    ],
                    "pie": [
                      {
                        "automargin": true,
                        "type": "pie"
                      }
                    ],
                    "scatter": [
                      {
                        "fillpattern": {
                          "fillmode": "overlay",
                          "size": 10,
                          "solidity": 0.2
                        },
                        "type": "scatter"
                      }
                    ],
                    "scatter3d": [
                      {
                        "line": {
                          "colorbar": {
                            "outlinewidth": 0,
                            "ticks": ""
                          }
                        },
                        "marker": {
                          "colorbar": {
                            "outlinewidth": 0,
                            "ticks": ""
                          }
                        },
                        "type": "scatter3d"
                      }
                    ],
                    "scattercarpet": [
                      {
                        "marker": {
                          "colorbar": {
                            "outlinewidth": 0,
                            "ticks": ""
                          }
                        },
                        "type": "scattercarpet"
                      }
                    ],
                    "scattergeo": [
                      {
                        "marker": {
                          "colorbar": {
                            "outlinewidth": 0,
                            "ticks": ""
                          }
                        },
                        "type": "scattergeo"
                      }
                    ],
                    "scattergl": [
                      {
                        "marker": {
                          "colorbar": {
                            "outlinewidth": 0,
                            "ticks": ""
                          }
                        },
                        "type": "scattergl"
                      }
                    ],
                    "scattermap": [
                      {
                        "marker": {
                          "colorbar": {
                            "outlinewidth": 0,
                            "ticks": ""
                          }
                        },
                        "type": "scattermap"
                      }
                    ],
                    "scattermapbox": [
                      {
                        "marker": {
                          "colorbar": {
                            "outlinewidth": 0,
                            "ticks": ""
                          }
                        },
                        "type": "scattermapbox"
                      }
                    ],
                    "scatterpolar": [
                      {
                        "marker": {
                          "colorbar": {
                            "outlinewidth": 0,
                            "ticks": ""
                          }
                        },
                        "type": "scatterpolar"
                      }
                    ],
                    "scatterpolargl": [
                      {
                        "marker": {
                          "colorbar": {
                            "outlinewidth": 0,
                            "ticks": ""
                          }
                        },
                        "type": "scatterpolargl"
                      }
                    ],
                    "scatterternary": [
                      {
                        "marker": {
                          "colorbar": {
                            "outlinewidth": 0,
                            "ticks": ""
                          }
                        },
                        "type": "scatterternary"
                      }
                    ],
                    "surface": [
                      {
                        "colorbar": {
                          "outlinewidth": 0,
                          "ticks": ""
                        },
                        "colorscale": [
                          [
                            0,
                            "#0d0887"
                          ],
                          [
                            0.1111111111111111,
                            "#46039f"
                          ],
                          [
                            0.2222222222222222,
                            "#7201a8"
                          ],
                          [
                            0.3333333333333333,
                            "#9c179e"
                          ],
                          [
                            0.4444444444444444,
                            "#bd3786"
                          ],
                          [
                            0.5555555555555556,
                            "#d8576b"
                          ],
                          [
                            0.6666666666666666,
                            "#ed7953"
                          ],
                          [
                            0.7777777777777778,
                            "#fb9f3a"
                          ],
                          [
                            0.8888888888888888,
                            "#fdca26"
                          ],
                          [
                            1,
                            "#f0f921"
                          ]
                        ],
                        "type": "surface"
                      }
                    ],
                    "table": [
                      {
                        "cells": {
                          "fill": {
                            "color": "#EBF0F8"
                          },
                          "line": {
                            "color": "white"
                          }
                        },
                        "header": {
                          "fill": {
                            "color": "#C8D4E3"
                          },
                          "line": {
                            "color": "white"
                          }
                        },
                        "type": "table"
                      }
                    ]
                  },
                  "layout": {
                    "annotationdefaults": {
                      "arrowcolor": "#2a3f5f",
                      "arrowhead": 0,
                      "arrowwidth": 1
                    },
                    "autotypenumbers": "strict",
                    "coloraxis": {
                      "colorbar": {
                        "outlinewidth": 0,
                        "ticks": ""
                      }
                    },
                    "colorscale": {
                      "diverging": [
                        [
                          0,
                          "#8e0152"
                        ],
                        [
                          0.1,
                          "#c51b7d"
                        ],
                        [
                          0.2,
                          "#de77ae"
                        ],
                        [
                          0.3,
                          "#f1b6da"
                        ],
                        [
                          0.4,
                          "#fde0ef"
                        ],
                        [
                          0.5,
                          "#f7f7f7"
                        ],
                        [
                          0.6,
                          "#e6f5d0"
                        ],
                        [
                          0.7,
                          "#b8e186"
                        ],
                        [
                          0.8,
                          "#7fbc41"
                        ],
                        [
                          0.9,
                          "#4d9221"
                        ],
                        [
                          1,
                          "#276419"
                        ]
                      ],
                      "sequential": [
                        [
                          0,
                          "#0d0887"
                        ],
                        [
                          0.1111111111111111,
                          "#46039f"
                        ],
                        [
                          0.2222222222222222,
                          "#7201a8"
                        ],
                        [
                          0.3333333333333333,
                          "#9c179e"
                        ],
                        [
                          0.4444444444444444,
                          "#bd3786"
                        ],
                        [
                          0.5555555555555556,
                          "#d8576b"
                        ],
                        [
                          0.6666666666666666,
                          "#ed7953"
                        ],
                        [
                          0.7777777777777778,
                          "#fb9f3a"
                        ],
                        [
                          0.8888888888888888,
                          "#fdca26"
                        ],
                        [
                          1,
                          "#f0f921"
                        ]
                      ],
                      "sequentialminus": [
                        [
                          0,
                          "#0d0887"
                        ],
                        [
                          0.1111111111111111,
                          "#46039f"
                        ],
                        [
                          0.2222222222222222,
                          "#7201a8"
                        ],
                        [
                          0.3333333333333333,
                          "#9c179e"
                        ],
                        [
                          0.4444444444444444,
                          "#bd3786"
                        ],
                        [
                          0.5555555555555556,
                          "#d8576b"
                        ],
                        [
                          0.6666666666666666,
                          "#ed7953"
                        ],
                        [
                          0.7777777777777778,
                          "#fb9f3a"
                        ],
                        [
                          0.8888888888888888,
                          "#fdca26"
                        ],
                        [
                          1,
                          "#f0f921"
                        ]
                      ]
                    },
                    "colorway": [
                      "#636efa",
                      "#EF553B",
                      "#00cc96",
                      "#ab63fa",
                      "#FFA15A",
                      "#19d3f3",
                      "#FF6692",
                      "#B6E880",
                      "#FF97FF",
                      "#FECB52"
                    ],
                    "font": {
                      "color": "#2a3f5f"
                    },
                    "geo": {
                      "bgcolor": "white",
                      "lakecolor": "white",
                      "landcolor": "#E5ECF6",
                      "showlakes": true,
                      "showland": true,
                      "subunitcolor": "white"
                    },
                    "hoverlabel": {
                      "align": "left"
                    },
                    "hovermode": "closest",
                    "mapbox": {
                      "style": "light"
                    },
                    "paper_bgcolor": "white",
                    "plot_bgcolor": "#E5ECF6",
                    "polar": {
                      "angularaxis": {
                        "gridcolor": "white",
                        "linecolor": "white",
                        "ticks": ""
                      },
                      "bgcolor": "#E5ECF6",
                      "radialaxis": {
                        "gridcolor": "white",
                        "linecolor": "white",
                        "ticks": ""
                      }
                    },
                    "scene": {
                      "xaxis": {
                        "backgroundcolor": "#E5ECF6",
                        "gridcolor": "white",
                        "gridwidth": 2,
                        "linecolor": "white",
                        "showbackground": true,
                        "ticks": "",
                        "zerolinecolor": "white"
                      },
                      "yaxis": {
                        "backgroundcolor": "#E5ECF6",
                        "gridcolor": "white",
                        "gridwidth": 2,
                        "linecolor": "white",
                        "showbackground": true,
                        "ticks": "",
                        "zerolinecolor": "white"
                      },
                      "zaxis": {
                        "backgroundcolor": "#E5ECF6",
                        "gridcolor": "white",
                        "gridwidth": 2,
                        "linecolor": "white",
                        "showbackground": true,
                        "ticks": "",
                        "zerolinecolor": "white"
                      }
                    },
                    "shapedefaults": {
                      "line": {
                        "color": "#2a3f5f"
                      }
                    },
                    "ternary": {
                      "aaxis": {
                        "gridcolor": "white",
                        "linecolor": "white",
                        "ticks": ""
                      },
                      "baxis": {
                        "gridcolor": "white",
                        "linecolor": "white",
                        "ticks": ""
                      },
                      "bgcolor": "#E5ECF6",
                      "caxis": {
                        "gridcolor": "white",
                        "linecolor": "white",
                        "ticks": ""
                      }
                    },
                    "title": {
                      "x": 0.05
                    },
                    "xaxis": {
                      "automargin": true,
                      "gridcolor": "white",
                      "linecolor": "white",
                      "ticks": "",
                      "title": {
                        "standoff": 15
                      },
                      "zerolinecolor": "white",
                      "zerolinewidth": 2
                    },
                    "yaxis": {
                      "automargin": true,
                      "gridcolor": "white",
                      "linecolor": "white",
                      "ticks": "",
                      "title": {
                        "standoff": 15
                      },
                      "zerolinecolor": "white",
                      "zerolinewidth": 2
                    }
                  }
                },
                "title": {
                  "text": "Flujo de vuelos desde los 5 aeropuertos españoles con más vuelos a los 5 aeropuertos internacionales más frecuentes"
                }
              }
            }
          },
          "metadata": {},
          "output_type": "display_data"
        }
      ],
      "source": [
        "# Top destinos\n",
        "top_n = 5\n",
        "df_exterior = df_vuelos_salida_limpio[~df_vuelos_salida_limpio['arr_airport_name'].isin(\n",
        "    df_vuelos_salida_limpio['dep_airport_name'].unique())]\n",
        "\n",
        "df_top = df_exterior[df_exterior['arr_airport_name'].isin(\n",
        "    df_exterior['arr_airport_name'].value_counts().nlargest(top_n).index)]\n",
        "\n",
        "# Agrupamos\n",
        "# df_top['origen'] = 'España' # Eliminamos esta línea ya que queremos los aeropuertos de origen específicos\n",
        "df_top['origen'] = df_top['dep_airport_name'] # Usamos la columna de aeropuerto de salida como origen\n",
        "\n",
        "# Para obtener los aeropuertos de España con más vuelos de salida, primero contamos los vuelos por aeropuerto de salida en el DataFrame original (o en df_vuelos_salida_limpio)\n",
        "top_origenes_esp = df_vuelos_salida_limpio['dep_airport_name'].value_counts().nlargest(top_n).index.tolist()\n",
        "\n",
        "# Filtramos df_top para incluir solo los vuelos que salen de estos top aeropuertos de origen en España\n",
        "df_top = df_top[df_top['origen'].isin(top_origenes_esp)]\n",
        "\n",
        "\n",
        "df_grouped = df_top.groupby(['origen', 'arr_airport_name']).size().reset_index(name='count')\n",
        "\n",
        "# Nodos\n",
        "# Incluimos los aeropuertos de origen en los nodos\n",
        "labels = list(pd.concat([df_grouped['origen'], df_grouped['arr_airport_name']]).unique())\n",
        "label_indices = {label: idx for idx, label in enumerate(labels)}\n",
        "\n",
        "# Links\n",
        "source_indices = df_grouped['origen'].map(label_indices)\n",
        "target_indices = df_grouped['arr_airport_name'].map(label_indices)\n",
        "values = df_grouped['count']\n",
        "\n",
        "# Sankey básico\n",
        "fig = go.Figure(data=[go.Sankey(\n",
        "    node=dict(\n",
        "        pad=15,\n",
        "        thickness=20,\n",
        "        line=dict(color=\"black\", width=0.5),\n",
        "        label=labels # Usamos la lista de etiquetas que ahora incluye los aeropuertos de origen\n",
        "    ),\n",
        "    link=dict(\n",
        "        source=source_indices,\n",
        "        target=target_indices,\n",
        "        value=values,\n",
        "        label=[f\"{src} → {tgt}: {val} vuelos\"\n",
        "               for src, tgt, val in zip(df_grouped['origen'], df_grouped['arr_airport_name'], values)]\n",
        "    )\n",
        ")])\n",
        "\n",
        "# Título\n",
        "fig.update_layout(title_text=f\"Flujo de vuelos desde los {top_n} aeropuertos españoles con más vuelos a los {top_n} aeropuertos internacionales más frecuentes\",\n",
        "                  font_size=12)\n",
        "\n",
        "# Mostrar\n",
        "fig.show()"
      ]
    },
    {
      "cell_type": "markdown",
      "id": "WPlCsbC1beg-",
      "metadata": {
        "id": "WPlCsbC1beg-"
      },
      "source": [
        "### **Exportar datasets limpios**"
      ]
    },
    {
      "cell_type": "code",
      "execution_count": 36,
      "id": "ugSotwWNbvVn",
      "metadata": {
        "colab": {
          "base_uri": "https://localhost:8080/"
        },
        "id": "ugSotwWNbvVn",
        "outputId": "264b80cf-dafe-40e2-eefe-d4b8f359ba5d"
      },
      "outputs": [
        {
          "name": "stdout",
          "output_type": "stream",
          "text": [
            "Limpieza completada. Los datasets (Vuelos Nacionales y Internacionales) estan limpios y preparados para el EDA\n"
          ]
        }
      ],
      "source": [
        "# Exportar conjunto de datos de infovuelo procesados (limpios)\n",
        "# Estos datrames pueden ser usados en Tableau o PowerBI para sacarmos las graficas y tablas para análisis\n",
        "\n",
        "df_vuelos_salida_limpio.to_csv('vuelos_internacionales_salida_limpio.csv', index=False)\n",
        "df_vuelos_llegada_limpio.to_csv('vuelos_internacionales_llegada_limpio.csv', index=False)\n",
        "df_vuelos_nacionales_limpio.to_csv('vuelos_nacionales_limpio.csv', index=False)\n",
        "\n",
        "print(\"Limpieza completada. Los datasets (Vuelos Nacionales y Internacionales) estan limpios y preparados para el EDA\")"
      ]
    },
    {
      "cell_type": "markdown",
      "id": "LZ9FGr2A5J0l",
      "metadata": {
        "id": "LZ9FGr2A5J0l"
      },
      "source": [
        "## 📌 **Conclusiones**\n",
        "- Resumen de criterios (magnitud y tendencia) y hallazgos (destino con mayor aumento, mayor descenso, etc.)."
      ]
    },
    {
      "cell_type": "markdown",
      "id": "GRI4O0OZabP7",
      "metadata": {
        "id": "GRI4O0OZabP7"
      },
      "source": [
        "A partir del análisis realizado:\n",
        "\n",
        "- Se identificaron los destinos con mayor volumen de vuelos (ej. Madrid, Barcelona, Palma de Mallorca).\n",
        "- Se observan patrones de aumento o estabilidad en algunos destinos en los días analizados.\n",
        "\n",
        "\n",
        "- Se utilizó el dataset de vuelos como indicador de popularidad de destinos.\n",
        "- Se calculó la proporción de vuelos en el primer y último mes, y su cambio absoluto.\n",
        "- Se identificó los 10 destinos con mayor participación en el último periodo y mostramos su tendencia.\n",
        "- Este enfoque se puede ampliar a otros datasets turísticos (alojamientos, reseñas, etc.) para enriquecer el análisis.\n",
        "\n",
        "\n",
        "Para un análisis más avanzado podrían incluirse:\n",
        "- Volumen de pasajeros (si existiese en el dataset).\n",
        "- Estacionalidad mensual o semanal.\n",
        "- Enriquecimiento con datos externos de turismo o actividades económicas."
      ]
    }
  ],
  "metadata": {
    "colab": {
      "provenance": []
    },
    "kernelspec": {
      "display_name": "python3921",
      "language": "python",
      "name": "python3"
    },
    "language_info": {
      "codemirror_mode": {
        "name": "ipython",
        "version": 3
      },
      "file_extension": ".py",
      "mimetype": "text/x-python",
      "name": "python",
      "nbconvert_exporter": "python",
      "pygments_lexer": "ipython3",
      "version": "3.9.21"
    }
  },
  "nbformat": 4,
  "nbformat_minor": 5
}
